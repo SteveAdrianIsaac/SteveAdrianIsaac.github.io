{
 "cells": [
  {
   "cell_type": "code",
   "execution_count": 23,
   "id": "initial_id",
   "metadata": {
    "collapsed": true,
    "ExecuteTime": {
     "end_time": "2023-11-06T22:45:46.327864800Z",
     "start_time": "2023-11-06T22:45:46.291443600Z"
    }
   },
   "outputs": [],
   "source": [
    "import pandas as pd\n",
    "import numpy as np\n",
    "import matplotlib.pyplot as plt\n",
    "from pycanon import anonymity as pyc\n",
    "%matplotlib inline"
   ]
  },
  {
   "cell_type": "code",
   "execution_count": 24,
   "outputs": [
    {
     "name": "stdout",
     "output_type": "stream",
     "text": [
      "                                                     link  \\\n",
      "8697    https://www.huffingtonpost.com/entry/north-kor...   \n",
      "8698    https://www.huffingtonpost.com/entry/mississau...   \n",
      "8699    https://www.huffingtonpost.com/entry/irish-tra...   \n",
      "8700    https://www.huffingtonpost.com/entry/ireland-a...   \n",
      "8701    https://www.huffingtonpost.com/entry/warriors-...   \n",
      "...                                                   ...   \n",
      "209501  https://www.huffingtonpost.com/entry/tom-brady...   \n",
      "209523  https://www.huffingtonpost.com/entry/maria-sha...   \n",
      "209524  https://www.huffingtonpost.com/entry/super-bow...   \n",
      "209525  https://www.huffingtonpost.com/entry/aldon-smi...   \n",
      "209526  https://www.huffingtonpost.com/entry/dwight-ho...   \n",
      "\n",
      "                                                 headline      category  \\\n",
      "8697    North Korea Still Open To Talks After Trump Ca...    WORLD NEWS   \n",
      "8698    2 Men Detonate Bomb Inside Indian Restaurant N...    WORLD NEWS   \n",
      "8699    Thousands Travel Home To Ireland To Vote On Ab...    WORLD NEWS   \n",
      "8700    Irish Voters Set To Liberalize Abortion Laws I...    WORLD NEWS   \n",
      "8701    Warriors Coach Steve Kerr Calls NFL Ban On Pro...  BLACK VOICES   \n",
      "...                                                   ...           ...   \n",
      "209501  Tom Brady Helps Mentor, Tom Martinez, Find A K...        IMPACT   \n",
      "209523  Maria Sharapova Stunned By Victoria Azarenka I...        SPORTS   \n",
      "209524  Giants Over Patriots, Jets Over Colts Among  M...        SPORTS   \n",
      "209525  Aldon Smith Arrested: 49ers Linebacker Busted ...        SPORTS   \n",
      "209526  Dwight Howard Rips Teammates After Magic Loss ...        SPORTS   \n",
      "\n",
      "                                        short_description  \\\n",
      "8697    Trump’s announcement came after repeated threa...   \n",
      "8698    Fifteen people were taken to the hospital, thr...   \n",
      "8699    Just try to read these #HomeToVote tweets with...   \n",
      "8700                   Vote counting will begin Saturday.   \n",
      "8701    Forbidding players to take a knee during the n...   \n",
      "...                                                   ...   \n",
      "209501  Since Brady started promoting Martinez's cause...   \n",
      "209523  Afterward, Azarenka, more effusive with the pr...   \n",
      "209524  Leading up to Super Bowl XLVI, the most talked...   \n",
      "209525  CORRECTION: An earlier version of this story i...   \n",
      "209526  The five-time all-star center tore into his te...   \n",
      "\n",
      "                                      authors       date  \n",
      "8697    Josh Smith and Christine Kim, Reuters 2018-05-25  \n",
      "8698                                          2018-05-25  \n",
      "8699                         Antonia Blumberg 2018-05-25  \n",
      "8700                                          2018-05-25  \n",
      "8701                        Sebastian Murdock 2018-05-25  \n",
      "...                                       ...        ...  \n",
      "209501                                        2012-01-28  \n",
      "209523                                        2012-01-28  \n",
      "209524                                        2012-01-28  \n",
      "209525                                        2012-01-28  \n",
      "209526                                        2012-01-28  \n",
      "\n",
      "[61500 rows x 6 columns]\n"
     ]
    }
   ],
   "source": [
    "df = pd.read_json('input\\\\News_Category_Dataset_v3.json',lines=True)\n",
    "#df[pd.to_datetime(df[\"date\"]).dt.strftime('%Y-%m-%d')<\"2018-06-01\"].head(10)\n",
    "beforeMay2018 = df[pd.to_datetime(df[\"date\"]).dt.strftime('%Y-%m-%d')<=\"2019-01-31\"] # 2018-05-26\n",
    "#beforeMay2018v2 = df[df[\"date\"]<\"2018-06-01\"]\n",
    "#print(beforeMay2018v2 == beforeMay2018)\n",
    "\n",
    "required_columns = [\"BLACK VOICES\",\n",
    "                    \"COMEDY\",\n",
    "                    \"CRIME\",\n",
    "                    \"DIVORCE\",\n",
    "                    \"GREEN\",\n",
    "                    \"HOME & LIVING\",\n",
    "                    \"IMPACT\",\n",
    "                    \"MEDIA\",\n",
    "                    \"PARENTS\",\n",
    "                    \"RELIGION\",\n",
    "                    \"SPORTS\",\n",
    "                    \"STYLE\",\n",
    "                    \"THE WORLDPOST\",\n",
    "                    \"WEDDINGS\",\n",
    "                    \"WEIRD NEWS\",\n",
    "                    \"WOMEN\",\n",
    "                    \"WORLD NEWS\",\n",
    "                    \"WORLDPOST\"]\n",
    "df = df[df[\"date\"] < \"2018-05-26\"]\n",
    "df = df[df[\"category\"].isin(required_columns)]\n",
    "print(df)\n",
    "\n",
    "#required_categories = df[]\n"
   ],
   "metadata": {
    "collapsed": false,
    "ExecuteTime": {
     "end_time": "2023-11-06T21:33:10.154915Z",
     "start_time": "2023-11-06T21:33:07.552918900Z"
    }
   },
   "id": "6948888ac6ae652d"
  },
  {
   "cell_type": "code",
   "execution_count": 25,
   "outputs": [
    {
     "name": "stdout",
     "output_type": "stream",
     "text": [
      "link                 61500\n",
      "headline             61500\n",
      "category             61500\n",
      "short_description    61500\n",
      "authors              61500\n",
      "date                 61500\n",
      "dtype: int64\n"
     ]
    }
   ],
   "source": [
    "beforeMay2018.head(50)\n",
    "# df= beforeMay2018\n",
    "#df =\n",
    "print(df.count())"
   ],
   "metadata": {
    "collapsed": false
   }
  },
  {
   "cell_type": "markdown",
   "source": [
    "### Matching Dataset to Kamboj and Chongtham"
   ],
   "metadata": {
    "collapsed": false
   },
   "id": "f218fe129b27f752"
  },
  {
   "cell_type": "code",
   "execution_count": 26,
   "outputs": [
    {
     "data": {
      "text/plain": "category\nCOMEDY           5175\nSPORTS           4884\nBLACK VOICES     4528\nHOME & LIVING    4195\nPARENTS          3955\nTHE WORLDPOST    3664\nWEDDINGS         3651\nWOMEN            3490\nIMPACT           3458\nDIVORCE          3426\nCRIME            3404\nMEDIA            2815\nWEIRD NEWS       2668\nGREEN            2622\nWORLDPOST        2579\nRELIGION         2556\nSTYLE            2254\nWORLD NEWS       2176\nName: count, dtype: int64"
     },
     "execution_count": 26,
     "metadata": {},
     "output_type": "execute_result"
    }
   ],
   "source": [
    "#df['category'].value_counts().to_csv('counts2.csv')\n",
    "\n",
    "df['category'].value_counts()"
   ],
   "metadata": {
    "collapsed": false
   }
  },
  {
   "cell_type": "code",
   "execution_count": 27,
   "outputs": [
    {
     "data": {
      "text/plain": "<Figure size 1080x720 with 1 Axes>",
      "image/png": "[encoded data removed]"
     },
     "metadata": {
      "needs_background": "light"
     },
     "output_type": "display_data"
    }
   ],
   "source": [
    "df['category'].value_counts().plot(kind='bar', figsize=(15,10))\n",
    "\n",
    "plt.xlabel(\"Total\")\n",
    "plt.ylabel(\"Category\")\n",
    "plt.title('Category against total amount.', size=12)\n",
    "plt.show()"
   ],
   "metadata": {
    "collapsed": false,
    "ExecuteTime": {
     "end_time": "2023-11-06T21:34:22.552730900Z",
     "start_time": "2023-11-06T21:34:22.491725100Z"
    }
   },
   "id": "8b510b5faec8df67"
  },
  {
   "cell_type": "code",
   "execution_count": 28,
   "outputs": [
    {
     "name": "stdout",
     "output_type": "stream",
     "text": [
      "There are 1 duplicates found in the dataset\n",
      "(61499, 2)\n"
     ]
    },
    {
     "data": {
      "text/plain": "                                                  64507   \\\nlabel                                             SPORTS   \ntitle  Ayesha Curry Says Game 6 Of The NBA Finals Was...   \n\n                                                  186401  \\\nlabel                                            DIVORCE   \ntitle  Letting Go of the Need to Forgive\\n\\n\\nAs I ob...   \n\n                                                  125341  \\\nlabel                                          WORLDPOST   \ntitle  Possible Gaza Truce Hinges On Complex Negotiat...   \n\n                                                  36356   \\\nlabel                                              CRIME   \ntitle  Synthetic Pot Use Poses A Big Problem For Bure...   \n\n                                                  57674   \nlabel                                            PARENTS  \ntitle  Funniest Parenting Tweets: What Moms And Dads ...  ",
      "text/html": "<div>\n<style scoped>\n    .dataframe tbody tr th:only-of-type {\n        vertical-align: middle;\n    }\n\n    .dataframe tbody tr th {\n        vertical-align: top;\n    }\n\n    .dataframe thead th {\n        text-align: right;\n    }\n</style>\n<table border=\"1\" class=\"dataframe\">\n  <thead>\n    <tr style=\"text-align: right;\">\n      <th></th>\n      <th>64507</th>\n      <th>186401</th>\n      <th>125341</th>\n      <th>36356</th>\n      <th>57674</th>\n    </tr>\n  </thead>\n  <tbody>\n    <tr>\n      <th>label</th>\n      <td>SPORTS</td>\n      <td>DIVORCE</td>\n      <td>WORLDPOST</td>\n      <td>CRIME</td>\n      <td>PARENTS</td>\n    </tr>\n    <tr>\n      <th>title</th>\n      <td>Ayesha Curry Says Game 6 Of The NBA Finals Was...</td>\n      <td>Letting Go of the Need to Forgive\\n\\n\\nAs I ob...</td>\n      <td>Possible Gaza Truce Hinges On Complex Negotiat...</td>\n      <td>Synthetic Pot Use Poses A Big Problem For Bure...</td>\n      <td>Funniest Parenting Tweets: What Moms And Dads ...</td>\n    </tr>\n  </tbody>\n</table>\n</div>"
     },
     "execution_count": 28,
     "metadata": {},
     "output_type": "execute_result"
    }
   ],
   "source": [
    "#from https://www.kaggle.com/code/dima806/news-category-classification-distilbert\n",
    "\n",
    "item0 = df.shape[0]  # Store the initial number of items in the DataFrame\n",
    "df = df.drop_duplicates()  # Remove duplicate rows from the DataFrame\n",
    "item1 = df.shape[0]  # Store the number of items in the DataFrame after removing duplicates\n",
    "print(f\"There are {item0-item1} duplicates found in the dataset\")  # Print the number of duplicates removed\n",
    "\n",
    "df = df.rename(columns={'category': 'label'})  # Rename the 'category' column to 'label'\n",
    "\n",
    "df['title'] = df['headline'] + '\\n\\n\\n' + df['short_description']  # Create a new 'title' column by combining 'headline' and 'short_description'\n",
    "\n",
    "df = df[['label', 'title']]  # Select only the 'label' and 'title' columns\n",
    "df = df[~df['title'].isnull()]  # Remove rows where 'title' is null\n",
    "df = df[~df['label'].isnull()]  # Remove rows where 'label' is null\n",
    "\n",
    "print(df.shape)  # Print the shape of the DataFrame after data preprocessing\n",
    "df.sample(5).T  # Display a random sample of 5 rows from the DataFrame"
   ],
   "metadata": {
    "collapsed": false
   }
  },
  {
   "cell_type": "code",
   "execution_count": 29,
   "outputs": [
    {
     "name": "stdout",
     "output_type": "stream",
     "text": [
      "Mapping of IDs to Labels: {'BLACK VOICES': array([1., 0., 0., 0., 0., 0., 0., 0., 0., 0., 0., 0., 0., 0., 0., 0., 0.,\n",
      "       0.]), 'COMEDY': array([0., 1., 0., 0., 0., 0., 0., 0., 0., 0., 0., 0., 0., 0., 0., 0., 0.,\n",
      "       0.]), 'CRIME': array([0., 0., 1., 0., 0., 0., 0., 0., 0., 0., 0., 0., 0., 0., 0., 0., 0.,\n",
      "       0.]), 'DIVORCE': array([0., 0., 0., 1., 0., 0., 0., 0., 0., 0., 0., 0., 0., 0., 0., 0., 0.,\n",
      "       0.]), 'GREEN': array([0., 0., 0., 0., 1., 0., 0., 0., 0., 0., 0., 0., 0., 0., 0., 0., 0.,\n",
      "       0.]), 'HOME & LIVING': array([0., 0., 0., 0., 0., 1., 0., 0., 0., 0., 0., 0., 0., 0., 0., 0., 0.,\n",
      "       0.]), 'IMPACT': array([0., 0., 0., 0., 0., 0., 1., 0., 0., 0., 0., 0., 0., 0., 0., 0., 0.,\n",
      "       0.]), 'MEDIA': array([0., 0., 0., 0., 0., 0., 0., 1., 0., 0., 0., 0., 0., 0., 0., 0., 0.,\n",
      "       0.]), 'PARENTS': array([0., 0., 0., 0., 0., 0., 0., 0., 1., 0., 0., 0., 0., 0., 0., 0., 0.,\n",
      "       0.]), 'RELIGION': array([0., 0., 0., 0., 0., 0., 0., 0., 0., 1., 0., 0., 0., 0., 0., 0., 0.,\n",
      "       0.]), 'SPORTS': array([0., 0., 0., 0., 0., 0., 0., 0., 0., 0., 1., 0., 0., 0., 0., 0., 0.,\n",
      "       0.]), 'STYLE': array([0., 0., 0., 0., 0., 0., 0., 0., 0., 0., 0., 1., 0., 0., 0., 0., 0.,\n",
      "       0.]), 'THE WORLDPOST': array([0., 0., 0., 0., 0., 0., 0., 0., 0., 0., 0., 0., 1., 0., 0., 0., 0.,\n",
      "       0.]), 'WEDDINGS': array([0., 0., 0., 0., 0., 0., 0., 0., 0., 0., 0., 0., 0., 1., 0., 0., 0.,\n",
      "       0.]), 'WEIRD NEWS': array([0., 0., 0., 0., 0., 0., 0., 0., 0., 0., 0., 0., 0., 0., 1., 0., 0.,\n",
      "       0.]), 'WOMEN': array([0., 0., 0., 0., 0., 0., 0., 0., 0., 0., 0., 0., 0., 0., 0., 1., 0.,\n",
      "       0.]), 'WORLD NEWS': array([0., 0., 0., 0., 0., 0., 0., 0., 0., 0., 0., 0., 0., 0., 0., 0., 1.,\n",
      "       0.]), 'WORLDPOST': array([0., 0., 0., 0., 0., 0., 0., 0., 0., 0., 0., 0., 0., 0., 0., 0., 0.,\n",
      "       1.])}\n"
     ]
    }
   ],
   "source": [
    "\n",
    "from sklearn.preprocessing import OneHotEncoder\n",
    "# Create a list of unique labels\n",
    "labels_list = sorted(list(df['label'].unique()))\n",
    "\n",
    "# Initialize empty dictionaries to map labels to IDs and vice versa\n",
    "labelDict = dict()\n",
    "\n",
    "# Iterate over the unique labels and assign each label an ID, and vice versa\n",
    "\n",
    "y = np.array(labels_list).reshape(-1, 1)\n",
    "encoder = OneHotEncoder(sparse=False)\n",
    "y_one_hot = encoder.fit_transform(y)\n",
    "#print(y_one_hot)\n",
    "\n",
    "\n",
    "for i, label in enumerate(labels_list):\n",
    "    labelDict[label] = y_one_hot[i]  # Map the label to its corresponding one hot encoding\n",
    "\n",
    "# Print the resulting dictionaries for reference\n",
    "print(\"Mapping of IDs to Labels:\", labelDict)\n",
    "#print(\"Mapping of Labels to IDs:\", oneHotDict)\n"
   ],
   "metadata": {
    "collapsed": false
   }
  },
  {
   "cell_type": "code",
   "execution_count": 29,
   "outputs": [],
   "source": [],
   "metadata": {
    "collapsed": false
   }
  },
  {
   "cell_type": "code",
   "execution_count": 29,
   "outputs": [],
   "source": [],
   "metadata": {
    "collapsed": false
   }
  },
  {
   "cell_type": "markdown",
   "source": [],
   "metadata": {
    "collapsed": false
   }
  },
  {
   "cell_type": "markdown",
   "source": [],
   "metadata": {
    "collapsed": false
   }
  },
  {
   "cell_type": "markdown",
   "source": [
    "## DATA PRE-PROCESSING"
   ],
   "metadata": {
    "collapsed": false
   }
  },
  {
   "cell_type": "code",
   "execution_count": 30,
   "outputs": [],
   "source": [
    "#"
   ],
   "metadata": {
    "collapsed": false
   }
  },
  {
   "cell_type": "code",
   "execution_count": 31,
   "outputs": [],
   "source": [
    "import random\n",
    "random.seed(1234567890)"
   ],
   "metadata": {
    "collapsed": false
   }
  },
  {
   "cell_type": "markdown",
   "source": [
    "### TODO: SET A RANDOM SEED"
   ],
   "metadata": {
    "collapsed": false
   }
  },
  {
   "cell_type": "markdown",
   "source": [
    "#### Convert String to lower, remove stop words\n",
    "#### TOKENIZATION (string to list of string)\n",
    "#### Word2Vec in embedding layer- text-> numerical -> 2 layer neural networks vectorizing words to analyze text"
   ],
   "metadata": {
    "collapsed": false
   }
  },
  {
   "cell_type": "code",
   "execution_count": 32,
   "outputs": [],
   "source": [
    "##### Remove Punctuation\n",
    "### Remove Stemming\n",
    "### Remove Special Characters\n",
    "### Remove Stopwords\n",
    "### Remove Missing Values\n",
    "### Remove Extra spaces"
   ],
   "metadata": {
    "collapsed": false
   }
  },
  {
   "cell_type": "code",
   "execution_count": 33,
   "outputs": [
    {
     "name": "stderr",
     "output_type": "stream",
     "text": [
      "[nltk_data] Downloading package punkt to\n",
      "[nltk_data]     C:\\Users\\steve\\AppData\\Roaming\\nltk_data...\n",
      "[nltk_data]   Package punkt is already up-to-date!\n"
     ]
    },
    {
     "data": {
      "text/plain": "             label                                              title\n8697    WORLD NEWS  North Korea Still Open To Talks After Trump Ca...\n8698    WORLD NEWS  2 Men Detonate Bomb Inside Indian Restaurant N...\n8699    WORLD NEWS  Thousands Travel Home To Ireland To Vote On Ab...\n8700    WORLD NEWS  Irish Voters Set To Liberalize Abortion Laws I...\n8701  BLACK VOICES  Warriors Coach Steve Kerr Calls NFL Ban On Pro...",
      "text/html": "<div>\n<style scoped>\n    .dataframe tbody tr th:only-of-type {\n        vertical-align: middle;\n    }\n\n    .dataframe tbody tr th {\n        vertical-align: top;\n    }\n\n    .dataframe thead th {\n        text-align: right;\n    }\n</style>\n<table border=\"1\" class=\"dataframe\">\n  <thead>\n    <tr style=\"text-align: right;\">\n      <th></th>\n      <th>label</th>\n      <th>title</th>\n    </tr>\n  </thead>\n  <tbody>\n    <tr>\n      <th>8697</th>\n      <td>WORLD NEWS</td>\n      <td>North Korea Still Open To Talks After Trump Ca...</td>\n    </tr>\n    <tr>\n      <th>8698</th>\n      <td>WORLD NEWS</td>\n      <td>2 Men Detonate Bomb Inside Indian Restaurant N...</td>\n    </tr>\n    <tr>\n      <th>8699</th>\n      <td>WORLD NEWS</td>\n      <td>Thousands Travel Home To Ireland To Vote On Ab...</td>\n    </tr>\n    <tr>\n      <th>8700</th>\n      <td>WORLD NEWS</td>\n      <td>Irish Voters Set To Liberalize Abortion Laws I...</td>\n    </tr>\n    <tr>\n      <th>8701</th>\n      <td>BLACK VOICES</td>\n      <td>Warriors Coach Steve Kerr Calls NFL Ban On Pro...</td>\n    </tr>\n  </tbody>\n</table>\n</div>"
     },
     "execution_count": 33,
     "metadata": {},
     "output_type": "execute_result"
    }
   ],
   "source": [
    "from nltk.corpus import stopwords\n",
    "from nltk.tokenize import word_tokenize\n",
    "import nltk\n",
    "nltk.download('punkt')\n",
    "import re\n",
    "from nltk.stem import WordNetLemmatizer\n",
    "\n",
    "lemmatizer = WordNetLemmatizer()\n",
    "import gensim\n",
    "from gensim.models import Word2Vec\n",
    "\n",
    "\n",
    "df.head()\n",
    "#\n",
    "# def textCleaning(col_name):\n",
    "#     ''' returns tuple https://www.geeksforgeeks.org/removing-stop-words-nltk-python/\n",
    "#     [0] returns all word tokens from the provided text\n",
    "#     [1] returns stop words in the text '''\n",
    "#\n",
    "#     # clean dataset first:\n",
    "#     #clean news headlines\n",
    "#     cleanColumn('headline')\n",
    "#     # clean desc\n",
    "#     #cleanColumn('short_description')\n",
    "#\n",
    "#\n",
    "#\n",
    "#     return (headline_corpus, description_corpus)\n",
    "\n",
    "# def getCorpus():\n",
    "#     corpus = []\n",
    "#     for col in df:\n",
    "\n"
   ],
   "metadata": {
    "collapsed": false
   }
  },
  {
   "cell_type": "code",
   "execution_count": 57,
   "outputs": [
    {
     "name": "stdout",
     "output_type": "stream",
     "text": [
      "Collecting neattext\n",
      "  Downloading neattext-0.1.3-py3-none-any.whl (114 kB)\n",
      "     -------------------------------------- 114.7/114.7 kB 2.2 MB/s eta 0:00:00\n",
      "Installing collected packages: neattext\n",
      "Successfully installed neattext-0.1.3\n"
     ]
    },
    {
     "name": "stderr",
     "output_type": "stream",
     "text": [
      "DEPRECATION: pyodbc 4.0.0-unsupported has a non-standard version number. pip 24.0 will enforce this behaviour change. A possible replacement is to upgrade to a newer version of pyodbc or contact the author to suggest that they release a version with a conforming version number. Discussion can be found at https://github.com/pypa/pip/issues/12063\n"
     ]
    }
   ],
   "source": [
    "!pip install neattext"
   ],
   "metadata": {
    "collapsed": false
   }
  },
  {
   "cell_type": "code",
   "execution_count": 60,
   "outputs": [],
   "source": [
    "import neattext.functions as nfx\n",
    "\n",
    "lemmatizer = WordNetLemmatizer()\n",
    "tknzr = nltk.tokenize\n",
    "\n",
    "def lemmatize_text(text):\n",
    "    return [lemmatizer.lemmatize(w) for w in tknzr.word_tokenize(text)]\n",
    "\n",
    "corpus = df['title'].astype(str)\n",
    "corpus = corpus.apply(nfx.remove_stopwords)\n",
    "corpus = corpus.apply(nfx.remove_special_characters)\n",
    "corpus = corpus.apply(nfx.remove_multiple_spaces)\n",
    "corpus = corpus.str.lower()\n",
    "corpus = corpus.apply(lemmatize_text)\n",
    "\n",
    "df['title'] = corpus"
   ],
   "metadata": {
    "collapsed": false
   }
  },
  {
   "cell_type": "code",
   "execution_count": 61,
   "outputs": [
    {
     "data": {
      "text/plain": "             label                                              title\n8697    WORLD NEWS  [north, korea, still, open, talk, trump, cance...\n8698    WORLD NEWS  [men, detonate, bomb, inside, indian, restaura...\n8699    WORLD NEWS  [thousand, travel, home, ireland, vote, aborti...\n8700    WORLD NEWS  [irish, voter, set, liberalize, abortion, law,...\n8701  BLACK VOICES  [warrior, coach, steve, kerr, call, nfl, ban, ...",
      "text/html": "<div>\n<style scoped>\n    .dataframe tbody tr th:only-of-type {\n        vertical-align: middle;\n    }\n\n    .dataframe tbody tr th {\n        vertical-align: top;\n    }\n\n    .dataframe thead th {\n        text-align: right;\n    }\n</style>\n<table border=\"1\" class=\"dataframe\">\n  <thead>\n    <tr style=\"text-align: right;\">\n      <th></th>\n      <th>label</th>\n      <th>title</th>\n    </tr>\n  </thead>\n  <tbody>\n    <tr>\n      <th>8697</th>\n      <td>WORLD NEWS</td>\n      <td>[north, korea, still, open, talk, trump, cance...</td>\n    </tr>\n    <tr>\n      <th>8698</th>\n      <td>WORLD NEWS</td>\n      <td>[men, detonate, bomb, inside, indian, restaura...</td>\n    </tr>\n    <tr>\n      <th>8699</th>\n      <td>WORLD NEWS</td>\n      <td>[thousand, travel, home, ireland, vote, aborti...</td>\n    </tr>\n    <tr>\n      <th>8700</th>\n      <td>WORLD NEWS</td>\n      <td>[irish, voter, set, liberalize, abortion, law,...</td>\n    </tr>\n    <tr>\n      <th>8701</th>\n      <td>BLACK VOICES</td>\n      <td>[warrior, coach, steve, kerr, call, nfl, ban, ...</td>\n    </tr>\n  </tbody>\n</table>\n</div>"
     },
     "execution_count": 61,
     "metadata": {},
     "output_type": "execute_result"
    }
   ],
   "source": [
    "df.head()\n",
    "# from nltk.stem import WordNetLemmatizer\n",
    "#\n",
    "# lemmatizer = WordNetLemmatizer()\n",
    "# tknzr = nltk.tokenize\n",
    "#\n",
    "# def lemmatize_text(text):\n",
    "#     return [lemmatizer.lemmatize(w) for w in tknzr.word_tokenize(text)]\n",
    "#\n",
    "#\n",
    "# def cleanTitle(col_name=\"title\"):\n",
    "#     '''Cleans a column's punctuation, tags, and digits https://builtin.com/machine-learning/nlp-word2vec-python'''\n",
    "#     clean_col = []\n",
    "#\n",
    "#     stop_words = set(stopwords.words('english'))\n",
    "#     df[col_name] = df[col_name].astype(str)\n",
    "#     df.reset_index()\n",
    "#     #c = df[col_name].apply(lemmatize_text)\n",
    "#\n",
    "#     for index, row in df.iterrows():\n",
    "#\n",
    "#         title = row[col_name].lower()\n",
    "#\n",
    "#         #split title into sentences\n",
    "#\n",
    "#         #for each sentence do below\n",
    "#         #remove punctuation but keep \\'- will be removed in stop words part-\n",
    "#         #title = re.sub('[^a-zA-Z\\']', ' ', title)\n",
    "#\n",
    "#         #remove tags(is this necessary?) (yes otherwise # will be in final text output)\n",
    "#         title=re.sub(\"&lt;/?.*?&gt;\",\" &lt;&gt; \",title)\n",
    "#\n",
    "#         #remove digits and special chars, but keep \\' - will be removed in stop words part\n",
    "#         title=re.sub(\"(\\\\d|[^\\\\w])+\",\" \",title) # is it really necessary to remove digits?\n",
    "#\n",
    "#         word_tokens = word_tokenize(title) # lower case list of strings\n",
    "#\n",
    "#         cleaned_title = [lemmatizer.lemmatize(w) for w in word_tokens if not w.lower() in stop_words]\n",
    "#\n",
    "#         clean_col.append(cleaned_title)\n",
    "#\n",
    "#     #df.drop([col_name], axis=1)\n",
    "#     df[col_name] = clean_col\n",
    "#\n",
    "# cleanTitle()\n",
    "# df.head(50)"
   ],
   "metadata": {
    "collapsed": false
   }
  },
  {
   "cell_type": "code",
   "execution_count": null,
   "outputs": [],
   "source": [
    "#Bag of words, vs word 2 vec (https://builtin.com/machine-learning/nlp-word2vec-python)\n",
    "#we want word 2 vec\n",
    "#print(stopwords)\n",
    "#for w in set(stopwords.words('english'):\n",
    "print(set(stopwords.words('english')))\n"
   ],
   "metadata": {
    "collapsed": false
   }
  },
  {
   "cell_type": "code",
   "execution_count": null,
   "outputs": [],
   "source": [
    "from gensim.models.keyedvectors import KeyedVectors\n",
    "from gensim.models import Word2Vec\n",
    "\n",
    "\n",
    "def getPreTrainedWord2Vec(train_headlines):\n",
    "    #to do: save it locally for huggingface/gradio app\n",
    "    # google news vectors source: https://github.com/nishankmahore/word2vec-flask-api\n",
    "    if len(train_headlines) == 0:\n",
    "        goog_wordvecs = KeyedVectors.load_word2vec_format('input/GoogleNews-vectors-negative300.bin', binary=True)\n",
    "        print('ready- using google news vectors')\n",
    "        return goog_wordvecs\n",
    "\n",
    "    print(\"creating a new word 2 vec\")\n",
    "    return Word2Vec(train_headlines, min_count = 1,workers=4,\n",
    "                         vector_size = 100, window = 5)\n",
    "\n",
    "def getGoogleWord2Vec():\n",
    "    print(\"getting google word2vec\")\n",
    "    return KeyedVectors.load_word2vec_format('input/GoogleNews-vectors-negative300.bin', binary=True)\n",
    "\n",
    "\n",
    "#pretrainedWord2Vec= getPreTrainedWord2Vec([])\n",
    "#pretrainedWord2Vec= getPreTrainedWord2Vec(df['title'].tolist())\n",
    "googleW2V = getGoogleWord2Vec()"
   ],
   "metadata": {
    "collapsed": false
   }
  },
  {
   "cell_type": "code",
   "execution_count": 68,
   "outputs": [
    {
     "name": "stdout",
     "output_type": "stream",
     "text": [
      "(3, 300)\n",
      "(1, 300)\n"
     ]
    }
   ],
   "source": [
    "# prepare data\n",
    "\n",
    "\n",
    "#Convert list of strings into vectors (data frame column -title)\n",
    "#convert string label to one hot encoding (dataframe column - label)\n",
    "\n",
    "#create\n",
    "\n",
    "def newsTitle_to_vector(newsTitle, model):\n",
    "    return [model[word] for word in newsTitle if word in model]\n",
    "\n",
    "print(np.shape(newsTitle_to_vector([\"adrian\",\"is\", \"pro\"], googleW2V)))\n",
    "print(np.shape(newsTitle_to_vector([\"adrian\"], googleW2V)))\n",
    "\n"
   ],
   "metadata": {
    "collapsed": false
   }
  },
  {
   "cell_type": "code",
   "execution_count": null,
   "outputs": [],
   "source": [
    "label_columns = [f'label_{i}' for i in range(y_one_hot.shape[1])]\n",
    "\n",
    "dataset = pd.DataFrame()\n",
    "\n",
    "#dataset[label_columns] = pd.DataFrame(y_one_hot, columns=label_columns)\n",
    "\n",
    "def getVectorColumn():\n",
    "    vector_col = []\n",
    "    for newsTitle in df['title'].tolist():\n",
    "        vector_col.append(newsTitle_to_vector(newsTitle, googleW2V))\n",
    "    print(\"vector columns appended\")\n",
    "    return vector_col\n",
    "\n",
    "def getLabelColumns():\n",
    "    label_col = []\n",
    "    for label in df['label'].tolist():\n",
    "        label_col.append(labelDict[label])\n",
    "    print(\"label columns appended\")\n",
    "    return list(zip(*label_col))\n"
   ],
   "metadata": {
    "collapsed": false
   }
  },
  {
   "cell_type": "code",
   "execution_count": null,
   "outputs": [],
   "source": [
    "\n",
    "dataset[\"vector\"] = getVectorColumn()\n",
    "oneHotEncoded = getLabelColumns()\n",
    "for label in label_columns:\n",
    "    dataset[label] = oneHotEncoded[label_columns.index(label)]\n",
    "    #print(dataset[label])\n",
    "    #dataset.head()\n",
    "\n",
    "print(dataset.head())\n",
    "print(\"ready to export\")"
   ],
   "metadata": {
    "collapsed": false
   }
  },
  {
   "cell_type": "code",
   "execution_count": null,
   "outputs": [],
   "source": [
    "#dataset.head()"
   ],
   "metadata": {
    "collapsed": false
   }
  },
  {
   "cell_type": "code",
   "execution_count": null,
   "outputs": [],
   "source": [
    "dataset[label].to_csv(\"processedData.csv\")\n",
    "#print(\"exported\")"
   ],
   "metadata": {
    "collapsed": false
   }
  },
  {
   "cell_type": "code",
   "execution_count": null,
   "outputs": [],
   "source": [
    "#print(list(zip(*np.array(np.mat('0,0,1;0,1,0')).tolist())))"
   ],
   "metadata": {
    "collapsed": false
   }
  },
  {
   "cell_type": "code",
   "execution_count": null,
   "outputs": [],
   "source": [],
   "metadata": {
    "collapsed": false
   }
  },
  {
   "cell_type": "markdown",
   "source": [
    "## TRAIN-TEST Split:\n",
    "#### THERE IS AN ISSUE WITH THE TRAIN-TEST SPLIT. For this reason, given an 80-20 or a 70-30 train-test splits are usually used, we will try running models using these two splits, and see which comes closest to their baseline models\n",
    "#### TRAINING:TESTING: 8:2 splitting of data OR 7:3 splitting of data\n",
    "#### K-FOLD CROSS VALIDATION\n",
    "#### stratified sampling of all categories to choose 80-20 or 70-30 pick, shuffle category before picking and ensure fair /proportionate amount of categories are present  (if total world news are 1000- ensure 800 in train and 200 in test, do this for all)\n",
    "#### carry out K - fold cross validation https://machinelearningmastery.com/k-fold-cross-validation/\n"
   ],
   "metadata": {
    "collapsed": false
   }
  },
  {
   "cell_type": "code",
   "execution_count": null,
   "outputs": [],
   "source": [
    "def splitDataOfCategory(category_name, train, test):\n",
    "    '''segment data according to the records'''\n",
    "    # get content only related to a category\n",
    "    # shuffle randomly\n",
    "    # pick records according to train:test ratio\n",
    "    #\n",
    "\n",
    "def splitData(train, test):\n",
    "    ''' splits data in buckets equally according to the train:test ratio'''\n",
    "\n",
    "    #getTrainTestDataOfCategory('<cat name>', train, test)\n",
    "    #\n",
    "\n"
   ],
   "metadata": {
    "collapsed": false
   }
  },
  {
   "cell_type": "markdown",
   "source": [],
   "metadata": {
    "collapsed": false
   }
  }
 ],
 "metadata": {
  "kernelspec": {
   "display_name": "Python 3",
   "language": "python",
   "name": "python3"
  },
  "language_info": {
   "codemirror_mode": {
    "name": "ipython",
    "version": 2
   },
   "file_extension": ".py",
   "mimetype": "text/x-python",
   "name": "python",
   "nbconvert_exporter": "python",
   "pygments_lexer": "ipython2",
   "version": "2.7.6"
  }
 },
 "nbformat": 4,
 "nbformat_minor": 5
}

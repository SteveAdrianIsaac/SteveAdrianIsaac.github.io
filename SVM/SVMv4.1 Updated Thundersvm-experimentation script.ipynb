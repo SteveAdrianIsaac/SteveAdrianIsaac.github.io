{
 "metadata": {
  "colab": {
   "provenance": [],
   "gpuType": "T4"
  },
  "kernelspec": {
   "name": "python3",
   "display_name": "Python 3",
   "language": "python"
  },
  "language_info": {
   "name": "python",
   "version": "3.10.12",
   "mimetype": "text/x-python",
   "codemirror_mode": {
    "name": "ipython",
    "version": 3
   },
   "pygments_lexer": "ipython3",
   "nbconvert_exporter": "python",
   "file_extension": ".py"
  },
  "accelerator": "GPU",
  "kaggle": {
   "accelerator": "nvidiaTeslaT4",
   "dataSources": [
    {
     "sourceId": 7415116,
     "sourceType": "datasetVersion",
     "datasetId": 4313565
    }
   ],
   "dockerImageVersionId": 30636,
   "isInternetEnabled": true,
   "language": "python",
   "sourceType": "notebook",
   "isGpuEnabled": true
  }
 },
 "nbformat_minor": 4,
 "nbformat": 4,
 "cells": [
  {
   "cell_type": "markdown",
   "source": [
    "### Install Cuda to run our GPU compatible SVM"
   ],
   "metadata": {}
  },
  {
   "cell_type": "code",
   "source": [
    "#https://medium.com/analytics-vidhya/how-to-install-and-run-thundersvm-in-google-colab-de1fe49eef85\n",
    "!wget https://developer.nvidia.com/compute/cuda/9.0/Prod/local_installers/cuda-repo-ubuntu1704-9-0-local_9.0.176-1_amd64-deb"
   ],
   "metadata": {
    "colab": {
     "base_uri": "https://localhost:8080/"
    },
    "id": "Y8vZH8xtrcbC",
    "outputId": "75f03dd0-0105-4e8a-cd9b-0abd6872ff02",
    "execution": {
     "iopub.status.busy": "2024-01-17T10:12:43.460230Z",
     "iopub.execute_input": "2024-01-17T10:12:43.460601Z",
     "iopub.status.idle": "2024-01-17T10:12:49.918002Z",
     "shell.execute_reply.started": "2024-01-17T10:12:43.460569Z",
     "shell.execute_reply": "2024-01-17T10:12:49.917078Z"
    },
    "trusted": true
   },
   "execution_count": 1,
   "outputs": [
    {
     "name": "stdout",
     "text": "--2024-01-17 10:12:44--  https://developer.nvidia.com/compute/cuda/9.0/Prod/local_installers/cuda-repo-ubuntu1704-9-0-local_9.0.176-1_amd64-deb\nResolving developer.nvidia.com (developer.nvidia.com)... 152.195.19.142\nConnecting to developer.nvidia.com (developer.nvidia.com)|152.195.19.142|:443... connected.\nHTTP request sent, awaiting response... 302 Found\nLocation: https://developer.nvidia.com/downloads/compute/cuda/9.0/prod/local_installers/cuda-repo-ubuntu1704-9-0-local_9.0.176-1_amd64-deb [following]\n--2024-01-17 10:12:44--  https://developer.nvidia.com/downloads/compute/cuda/9.0/prod/local_installers/cuda-repo-ubuntu1704-9-0-local_9.0.176-1_amd64-deb\nReusing existing connection to developer.nvidia.com:443.\nHTTP request sent, awaiting response... 302 Found\nLocation: https://developer.download.nvidia.com/compute/cuda/9.0/secure/Prod/local_installers/cuda-repo-ubuntu1704-9-0-local_9.0.176-1_amd64.deb?H8RLfep-w2L_yl4pr2nI9LeOco-S_lJV6iBNBOGA2NOTa0hE1TblxxOj5rS6yFluNwxFMYzwuwomAxUI0xCm_PpZ_azIw9rxErncN1ySotmEy0M_oISoYGcRoNNa7sM6-t3JBxH9b_Zr_heaCO0tb8n2_PDSeHU_a7VJ6SDGb9djpTelq-4YpD8Up3ab1XlbDjHihMd9qkrRgRonE9YE [following]\n--2024-01-17 10:12:44--  https://developer.download.nvidia.com/compute/cuda/9.0/secure/Prod/local_installers/cuda-repo-ubuntu1704-9-0-local_9.0.176-1_amd64.deb?H8RLfep-w2L_yl4pr2nI9LeOco-S_lJV6iBNBOGA2NOTa0hE1TblxxOj5rS6yFluNwxFMYzwuwomAxUI0xCm_PpZ_azIw9rxErncN1ySotmEy0M_oISoYGcRoNNa7sM6-t3JBxH9b_Zr_heaCO0tb8n2_PDSeHU_a7VJ6SDGb9djpTelq-4YpD8Up3ab1XlbDjHihMd9qkrRgRonE9YE\nResolving developer.download.nvidia.com (developer.download.nvidia.com)... 152.195.19.142\nConnecting to developer.download.nvidia.com (developer.download.nvidia.com)|152.195.19.142|:443... connected.\nHTTP request sent, awaiting response... 200 OK\nLength: 1216133170 (1.1G) [application/x-deb]\nSaving to: 'cuda-repo-ubuntu1704-9-0-local_9.0.176-1_amd64-deb'\n\ncuda-repo-ubuntu170 100%[===================>]   1.13G   246MB/s    in 4.7s    \n\n2024-01-17 10:12:49 (245 MB/s) - 'cuda-repo-ubuntu1704-9-0-local_9.0.176-1_amd64-deb' saved [1216133170/1216133170]\n\n",
     "output_type": "stream"
    }
   ]
  },
  {
   "cell_type": "code",
   "source": [
    "!ls  # Check if required cuda 9.0 amd64-deb file is downloaded"
   ],
   "metadata": {
    "colab": {
     "base_uri": "https://localhost:8080/"
    },
    "id": "Y8vZH8xtrcbC",
    "outputId": "75f03dd0-0105-4e8a-cd9b-0abd6872ff02",
    "execution": {
     "iopub.status.busy": "2024-01-17T10:12:49.919913Z",
     "iopub.execute_input": "2024-01-17T10:12:49.920218Z",
     "iopub.status.idle": "2024-01-17T10:12:50.878974Z",
     "shell.execute_reply.started": "2024-01-17T10:12:49.920191Z",
     "shell.execute_reply": "2024-01-17T10:12:50.877848Z"
    },
    "trusted": true
   },
   "execution_count": 2,
   "outputs": [
    {
     "name": "stdout",
     "text": "cuda-repo-ubuntu1704-9-0-local_9.0.176-1_amd64-deb\n",
     "output_type": "stream"
    }
   ]
  },
  {
   "cell_type": "code",
   "source": [
    "!dpkg -i cuda-repo-ubuntu1704-9-0-local_9.0.176-1_amd64-deb"
   ],
   "metadata": {
    "colab": {
     "base_uri": "https://localhost:8080/"
    },
    "id": "Y8vZH8xtrcbC",
    "outputId": "75f03dd0-0105-4e8a-cd9b-0abd6872ff02",
    "execution": {
     "iopub.status.busy": "2024-01-17T10:12:50.880507Z",
     "iopub.execute_input": "2024-01-17T10:12:50.880903Z",
     "iopub.status.idle": "2024-01-17T10:12:56.811652Z",
     "shell.execute_reply.started": "2024-01-17T10:12:50.880864Z",
     "shell.execute_reply": "2024-01-17T10:12:56.810683Z"
    },
    "trusted": true
   },
   "execution_count": 3,
   "outputs": [
    {
     "name": "stdout",
     "text": "Selecting previously unselected package cuda-repo-ubuntu1704-9-0-local.\n(Reading database ... 114840 files and directories currently installed.)\nPreparing to unpack cuda-repo-ubuntu1704-9-0-local_9.0.176-1_amd64-deb ...\nUnpacking cuda-repo-ubuntu1704-9-0-local (9.0.176-1) ...\nSetting up cuda-repo-ubuntu1704-9-0-local (9.0.176-1) ...\n\nThe public CUDA GPG key does not appear to be installed.\nTo install the key, run this command:\nsudo apt-key add /var/cuda-repo-9-0-local/7fa2af80.pub\n\n",
     "output_type": "stream"
    }
   ]
  },
  {
   "cell_type": "code",
   "source": [
    "!ls /var/cuda-repo-9-0-local | grep .pub"
   ],
   "metadata": {
    "colab": {
     "base_uri": "https://localhost:8080/"
    },
    "id": "Y8vZH8xtrcbC",
    "outputId": "75f03dd0-0105-4e8a-cd9b-0abd6872ff02",
    "execution": {
     "iopub.status.busy": "2024-01-17T10:12:56.812943Z",
     "iopub.execute_input": "2024-01-17T10:12:56.813235Z",
     "iopub.status.idle": "2024-01-17T10:12:57.814327Z",
     "shell.execute_reply.started": "2024-01-17T10:12:56.813209Z",
     "shell.execute_reply": "2024-01-17T10:12:57.812848Z"
    },
    "trusted": true
   },
   "execution_count": 4,
   "outputs": [
    {
     "name": "stdout",
     "text": "7fa2af80.pub\n",
     "output_type": "stream"
    }
   ]
  },
  {
   "cell_type": "code",
   "source": [
    "!apt-key add /var/cuda-repo-9-0-local/7fa2af80.pub\n"
   ],
   "metadata": {
    "colab": {
     "base_uri": "https://localhost:8080/"
    },
    "id": "Y8vZH8xtrcbC",
    "outputId": "75f03dd0-0105-4e8a-cd9b-0abd6872ff02",
    "execution": {
     "iopub.status.busy": "2024-01-17T10:12:57.818178Z",
     "iopub.execute_input": "2024-01-17T10:12:57.819029Z",
     "iopub.status.idle": "2024-01-17T10:12:59.488700Z",
     "shell.execute_reply.started": "2024-01-17T10:12:57.818967Z",
     "shell.execute_reply": "2024-01-17T10:12:59.487615Z"
    },
    "trusted": true
   },
   "execution_count": 5,
   "outputs": [
    {
     "name": "stdout",
     "text": "Warning: apt-key is deprecated. Manage keyring files in trusted.gpg.d instead (see apt-key(8)).\nOK\n",
     "output_type": "stream"
    }
   ]
  },
  {
   "cell_type": "code",
   "source": [
    "!apt-get update"
   ],
   "metadata": {
    "colab": {
     "base_uri": "https://localhost:8080/"
    },
    "id": "Y8vZH8xtrcbC",
    "outputId": "75f03dd0-0105-4e8a-cd9b-0abd6872ff02",
    "execution": {
     "iopub.status.busy": "2024-01-17T10:12:59.490184Z",
     "iopub.execute_input": "2024-01-17T10:12:59.490493Z",
     "iopub.status.idle": "2024-01-17T10:13:11.637722Z",
     "shell.execute_reply.started": "2024-01-17T10:12:59.490464Z",
     "shell.execute_reply": "2024-01-17T10:13:11.636580Z"
    },
    "trusted": true
   },
   "execution_count": 6,
   "outputs": [
    {
     "name": "stdout",
     "text": "Get:1 file:/var/cuda-repo-9-0-local  InRelease\nIgn:1 file:/var/cuda-repo-9-0-local  InRelease\nGet:2 file:/var/cuda-repo-9-0-local  Release [574 B]\nGet:2 file:/var/cuda-repo-9-0-local  Release [574 B]\nGet:3 file:/var/cuda-repo-9-0-local  Release.gpg [819 B]                       \nGet:3 file:/var/cuda-repo-9-0-local  Release.gpg [819 B]                       \nHit:4 http://packages.cloud.google.com/apt gcsfuse-focal InRelease             \nGet:5 https://packages.cloud.google.com/apt cloud-sdk InRelease [6361 B]       \nGet:6 https://packages.cloud.google.com/apt google-fast-socket InRelease [5015 B]\nGet:7 http://security.ubuntu.com/ubuntu jammy-security InRelease [110 kB]      \nGet:8 https://developer.download.nvidia.com/compute/cuda/repos/ubuntu2204/x86_64  InRelease [1581 B]\nHit:9 http://archive.ubuntu.com/ubuntu jammy InRelease                         \nGet:10 http://archive.ubuntu.com/ubuntu jammy-updates InRelease [119 kB]\nHit:11 http://archive.ubuntu.com/ubuntu jammy-backports InRelease\nGet:12 file:/var/cuda-repo-9-0-local  Packages [15.8 kB]\nGet:13 https://developer.download.nvidia.com/compute/cuda/repos/ubuntu2204/x86_64  Packages [662 kB]\nGet:14 http://security.ubuntu.com/ubuntu jammy-security/universe amd64 Packages [1051 kB]\nGet:15 http://security.ubuntu.com/ubuntu jammy-security/restricted amd64 Packages [1600 kB]\nGet:16 http://security.ubuntu.com/ubuntu jammy-security/main amd64 Packages [1344 kB]\nGet:17 http://archive.ubuntu.com/ubuntu jammy-updates/restricted amd64 Packages [1635 kB]\nGet:18 http://archive.ubuntu.com/ubuntu jammy-updates/main amd64 Packages [1621 kB]\nGet:19 http://archive.ubuntu.com/ubuntu jammy-updates/universe amd64 Packages [1311 kB]\nGet:20 http://archive.ubuntu.com/ubuntu jammy-updates/multiverse amd64 Packages [50.4 kB]\nFetched 9515 kB in 10s (972 kB/s)                                              \nReading package lists... Done\nW: file:/var/cuda-repo-9-0-local/Release.gpg: Key is stored in legacy trusted.gpg keyring (/etc/apt/trusted.gpg), see the DEPRECATION section in apt-key(8) for details.\nW: http://packages.cloud.google.com/apt/dists/gcsfuse-focal/InRelease: Key is stored in legacy trusted.gpg keyring (/etc/apt/trusted.gpg), see the DEPRECATION section in apt-key(8) for details.\nW: https://packages.cloud.google.com/apt/dists/google-fast-socket/InRelease: Key is stored in legacy trusted.gpg keyring (/etc/apt/trusted.gpg), see the DEPRECATION section in apt-key(8) for details.\n",
     "output_type": "stream"
    }
   ]
  },
  {
   "cell_type": "code",
   "source": [
    "!sudo DEBIAN_FRONTEND=noninteractive apt-get install keyboard-configuration -y\n",
    "!sudo apt-get install cuda-9.0 -y "
   ],
   "metadata": {
    "colab": {
     "base_uri": "https://localhost:8080/"
    },
    "id": "Y8vZH8xtrcbC",
    "outputId": "75f03dd0-0105-4e8a-cd9b-0abd6872ff02",
    "execution": {
     "iopub.status.busy": "2024-01-17T10:13:11.639372Z",
     "iopub.execute_input": "2024-01-17T10:13:11.639680Z",
     "iopub.status.idle": "2024-01-17T10:15:41.219157Z",
     "shell.execute_reply.started": "2024-01-17T10:13:11.639653Z",
     "shell.execute_reply": "2024-01-17T10:15:41.217978Z"
    },
    "trusted": true
   },
   "execution_count": 7,
   "outputs": [
    {
     "name": "stdout",
     "text": "Reading package lists... Done\nBuilding dependency tree... Done\nReading state information... Done\nThe following additional packages will be installed:\n  liblocale-gettext-perl\nThe following NEW packages will be installed:\n  keyboard-configuration liblocale-gettext-perl\n0 upgraded, 2 newly installed, 0 to remove and 84 not upgraded.\nNeed to get 223 kB of archives.\nAfter this operation, 923 kB of additional disk space will be used.\nGet:1 http://archive.ubuntu.com/ubuntu jammy/main amd64 liblocale-gettext-perl amd64 1.07-4build3 [17.1 kB]\nGet:2 http://archive.ubuntu.com/ubuntu jammy/main amd64 keyboard-configuration all 1.205ubuntu3 [206 kB]\nFetched 223 kB in 0s (746 kB/s)                \nPreconfiguring packages ...\nSelecting previously unselected package liblocale-gettext-perl.\n(Reading database ... 114899 files and directories currently installed.)\nPreparing to unpack .../liblocale-gettext-perl_1.07-4build3_amd64.deb ...\nUnpacking liblocale-gettext-perl (1.07-4build3) ...\nSelecting previously unselected package keyboard-configuration.\nPreparing to unpack .../keyboard-configuration_1.205ubuntu3_all.deb ...\nUnpacking keyboard-configuration (1.205ubuntu3) ...\nSetting up liblocale-gettext-perl (1.07-4build3) ...\nSetting up keyboard-configuration (1.205ubuntu3) ...\nYour console font configuration will be updated the next time your system\nboots. If you want to update it now, run 'setupcon' from a virtual console.\nProcessing triggers for man-db (2.10.2-1) ...\nReading package lists... Done\nBuilding dependency tree... Done\nReading state information... Done\nNote, selecting 'libcuda-9.0-1' for regex 'cuda-9.0'\nNote, selecting 'cuda-9-0' for regex 'cuda-9.0'\nThe following additional packages will be installed:\n  cuda-command-line-tools-9-0 cuda-core-9-0 cuda-cublas-9-0\n  cuda-cublas-dev-9-0 cuda-cudart-9-0 cuda-cudart-dev-9-0 cuda-cufft-9-0\n  cuda-cufft-dev-9-0 cuda-curand-9-0 cuda-curand-dev-9-0 cuda-cusolver-9-0\n  cuda-cusolver-dev-9-0 cuda-cusparse-9-0 cuda-cusparse-dev-9-0\n  cuda-demo-suite-9-0 cuda-documentation-9-0 cuda-driver-dev-9-0 cuda-drivers\n  cuda-drivers-545 cuda-libraries-9-0 cuda-libraries-dev-9-0 cuda-license-9-0\n  cuda-misc-headers-9-0 cuda-npp-9-0 cuda-npp-dev-9-0 cuda-nvgraph-9-0\n  cuda-nvgraph-dev-9-0 cuda-nvml-dev-9-0 cuda-nvrtc-9-0 cuda-nvrtc-dev-9-0\n  cuda-runtime-9-0 cuda-samples-9-0 cuda-toolkit-9-0 cuda-visual-tools-9-0\n  freeglut3 freeglut3-dev libegl-dev libegl-mesa0 libegl1 libgl-dev\n  libgl1-mesa-dev libgles-dev libgles1 libgles2 libglu1-mesa libglu1-mesa-dev\n  libglvnd-core-dev libglvnd-dev libglx-dev libice-dev libnvidia-cfg1-545\n  libnvidia-common-545 libnvidia-compute-545 libnvidia-decode-545\n  libnvidia-encode-545 libnvidia-extra-545 libnvidia-fbc1-545 libnvidia-gl-545\n  libopengl-dev libopengl0 libpam-systemd libpthread-stubs0-dev libsm-dev\n  libsystemd0 libudev1 libx11-dev libxau-dev libxcb1-dev libxcvt0 libxdmcp-dev\n  libxext-dev libxfixes-dev libxi-dev libxmu-dev libxmu-headers libxnvctrl0\n  libxt-dev nvidia-compute-utils-545 nvidia-dkms-545 nvidia-driver-545\n  nvidia-kernel-common-545 nvidia-kernel-source-545 nvidia-modprobe\n  nvidia-prime nvidia-settings nvidia-utils-545 python3-xkit\n  screen-resolution-extra systemd systemd-hwe-hwdb systemd-sysv udev\n  x11proto-dev xcvt xorg-sgml-doctools xserver-common xserver-xorg-core\n  xserver-xorg-video-nvidia-545 xtrans-dev\nSuggested packages:\n  libice-doc libsm-doc libx11-doc libxcb-doc libxext-doc libxt-doc\n  systemd-container libtss2-esys-3.0.2-0 libtss2-mu0 libtss2-rc0 xfonts-100dpi\n  | xfonts-75dpi xfonts-scalable\nRecommended packages:\n  libnvidia-compute-545:i386 libnvidia-decode-545:i386\n  libnvidia-encode-545:i386 libnvidia-fbc1-545:i386 libnvidia-gl-545:i386\n  networkd-dispatcher systemd-timesyncd | time-daemon libnss-systemd\nThe following NEW packages will be installed:\n  cuda-9-0 cuda-command-line-tools-9-0 cuda-core-9-0 cuda-cublas-9-0\n  cuda-cublas-dev-9-0 cuda-cudart-9-0 cuda-cudart-dev-9-0 cuda-cufft-9-0\n  cuda-cufft-dev-9-0 cuda-curand-9-0 cuda-curand-dev-9-0 cuda-cusolver-9-0\n  cuda-cusolver-dev-9-0 cuda-cusparse-9-0 cuda-cusparse-dev-9-0\n  cuda-demo-suite-9-0 cuda-documentation-9-0 cuda-driver-dev-9-0 cuda-drivers\n  cuda-drivers-545 cuda-libraries-9-0 cuda-libraries-dev-9-0 cuda-license-9-0\n  cuda-misc-headers-9-0 cuda-npp-9-0 cuda-npp-dev-9-0 cuda-nvgraph-9-0\n  cuda-nvgraph-dev-9-0 cuda-nvml-dev-9-0 cuda-nvrtc-9-0 cuda-nvrtc-dev-9-0\n  cuda-runtime-9-0 cuda-samples-9-0 cuda-toolkit-9-0 cuda-visual-tools-9-0\n  freeglut3 freeglut3-dev libegl-dev libegl-mesa0 libegl1 libgl-dev\n  libgl1-mesa-dev libgles-dev libgles1 libgles2 libglu1-mesa libglu1-mesa-dev\n  libglvnd-core-dev libglvnd-dev libglx-dev libice-dev libnvidia-cfg1-545\n  libnvidia-common-545 libnvidia-compute-545 libnvidia-decode-545\n  libnvidia-encode-545 libnvidia-extra-545 libnvidia-fbc1-545 libnvidia-gl-545\n  libopengl-dev libopengl0 libpthread-stubs0-dev libsm-dev libx11-dev\n  libxau-dev libxcb1-dev libxcvt0 libxdmcp-dev libxext-dev libxfixes-dev\n  libxi-dev libxmu-dev libxmu-headers libxnvctrl0 libxt-dev\n  nvidia-compute-utils-545 nvidia-dkms-545 nvidia-driver-545\n  nvidia-kernel-common-545 nvidia-kernel-source-545 nvidia-modprobe\n  nvidia-prime nvidia-settings nvidia-utils-545 python3-xkit\n  screen-resolution-extra systemd-hwe-hwdb udev x11proto-dev xcvt\n  xorg-sgml-doctools xserver-xorg-core xserver-xorg-video-nvidia-545\n  xtrans-dev\nThe following packages will be upgraded:\n  libpam-systemd libsystemd0 libudev1 systemd systemd-sysv xserver-common\n6 upgraded, 94 newly installed, 0 to remove and 78 not upgraded.\nNeed to get 299 MB/1396 MB of archives.\nAfter this operation, 3108 MB of additional disk space will be used.\nGet:1 file:/var/cuda-repo-9-0-local  cuda-license-9-0 9.0.176-1 [22.0 kB]\nGet:2 file:/var/cuda-repo-9-0-local  cuda-misc-headers-9-0 9.0.176-1 [684 kB]\nGet:3 http://archive.ubuntu.com/ubuntu jammy-updates/main amd64 systemd-sysv amd64 249.11-0ubuntu3.11 [10.5 kB]\nGet:4 https://developer.download.nvidia.com/compute/cuda/repos/ubuntu2204/x86_64  libnvidia-common-545 545.23.08-0ubuntu1 [19.4 kB]\nGet:5 https://developer.download.nvidia.com/compute/cuda/repos/ubuntu2204/x86_64  libnvidia-compute-545 545.23.08-0ubuntu1 [48.8 MB]\nGet:6 http://archive.ubuntu.com/ubuntu jammy-updates/main amd64 libpam-systemd amd64 249.11-0ubuntu3.11 [203 kB]\nGet:7 file:/var/cuda-repo-9-0-local  cuda-core-9-0 9.0.176-1 [16.9 MB]         \nGet:8 file:/var/cuda-repo-9-0-local  cuda-cudart-9-0 9.0.176-1 [106 kB]        \nGet:9 file:/var/cuda-repo-9-0-local  cuda-driver-dev-9-0 9.0.176-1 [10.9 kB]   \nGet:10 file:/var/cuda-repo-9-0-local  cuda-cudart-dev-9-0 9.0.176-1 [767 kB]   \nGet:11 http://archive.ubuntu.com/ubuntu jammy-updates/main amd64 systemd amd64 249.11-0ubuntu3.11 [4581 kB]\nGet:12 file:/var/cuda-repo-9-0-local  cuda-command-line-tools-9-0 9.0.176-1 [25.4 MB]\nGet:13 file:/var/cuda-repo-9-0-local  cuda-nvrtc-9-0 9.0.176-1 [6348 kB]       \nGet:14 file:/var/cuda-repo-9-0-local  cuda-nvrtc-dev-9-0 9.0.176-1 [9334 B]    \nGet:15 http://archive.ubuntu.com/ubuntu jammy-updates/main amd64 libsystemd0 amd64 249.11-0ubuntu3.11 [318 kB]\nGet:16 http://archive.ubuntu.com/ubuntu jammy-updates/main amd64 libudev1 amd64 249.11-0ubuntu3.11 [78.0 kB]\nGet:17 http://archive.ubuntu.com/ubuntu jammy-updates/main amd64 udev amd64 249.11-0ubuntu3.11 [1557 kB]\nGet:18 http://archive.ubuntu.com/ubuntu jammy/universe amd64 freeglut3 amd64 2.8.1-6 [74.0 kB]\nGet:19 http://archive.ubuntu.com/ubuntu jammy/main amd64 xorg-sgml-doctools all 1:1.11-1.1 [10.9 kB]\nGet:20 http://archive.ubuntu.com/ubuntu jammy/main amd64 x11proto-dev all 2021.5-1 [604 kB]\nGet:21 http://archive.ubuntu.com/ubuntu jammy/main amd64 libxau-dev amd64 1:1.0.9-1build5 [9724 B]\nGet:22 http://archive.ubuntu.com/ubuntu jammy/main amd64 libxdmcp-dev amd64 1:1.1.3-0ubuntu5 [26.5 kB]\nGet:23 http://archive.ubuntu.com/ubuntu jammy/main amd64 xtrans-dev all 1.4.0-1 [68.9 kB]\nGet:24 http://archive.ubuntu.com/ubuntu jammy/main amd64 libpthread-stubs0-dev amd64 0.4-1build2 [5516 B]\nGet:25 http://archive.ubuntu.com/ubuntu jammy/main amd64 libxcb1-dev amd64 1.14-3ubuntu3 [86.5 kB]\nGet:26 http://archive.ubuntu.com/ubuntu jammy-updates/main amd64 libx11-dev amd64 2:1.7.5-1ubuntu0.3 [744 kB]\nGet:27 http://archive.ubuntu.com/ubuntu jammy/main amd64 libglx-dev amd64 1.4.0-1 [14.1 kB]\nGet:28 http://archive.ubuntu.com/ubuntu jammy/main amd64 libgl-dev amd64 1.4.0-1 [101 kB]\nGet:29 http://archive.ubuntu.com/ubuntu jammy/main amd64 libglvnd-core-dev amd64 1.4.0-1 [12.7 kB]\nGet:30 http://archive.ubuntu.com/ubuntu jammy-updates/main amd64 libegl-mesa0 amd64 23.0.4-0ubuntu1~22.04.1 [117 kB]\nGet:31 http://archive.ubuntu.com/ubuntu jammy/main amd64 libegl1 amd64 1.4.0-1 [28.6 kB]\nGet:32 http://archive.ubuntu.com/ubuntu jammy/main amd64 libegl-dev amd64 1.4.0-1 [18.0 kB]\nGet:33 http://archive.ubuntu.com/ubuntu jammy/main amd64 libgles1 amd64 1.4.0-1 [11.5 kB]\nGet:34 http://archive.ubuntu.com/ubuntu jammy/main amd64 libgles2 amd64 1.4.0-1 [18.0 kB]\nGet:35 http://archive.ubuntu.com/ubuntu jammy/main amd64 libgles-dev amd64 1.4.0-1 [49.4 kB]\nGet:36 http://archive.ubuntu.com/ubuntu jammy/main amd64 libopengl0 amd64 1.4.0-1 [36.5 kB]\nGet:37 http://archive.ubuntu.com/ubuntu jammy/main amd64 libopengl-dev amd64 1.4.0-1 [3400 B]\nGet:38 http://archive.ubuntu.com/ubuntu jammy/main amd64 libglvnd-dev amd64 1.4.0-1 [3162 B]\nGet:39 file:/var/cuda-repo-9-0-local  cuda-cusolver-9-0 9.0.176-1 [26.2 MB]\nGet:40 http://archive.ubuntu.com/ubuntu jammy-updates/main amd64 libgl1-mesa-dev amd64 23.0.4-0ubuntu1~22.04.1 [6510 B]\nGet:41 http://archive.ubuntu.com/ubuntu jammy/main amd64 libglu1-mesa amd64 9.0.2-1 [145 kB]\nGet:42 http://archive.ubuntu.com/ubuntu jammy/main amd64 libglu1-mesa-dev amd64 9.0.2-1 [231 kB]\nGet:43 http://archive.ubuntu.com/ubuntu jammy/main amd64 libxext-dev amd64 2:1.3.4-1build1 [84.7 kB]\nGet:44 http://archive.ubuntu.com/ubuntu jammy/main amd64 libice-dev amd64 2:1.0.10-1build2 [51.4 kB]\nGet:45 http://archive.ubuntu.com/ubuntu jammy/main amd64 libsm-dev amd64 2:1.2.3-1build2 [18.1 kB]\nGet:46 file:/var/cuda-repo-9-0-local  cuda-cusolver-dev-9-0 9.0.176-1 [5317 kB]\nGet:47 http://archive.ubuntu.com/ubuntu jammy/main amd64 libxt-dev amd64 1:1.2.1-1 [396 kB]\nGet:48 http://archive.ubuntu.com/ubuntu jammy/universe amd64 freeglut3-dev amd64 2.8.1-6 [126 kB]\nGet:49 http://archive.ubuntu.com/ubuntu jammy/main amd64 libxmu-headers all 2:1.1.3-3 [54.1 kB]\nGet:50 http://archive.ubuntu.com/ubuntu jammy/main amd64 libxmu-dev amd64 2:1.1.3-3 [54.6 kB]\nGet:51 http://archive.ubuntu.com/ubuntu jammy/main amd64 libxfixes-dev amd64 1:6.0.0-1 [12.2 kB]\nGet:52 http://archive.ubuntu.com/ubuntu jammy/main amd64 libxi-dev amd64 2:1.8-1build1 [193 kB]\nGet:53 http://archive.ubuntu.com/ubuntu jammy-updates/main amd64 xserver-common all 2:21.1.4-2ubuntu1.7~22.04.7 [28.6 kB]\nGet:54 http://archive.ubuntu.com/ubuntu jammy/main amd64 libxcvt0 amd64 0.1.1-3 [5494 B]\nGet:55 http://archive.ubuntu.com/ubuntu jammy-updates/main amd64 xserver-xorg-core amd64 2:21.1.4-2ubuntu1.7~22.04.7 [1477 kB]\nGet:56 http://archive.ubuntu.com/ubuntu jammy/main amd64 python3-xkit all 0.5.0ubuntu5 [18.5 kB]\nGet:57 http://archive.ubuntu.com/ubuntu jammy/main amd64 screen-resolution-extra all 0.18.2 [4396 B]\nGet:58 http://archive.ubuntu.com/ubuntu jammy/main amd64 nvidia-prime all 0.8.17.1 [9956 B]\nGet:59 http://archive.ubuntu.com/ubuntu jammy-updates/main amd64 systemd-hwe-hwdb all 249.11.5 [3228 B]\nGet:60 http://archive.ubuntu.com/ubuntu jammy/main amd64 xcvt amd64 0.1.1-3 [7140 B]\nGet:61 https://developer.download.nvidia.com/compute/cuda/repos/ubuntu2204/x86_64  libnvidia-decode-545 545.23.08-0ubuntu1 [1712 kB]\nGet:62 https://developer.download.nvidia.com/compute/cuda/repos/ubuntu2204/x86_64  libnvidia-encode-545 545.23.08-0ubuntu1 [93.2 kB]\nGet:63 https://developer.download.nvidia.com/compute/cuda/repos/ubuntu2204/x86_64  libnvidia-fbc1-545 545.23.08-0ubuntu1 [53.0 kB]\nGet:64 https://developer.download.nvidia.com/compute/cuda/repos/ubuntu2204/x86_64  libnvidia-gl-545 545.23.08-0ubuntu1 [150 MB]\nGet:65 file:/var/cuda-repo-9-0-local  cuda-cublas-9-0 9.0.176-1 [25.0 MB]\nGet:66 file:/var/cuda-repo-9-0-local  cuda-cublas-dev-9-0 9.0.176-1 [49.4 MB]\nGet:67 file:/var/cuda-repo-9-0-local  cuda-cufft-9-0 9.0.176-1 [84.1 MB]\nGet:68 file:/var/cuda-repo-9-0-local  cuda-cufft-dev-9-0 9.0.176-1 [73.7 MB]  \nGet:69 https://developer.download.nvidia.com/compute/cuda/repos/ubuntu2204/x86_64  nvidia-compute-utils-545 545.23.08-0ubuntu1 [194 kB]\nGet:70 https://developer.download.nvidia.com/compute/cuda/repos/ubuntu2204/x86_64  nvidia-kernel-source-545 545.23.08-0ubuntu1 [43.4 MB]\nGet:71 file:/var/cuda-repo-9-0-local  cuda-curand-9-0 9.0.176-1 [38.8 MB]\nGet:72 https://developer.download.nvidia.com/compute/cuda/repos/ubuntu2204/x86_64  nvidia-kernel-common-545 545.23.08-0ubuntu1 [39.6 MB]\nGet:73 file:/var/cuda-repo-9-0-local  cuda-curand-dev-9-0 9.0.176-1 [57.9 MB]\nGet:74 file:/var/cuda-repo-9-0-local  cuda-cusparse-9-0 9.0.176-1 [25.2 MB]\nGet:75 https://developer.download.nvidia.com/compute/cuda/repos/ubuntu2204/x86_64  nvidia-dkms-545 545.23.08-0ubuntu1 [33.4 kB]\nGet:76 https://developer.download.nvidia.com/compute/cuda/repos/ubuntu2204/x86_64  libnvidia-extra-545 545.23.08-0ubuntu1 [260 kB]\nGet:77 https://developer.download.nvidia.com/compute/cuda/repos/ubuntu2204/x86_64  nvidia-utils-545 545.23.08-0ubuntu1 [382 kB]\nGet:78 https://developer.download.nvidia.com/compute/cuda/repos/ubuntu2204/x86_64  libnvidia-cfg1-545 545.23.08-0ubuntu1 [102 kB]\nGet:79 https://developer.download.nvidia.com/compute/cuda/repos/ubuntu2204/x86_64  xserver-xorg-video-nvidia-545 545.23.08-0ubuntu1 [1523 kB]\nGet:80 file:/var/cuda-repo-9-0-local  cuda-cusparse-dev-9-0 9.0.176-1 [25.3 MB]\nGet:81 https://developer.download.nvidia.com/compute/cuda/repos/ubuntu2204/x86_64  nvidia-driver-545 545.23.08-0ubuntu1 [479 kB]\nGet:82 https://developer.download.nvidia.com/compute/cuda/repos/ubuntu2204/x86_64  nvidia-modprobe 545.23.08-0ubuntu1 [21.3 kB]\nGet:83 https://developer.download.nvidia.com/compute/cuda/repos/ubuntu2204/x86_64  libxnvctrl0 545.23.08-0ubuntu1 [21.3 kB]\nGet:84 https://developer.download.nvidia.com/compute/cuda/repos/ubuntu2204/x86_64  nvidia-settings 545.23.08-0ubuntu1 [946 kB]\nGet:85 https://developer.download.nvidia.com/compute/cuda/repos/ubuntu2204/x86_64  cuda-drivers-545 545.23.08-1 [2634 B]\nGet:86 https://developer.download.nvidia.com/compute/cuda/repos/ubuntu2204/x86_64  cuda-drivers 545.23.08-1 [2502 B]\nGet:87 file:/var/cuda-repo-9-0-local  cuda-npp-9-0 9.0.176-1 [46.6 MB]\nGet:88 file:/var/cuda-repo-9-0-local  cuda-npp-dev-9-0 9.0.176-1 [46.6 MB]\nGet:89 file:/var/cuda-repo-9-0-local  cuda-nvgraph-9-0 9.0.176-1 [6081 kB]\nGet:90 file:/var/cuda-repo-9-0-local  cuda-nvgraph-dev-9-0 9.0.176-1 [5658 kB]\nGet:91 file:/var/cuda-repo-9-0-local  cuda-samples-9-0 9.0.176-1 [75.9 MB]\nGet:92 file:/var/cuda-repo-9-0-local  cuda-documentation-9-0 9.0.176-1 [53.1 MB]\nGet:93 file:/var/cuda-repo-9-0-local  cuda-libraries-dev-9-0 9.0.176-1 [2596 B]\nGet:94 file:/var/cuda-repo-9-0-local  cuda-nvml-dev-9-0 9.0.176-1 [47.6 kB]\nGet:95 file:/var/cuda-repo-9-0-local  cuda-visual-tools-9-0 9.0.176-1 [398 MB] \nGet:96 file:/var/cuda-repo-9-0-local  cuda-toolkit-9-0 9.0.176-1 [2836 B]      \nGet:97 file:/var/cuda-repo-9-0-local  cuda-libraries-9-0 9.0.176-1 [2566 B]    \nGet:98 file:/var/cuda-repo-9-0-local  cuda-runtime-9-0 9.0.176-1 [2526 B]      \nGet:99 file:/var/cuda-repo-9-0-local  cuda-demo-suite-9-0 9.0.176-1 [3880 kB]  \nGet:100 file:/var/cuda-repo-9-0-local  cuda-9-0 9.0.176-1 [2552 B]             \nFetched 299 MB in 9s (34.3 MB/s)                                               \nExtracting templates from packages: 100%\n(Reading database ... 114933 files and directories currently installed.)\nPreparing to unpack .../systemd-sysv_249.11-0ubuntu3.11_amd64.deb ...\nUnpacking systemd-sysv (249.11-0ubuntu3.11) over (249.11-0ubuntu3.9) ...\nPreparing to unpack .../libpam-systemd_249.11-0ubuntu3.11_amd64.deb ...\nUnpacking libpam-systemd:amd64 (249.11-0ubuntu3.11) over (249.11-0ubuntu3.9) ...\nPreparing to unpack .../systemd_249.11-0ubuntu3.11_amd64.deb ...\nUnpacking systemd (249.11-0ubuntu3.11) over (249.11-0ubuntu3.9) ...\nPreparing to unpack .../libsystemd0_249.11-0ubuntu3.11_amd64.deb ...\nUnpacking libsystemd0:amd64 (249.11-0ubuntu3.11) over (249.11-0ubuntu3.9) ...\nSetting up libsystemd0:amd64 (249.11-0ubuntu3.11) ...\n(Reading database ... 114933 files and directories currently installed.)\nPreparing to unpack .../libudev1_249.11-0ubuntu3.11_amd64.deb ...\nUnpacking libudev1:amd64 (249.11-0ubuntu3.11) over (249.11-0ubuntu3.9) ...\nSetting up libudev1:amd64 (249.11-0ubuntu3.11) ...\nSelecting previously unselected package udev.\n(Reading database ... 114933 files and directories currently installed.)\nPreparing to unpack .../00-udev_249.11-0ubuntu3.11_amd64.deb ...\nUnpacking udev (249.11-0ubuntu3.11) ...\nSelecting previously unselected package cuda-license-9-0.\nPreparing to unpack .../01-cuda-license-9-0_9.0.176-1_amd64.deb ...\nUnpacking cuda-license-9-0 (9.0.176-1) ...\nSelecting previously unselected package cuda-misc-headers-9-0.\nPreparing to unpack .../02-cuda-misc-headers-9-0_9.0.176-1_amd64.deb ...\nUnpacking cuda-misc-headers-9-0 (9.0.176-1) ...\nSelecting previously unselected package cuda-core-9-0.\nPreparing to unpack .../03-cuda-core-9-0_9.0.176-1_amd64.deb ...\nUnpacking cuda-core-9-0 (9.0.176-1) ...\nSelecting previously unselected package cuda-cudart-9-0.\nPreparing to unpack .../04-cuda-cudart-9-0_9.0.176-1_amd64.deb ...\nUnpacking cuda-cudart-9-0 (9.0.176-1) ...\nSelecting previously unselected package cuda-driver-dev-9-0.\nPreparing to unpack .../05-cuda-driver-dev-9-0_9.0.176-1_amd64.deb ...\nUnpacking cuda-driver-dev-9-0 (9.0.176-1) ...\nSelecting previously unselected package cuda-cudart-dev-9-0.\nPreparing to unpack .../06-cuda-cudart-dev-9-0_9.0.176-1_amd64.deb ...\nUnpacking cuda-cudart-dev-9-0 (9.0.176-1) ...\nSelecting previously unselected package cuda-command-line-tools-9-0.\nPreparing to unpack .../07-cuda-command-line-tools-9-0_9.0.176-1_amd64.deb ...\nUnpacking cuda-command-line-tools-9-0 (9.0.176-1) ...\nSelecting previously unselected package freeglut3:amd64.\nPreparing to unpack .../08-freeglut3_2.8.1-6_amd64.deb ...\nUnpacking freeglut3:amd64 (2.8.1-6) ...\nSelecting previously unselected package xorg-sgml-doctools.\nPreparing to unpack .../09-xorg-sgml-doctools_1%3a1.11-1.1_all.deb ...\nUnpacking xorg-sgml-doctools (1:1.11-1.1) ...\nSelecting previously unselected package x11proto-dev.\nPreparing to unpack .../10-x11proto-dev_2021.5-1_all.deb ...\nUnpacking x11proto-dev (2021.5-1) ...\nSelecting previously unselected package libxau-dev:amd64.\nPreparing to unpack .../11-libxau-dev_1%3a1.0.9-1build5_amd64.deb ...\nUnpacking libxau-dev:amd64 (1:1.0.9-1build5) ...\nSelecting previously unselected package libxdmcp-dev:amd64.\nPreparing to unpack .../12-libxdmcp-dev_1%3a1.1.3-0ubuntu5_amd64.deb ...\nUnpacking libxdmcp-dev:amd64 (1:1.1.3-0ubuntu5) ...\nSelecting previously unselected package xtrans-dev.\nPreparing to unpack .../13-xtrans-dev_1.4.0-1_all.deb ...\nUnpacking xtrans-dev (1.4.0-1) ...\nSelecting previously unselected package libpthread-stubs0-dev:amd64.\nPreparing to unpack .../14-libpthread-stubs0-dev_0.4-1build2_amd64.deb ...\nUnpacking libpthread-stubs0-dev:amd64 (0.4-1build2) ...\nSelecting previously unselected package libxcb1-dev:amd64.\nPreparing to unpack .../15-libxcb1-dev_1.14-3ubuntu3_amd64.deb ...\nUnpacking libxcb1-dev:amd64 (1.14-3ubuntu3) ...\nSelecting previously unselected package libx11-dev:amd64.\nPreparing to unpack .../16-libx11-dev_2%3a1.7.5-1ubuntu0.3_amd64.deb ...\nUnpacking libx11-dev:amd64 (2:1.7.5-1ubuntu0.3) ...\nSelecting previously unselected package libglx-dev:amd64.\nPreparing to unpack .../17-libglx-dev_1.4.0-1_amd64.deb ...\nUnpacking libglx-dev:amd64 (1.4.0-1) ...\nSelecting previously unselected package libgl-dev:amd64.\nPreparing to unpack .../18-libgl-dev_1.4.0-1_amd64.deb ...\nUnpacking libgl-dev:amd64 (1.4.0-1) ...\nSelecting previously unselected package libglvnd-core-dev:amd64.\nPreparing to unpack .../19-libglvnd-core-dev_1.4.0-1_amd64.deb ...\nUnpacking libglvnd-core-dev:amd64 (1.4.0-1) ...\nSelecting previously unselected package libegl-mesa0:amd64.\nPreparing to unpack .../20-libegl-mesa0_23.0.4-0ubuntu1~22.04.1_amd64.deb ...\nUnpacking libegl-mesa0:amd64 (23.0.4-0ubuntu1~22.04.1) ...\nSelecting previously unselected package libegl1:amd64.\nPreparing to unpack .../21-libegl1_1.4.0-1_amd64.deb ...\nUnpacking libegl1:amd64 (1.4.0-1) ...\nSelecting previously unselected package libegl-dev:amd64.\nPreparing to unpack .../22-libegl-dev_1.4.0-1_amd64.deb ...\nUnpacking libegl-dev:amd64 (1.4.0-1) ...\nSelecting previously unselected package libgles1:amd64.\nPreparing to unpack .../23-libgles1_1.4.0-1_amd64.deb ...\nUnpacking libgles1:amd64 (1.4.0-1) ...\nSelecting previously unselected package libgles2:amd64.\nPreparing to unpack .../24-libgles2_1.4.0-1_amd64.deb ...\nUnpacking libgles2:amd64 (1.4.0-1) ...\nSelecting previously unselected package libgles-dev:amd64.\nPreparing to unpack .../25-libgles-dev_1.4.0-1_amd64.deb ...\nUnpacking libgles-dev:amd64 (1.4.0-1) ...\nSelecting previously unselected package libopengl0:amd64.\nPreparing to unpack .../26-libopengl0_1.4.0-1_amd64.deb ...\nUnpacking libopengl0:amd64 (1.4.0-1) ...\nSelecting previously unselected package libopengl-dev:amd64.\nPreparing to unpack .../27-libopengl-dev_1.4.0-1_amd64.deb ...\nUnpacking libopengl-dev:amd64 (1.4.0-1) ...\nSelecting previously unselected package libglvnd-dev:amd64.\nPreparing to unpack .../28-libglvnd-dev_1.4.0-1_amd64.deb ...\nUnpacking libglvnd-dev:amd64 (1.4.0-1) ...\nSelecting previously unselected package libgl1-mesa-dev:amd64.\nPreparing to unpack .../29-libgl1-mesa-dev_23.0.4-0ubuntu1~22.04.1_amd64.deb ...\nUnpacking libgl1-mesa-dev:amd64 (23.0.4-0ubuntu1~22.04.1) ...\nSelecting previously unselected package libglu1-mesa:amd64.\nPreparing to unpack .../30-libglu1-mesa_9.0.2-1_amd64.deb ...\nUnpacking libglu1-mesa:amd64 (9.0.2-1) ...\nSelecting previously unselected package libglu1-mesa-dev:amd64.\nPreparing to unpack .../31-libglu1-mesa-dev_9.0.2-1_amd64.deb ...\nUnpacking libglu1-mesa-dev:amd64 (9.0.2-1) ...\nSelecting previously unselected package libxext-dev:amd64.\nPreparing to unpack .../32-libxext-dev_2%3a1.3.4-1build1_amd64.deb ...\nUnpacking libxext-dev:amd64 (2:1.3.4-1build1) ...\nSelecting previously unselected package libice-dev:amd64.\nPreparing to unpack .../33-libice-dev_2%3a1.0.10-1build2_amd64.deb ...\nUnpacking libice-dev:amd64 (2:1.0.10-1build2) ...\nSelecting previously unselected package libsm-dev:amd64.\nPreparing to unpack .../34-libsm-dev_2%3a1.2.3-1build2_amd64.deb ...\nUnpacking libsm-dev:amd64 (2:1.2.3-1build2) ...\nSelecting previously unselected package libxt-dev:amd64.\nPreparing to unpack .../35-libxt-dev_1%3a1.2.1-1_amd64.deb ...\nUnpacking libxt-dev:amd64 (1:1.2.1-1) ...\nSelecting previously unselected package freeglut3-dev:amd64.\nPreparing to unpack .../36-freeglut3-dev_2.8.1-6_amd64.deb ...\nUnpacking freeglut3-dev:amd64 (2.8.1-6) ...\nSelecting previously unselected package libxmu-headers.\nPreparing to unpack .../37-libxmu-headers_2%3a1.1.3-3_all.deb ...\nUnpacking libxmu-headers (2:1.1.3-3) ...\nSelecting previously unselected package libxmu-dev:amd64.\nPreparing to unpack .../38-libxmu-dev_2%3a1.1.3-3_amd64.deb ...\nUnpacking libxmu-dev:amd64 (2:1.1.3-3) ...\nSelecting previously unselected package libxfixes-dev:amd64.\nPreparing to unpack .../39-libxfixes-dev_1%3a6.0.0-1_amd64.deb ...\nUnpacking libxfixes-dev:amd64 (1:6.0.0-1) ...\nSelecting previously unselected package libxi-dev:amd64.\nPreparing to unpack .../40-libxi-dev_2%3a1.8-1build1_amd64.deb ...\nUnpacking libxi-dev:amd64 (2:1.8-1build1) ...\nSelecting previously unselected package cuda-nvrtc-9-0.\nPreparing to unpack .../41-cuda-nvrtc-9-0_9.0.176-1_amd64.deb ...\nUnpacking cuda-nvrtc-9-0 (9.0.176-1) ...\nSelecting previously unselected package cuda-nvrtc-dev-9-0.\nPreparing to unpack .../42-cuda-nvrtc-dev-9-0_9.0.176-1_amd64.deb ...\nUnpacking cuda-nvrtc-dev-9-0 (9.0.176-1) ...\nSelecting previously unselected package cuda-cusolver-9-0.\nPreparing to unpack .../43-cuda-cusolver-9-0_9.0.176-1_amd64.deb ...\nUnpacking cuda-cusolver-9-0 (9.0.176-1) ...\nSelecting previously unselected package cuda-cusolver-dev-9-0.\nPreparing to unpack .../44-cuda-cusolver-dev-9-0_9.0.176-1_amd64.deb ...\nUnpacking cuda-cusolver-dev-9-0 (9.0.176-1) ...\nSelecting previously unselected package cuda-cublas-9-0.\nPreparing to unpack .../45-cuda-cublas-9-0_9.0.176-1_amd64.deb ...\nUnpacking cuda-cublas-9-0 (9.0.176-1) ...\nSelecting previously unselected package cuda-cublas-dev-9-0.\nPreparing to unpack .../46-cuda-cublas-dev-9-0_9.0.176-1_amd64.deb ...\nUnpacking cuda-cublas-dev-9-0 (9.0.176-1) ...\nSelecting previously unselected package cuda-cufft-9-0.\nPreparing to unpack .../47-cuda-cufft-9-0_9.0.176-1_amd64.deb ...\nUnpacking cuda-cufft-9-0 (9.0.176-1) ...\nSelecting previously unselected package cuda-cufft-dev-9-0.\nPreparing to unpack .../48-cuda-cufft-dev-9-0_9.0.176-1_amd64.deb ...\nUnpacking cuda-cufft-dev-9-0 (9.0.176-1) ...\nSelecting previously unselected package cuda-curand-9-0.\nPreparing to unpack .../49-cuda-curand-9-0_9.0.176-1_amd64.deb ...\nUnpacking cuda-curand-9-0 (9.0.176-1) ...\nSelecting previously unselected package cuda-curand-dev-9-0.\nPreparing to unpack .../50-cuda-curand-dev-9-0_9.0.176-1_amd64.deb ...\nUnpacking cuda-curand-dev-9-0 (9.0.176-1) ...\nSelecting previously unselected package cuda-cusparse-9-0.\nPreparing to unpack .../51-cuda-cusparse-9-0_9.0.176-1_amd64.deb ...\nUnpacking cuda-cusparse-9-0 (9.0.176-1) ...\nSelecting previously unselected package cuda-cusparse-dev-9-0.\nPreparing to unpack .../52-cuda-cusparse-dev-9-0_9.0.176-1_amd64.deb ...\nUnpacking cuda-cusparse-dev-9-0 (9.0.176-1) ...\nSelecting previously unselected package cuda-npp-9-0.\nPreparing to unpack .../53-cuda-npp-9-0_9.0.176-1_amd64.deb ...\nUnpacking cuda-npp-9-0 (9.0.176-1) ...\nSelecting previously unselected package cuda-npp-dev-9-0.\nPreparing to unpack .../54-cuda-npp-dev-9-0_9.0.176-1_amd64.deb ...\nUnpacking cuda-npp-dev-9-0 (9.0.176-1) ...\nSelecting previously unselected package cuda-nvgraph-9-0.\nPreparing to unpack .../55-cuda-nvgraph-9-0_9.0.176-1_amd64.deb ...\nUnpacking cuda-nvgraph-9-0 (9.0.176-1) ...\nSelecting previously unselected package cuda-nvgraph-dev-9-0.\nPreparing to unpack .../56-cuda-nvgraph-dev-9-0_9.0.176-1_amd64.deb ...\nUnpacking cuda-nvgraph-dev-9-0 (9.0.176-1) ...\nSelecting previously unselected package cuda-samples-9-0.\nPreparing to unpack .../57-cuda-samples-9-0_9.0.176-1_amd64.deb ...\nUnpacking cuda-samples-9-0 (9.0.176-1) ...\nSelecting previously unselected package cuda-documentation-9-0.\nPreparing to unpack .../58-cuda-documentation-9-0_9.0.176-1_amd64.deb ...\nUnpacking cuda-documentation-9-0 (9.0.176-1) ...\nSelecting previously unselected package cuda-libraries-dev-9-0.\nPreparing to unpack .../59-cuda-libraries-dev-9-0_9.0.176-1_amd64.deb ...\nUnpacking cuda-libraries-dev-9-0 (9.0.176-1) ...\nSelecting previously unselected package cuda-nvml-dev-9-0.\nPreparing to unpack .../60-cuda-nvml-dev-9-0_9.0.176-1_amd64.deb ...\nUnpacking cuda-nvml-dev-9-0 (9.0.176-1) ...\nSelecting previously unselected package cuda-visual-tools-9-0.\nPreparing to unpack .../61-cuda-visual-tools-9-0_9.0.176-1_amd64.deb ...\nUnpacking cuda-visual-tools-9-0 (9.0.176-1) ...\nSelecting previously unselected package cuda-toolkit-9-0.\nPreparing to unpack .../62-cuda-toolkit-9-0_9.0.176-1_amd64.deb ...\nUnpacking cuda-toolkit-9-0 (9.0.176-1) ...\nSelecting previously unselected package libnvidia-common-545.\nPreparing to unpack .../63-libnvidia-common-545_545.23.08-0ubuntu1_all.deb ...\nUnpacking libnvidia-common-545 (545.23.08-0ubuntu1) ...\nSelecting previously unselected package libnvidia-compute-545:amd64.\nPreparing to unpack .../64-libnvidia-compute-545_545.23.08-0ubuntu1_amd64.deb ...\nUnpacking libnvidia-compute-545:amd64 (545.23.08-0ubuntu1) ...\nSelecting previously unselected package libnvidia-decode-545:amd64.\nPreparing to unpack .../65-libnvidia-decode-545_545.23.08-0ubuntu1_amd64.deb ...\nUnpacking libnvidia-decode-545:amd64 (545.23.08-0ubuntu1) ...\nSelecting previously unselected package libnvidia-encode-545:amd64.\nPreparing to unpack .../66-libnvidia-encode-545_545.23.08-0ubuntu1_amd64.deb ...\nUnpacking libnvidia-encode-545:amd64 (545.23.08-0ubuntu1) ...\nSelecting previously unselected package libnvidia-fbc1-545:amd64.\nPreparing to unpack .../67-libnvidia-fbc1-545_545.23.08-0ubuntu1_amd64.deb ...\nUnpacking libnvidia-fbc1-545:amd64 (545.23.08-0ubuntu1) ...\nSelecting previously unselected package libnvidia-gl-545:amd64.\nPreparing to unpack .../68-libnvidia-gl-545_545.23.08-0ubuntu1_amd64.deb ...\ndpkg-query: no packages found matching libnvidia-gl-450\nUnpacking libnvidia-gl-545:amd64 (545.23.08-0ubuntu1) ...\nSelecting previously unselected package nvidia-compute-utils-545.\nPreparing to unpack .../69-nvidia-compute-utils-545_545.23.08-0ubuntu1_amd64.deb ...\nUnpacking nvidia-compute-utils-545 (545.23.08-0ubuntu1) ...\nSelecting previously unselected package nvidia-kernel-source-545.\nPreparing to unpack .../70-nvidia-kernel-source-545_545.23.08-0ubuntu1_amd64.deb ...\nUnpacking nvidia-kernel-source-545 (545.23.08-0ubuntu1) ...\nSelecting previously unselected package nvidia-kernel-common-545.\nPreparing to unpack .../71-nvidia-kernel-common-545_545.23.08-0ubuntu1_amd64.deb ...\nUnpacking nvidia-kernel-common-545 (545.23.08-0ubuntu1) ...\nSelecting previously unselected package nvidia-dkms-545.\nPreparing to unpack .../72-nvidia-dkms-545_545.23.08-0ubuntu1_amd64.deb ...\nUnpacking nvidia-dkms-545 (545.23.08-0ubuntu1) ...\nSelecting previously unselected package libnvidia-extra-545:amd64.\nPreparing to unpack .../73-libnvidia-extra-545_545.23.08-0ubuntu1_amd64.deb ...\nUnpacking libnvidia-extra-545:amd64 (545.23.08-0ubuntu1) ...\nSelecting previously unselected package nvidia-utils-545.\nPreparing to unpack .../74-nvidia-utils-545_545.23.08-0ubuntu1_amd64.deb ...\nUnpacking nvidia-utils-545 (545.23.08-0ubuntu1) ...\nSelecting previously unselected package libnvidia-cfg1-545:amd64.\nPreparing to unpack .../75-libnvidia-cfg1-545_545.23.08-0ubuntu1_amd64.deb ...\nUnpacking libnvidia-cfg1-545:amd64 (545.23.08-0ubuntu1) ...\nPreparing to unpack .../76-xserver-common_2%3a21.1.4-2ubuntu1.7~22.04.7_all.deb ...\nUnpacking xserver-common (2:21.1.4-2ubuntu1.7~22.04.7) over (2:21.1.4-2ubuntu1.7~22.04.5) ...\nSelecting previously unselected package libxcvt0:amd64.\nPreparing to unpack .../77-libxcvt0_0.1.1-3_amd64.deb ...\nUnpacking libxcvt0:amd64 (0.1.1-3) ...\nSelecting previously unselected package xserver-xorg-core.\nPreparing to unpack .../78-xserver-xorg-core_2%3a21.1.4-2ubuntu1.7~22.04.7_amd64.deb ...\nUnpacking xserver-xorg-core (2:21.1.4-2ubuntu1.7~22.04.7) ...\nSelecting previously unselected package xserver-xorg-video-nvidia-545.\nPreparing to unpack .../79-xserver-xorg-video-nvidia-545_545.23.08-0ubuntu1_amd64.deb ...\nUnpacking xserver-xorg-video-nvidia-545 (545.23.08-0ubuntu1) ...\nSelecting previously unselected package nvidia-driver-545.\nPreparing to unpack .../80-nvidia-driver-545_545.23.08-0ubuntu1_amd64.deb ...\nUnpacking nvidia-driver-545 (545.23.08-0ubuntu1) ...\nSelecting previously unselected package nvidia-modprobe.\nPreparing to unpack .../81-nvidia-modprobe_545.23.08-0ubuntu1_amd64.deb ...\nUnpacking nvidia-modprobe (545.23.08-0ubuntu1) ...\nSelecting previously unselected package python3-xkit.\nPreparing to unpack .../82-python3-xkit_0.5.0ubuntu5_all.deb ...\nUnpacking python3-xkit (0.5.0ubuntu5) ...\nSelecting previously unselected package screen-resolution-extra.\nPreparing to unpack .../83-screen-resolution-extra_0.18.2_all.deb ...\nUnpacking screen-resolution-extra (0.18.2) ...\nSelecting previously unselected package libxnvctrl0:amd64.\nPreparing to unpack .../84-libxnvctrl0_545.23.08-0ubuntu1_amd64.deb ...\nUnpacking libxnvctrl0:amd64 (545.23.08-0ubuntu1) ...\nSelecting previously unselected package nvidia-settings.\nPreparing to unpack .../85-nvidia-settings_545.23.08-0ubuntu1_amd64.deb ...\nUnpacking nvidia-settings (545.23.08-0ubuntu1) ...\nSelecting previously unselected package cuda-drivers-545.\nPreparing to unpack .../86-cuda-drivers-545_545.23.08-1_amd64.deb ...\nUnpacking cuda-drivers-545 (545.23.08-1) ...\nSelecting previously unselected package cuda-drivers.\nPreparing to unpack .../87-cuda-drivers_545.23.08-1_amd64.deb ...\nUnpacking cuda-drivers (545.23.08-1) ...\nSelecting previously unselected package cuda-libraries-9-0.\nPreparing to unpack .../88-cuda-libraries-9-0_9.0.176-1_amd64.deb ...\nUnpacking cuda-libraries-9-0 (9.0.176-1) ...\nSelecting previously unselected package cuda-runtime-9-0.\nPreparing to unpack .../89-cuda-runtime-9-0_9.0.176-1_amd64.deb ...\nUnpacking cuda-runtime-9-0 (9.0.176-1) ...\nSelecting previously unselected package cuda-demo-suite-9-0.\nPreparing to unpack .../90-cuda-demo-suite-9-0_9.0.176-1_amd64.deb ...\nUnpacking cuda-demo-suite-9-0 (9.0.176-1) ...\nSelecting previously unselected package cuda-9-0.\nPreparing to unpack .../91-cuda-9-0_9.0.176-1_amd64.deb ...\nUnpacking cuda-9-0 (9.0.176-1) ...\nSelecting previously unselected package nvidia-prime.\nPreparing to unpack .../92-nvidia-prime_0.8.17.1_all.deb ...\nUnpacking nvidia-prime (0.8.17.1) ...\nSelecting previously unselected package systemd-hwe-hwdb.\nPreparing to unpack .../93-systemd-hwe-hwdb_249.11.5_all.deb ...\nUnpacking systemd-hwe-hwdb (249.11.5) ...\nSelecting previously unselected package xcvt.\nPreparing to unpack .../94-xcvt_0.1.1-3_amd64.deb ...\nUnpacking xcvt (0.1.1-3) ...\nSetting up freeglut3:amd64 (2.8.1-6) ...\nSetting up libglvnd-core-dev:amd64 (1.4.0-1) ...\nSetting up nvidia-prime (0.8.17.1) ...\nSetting up libnvidia-compute-545:amd64 (545.23.08-0ubuntu1) ...\nSetting up systemd (249.11-0ubuntu3.11) ...\n\u001B[0;1;31m/usr/lib/tmpfiles.d/static-nodes-permissions.conf:17: Failed to resolve group 'kvm'.\u001B[0m\n\u001B[0;1;31m/usr/lib/tmpfiles.d/static-nodes-permissions.conf:18: Failed to resolve group 'kvm'.\u001B[0m\n\u001B[0;1;31m/usr/lib/tmpfiles.d/static-nodes-permissions.conf:19: Failed to resolve group 'kvm'.\u001B[0m\nSetting up libnvidia-decode-545:amd64 (545.23.08-0ubuntu1) ...\nSetting up libpthread-stubs0-dev:amd64 (0.4-1build2) ...\nSetting up libopengl0:amd64 (1.4.0-1) ...\nSetting up nvidia-modprobe (545.23.08-0ubuntu1) ...\nSetting up libnvidia-extra-545:amd64 (545.23.08-0ubuntu1) ...\nSetting up libxnvctrl0:amd64 (545.23.08-0ubuntu1) ...\nSetting up nvidia-kernel-source-545 (545.23.08-0ubuntu1) ...\nSetting up xtrans-dev (1.4.0-1) ...\nSetting up nvidia-utils-545 (545.23.08-0ubuntu1) ...\nSetting up libegl-mesa0:amd64 (23.0.4-0ubuntu1~22.04.1) ...\nSetting up libgles2:amd64 (1.4.0-1) ...\nSetting up libnvidia-common-545 (545.23.08-0ubuntu1) ...\nSetting up libnvidia-fbc1-545:amd64 (545.23.08-0ubuntu1) ...\nSetting up nvidia-compute-utils-545 (545.23.08-0ubuntu1) ...\nWarning: The home dir /nonexistent you specified can't be accessed: No such file or directory\nAdding system user `nvidia-persistenced' (UID 104) ...\nAdding new group `nvidia-persistenced' (GID 107) ...\nAdding new user `nvidia-persistenced' (UID 104) with group `nvidia-persistenced' ...\nNot creating home directory `/nonexistent'.\nCreated symlink /etc/systemd/system/multi-user.target.wants/nvidia-persistenced.service -> /lib/systemd/system/nvidia-persistenced.service.\nSetting up libgles1:amd64 (1.4.0-1) ...\nSetting up udev (249.11-0ubuntu3.11) ...\ninvoke-rc.d: could not determine current runlevel\ninvoke-rc.d: policy-rc.d denied execution of start.\nSetting up systemd-hwe-hwdb (249.11.5) ...\nSetting up libnvidia-cfg1-545:amd64 (545.23.08-0ubuntu1) ...\nSetting up cuda-license-9-0 (9.0.176-1) ...\n*** LICENSE AGREEMENT ***\nBy using this software you agree to fully comply with the terms and \nconditions of the EULA (End User License Agreement). The EULA is located\nat /usr/local/cuda-9.0/doc/EULA.txt. The EULA can also be found at\nhttp://docs.nvidia.com/cuda/eula/index.html. If you do not agree to the\nterms and conditions of the EULA, do not use the software.\n\nSetting up cuda-nvgraph-9-0 (9.0.176-1) ...\nSetting up libegl1:amd64 (1.4.0-1) ...\nSetting up libxcvt0:amd64 (0.1.1-3) ...\nSetting up libnvidia-encode-545:amd64 (545.23.08-0ubuntu1) ...\nSetting up xorg-sgml-doctools (1:1.11-1.1) ...\nSetting up libglu1-mesa:amd64 (9.0.2-1) ...\nSetting up xserver-common (2:21.1.4-2ubuntu1.7~22.04.7) ...\nSetting up cuda-npp-9-0 (9.0.176-1) ...\nSetting up libopengl-dev:amd64 (1.4.0-1) ...\nSetting up cuda-cusolver-9-0 (9.0.176-1) ...\nSetting up python3-xkit (0.5.0ubuntu5) ...\nSetting up nvidia-kernel-common-545 (545.23.08-0ubuntu1) ...\nSetting up cuda-cusolver-dev-9-0 (9.0.176-1) ...\nSetting up cuda-misc-headers-9-0 (9.0.176-1) ...\nSetting up x11proto-dev (2021.5-1) ...\nSetting up systemd-sysv (249.11-0ubuntu3.11) ...\nSetting up cuda-cufft-9-0 (9.0.176-1) ...\nSetting up libxau-dev:amd64 (1:1.0.9-1build5) ...\nSetting up libice-dev:amd64 (2:1.0.10-1build2) ...\nSetting up cuda-nvrtc-9-0 (9.0.176-1) ...\nSetting up libsm-dev:amd64 (2:1.2.3-1build2) ...\nSetting up cuda-core-9-0 (9.0.176-1) ...\nSetting up xserver-xorg-core (2:21.1.4-2ubuntu1.7~22.04.7) ...\nSetting up nvidia-dkms-545 (545.23.08-0ubuntu1) ...\n\nA modprobe blacklist file has been created at /etc/modprobe.d to prevent Nouveau\nfrom loading. This can be reverted by deleting the following file:\n/etc/modprobe.d/nvidia-graphics-drivers.conf\n\nA new initrd image has also been created. To revert, please regenerate your\ninitrd by running the following command after deleting the modprobe.d file:\n`/usr/sbin/initramfs -u`\n\n*****************************************************************************\n*** Reboot your computer and verify that the NVIDIA graphics driver can   ***\n*** be loaded.                                                            ***\n*****************************************************************************\n\nLoading new nvidia-545.23.08 DKMS files...\nIt is likely that 5.15.133+ belongs to a chroot's host\nBuilding for \nBuilding for architecture x86_64\nSetting up cuda-cudart-9-0 (9.0.176-1) ...\nSetting up cuda-curand-9-0 (9.0.176-1) ...\nSetting up cuda-cufft-dev-9-0 (9.0.176-1) ...\nSetting up cuda-cusparse-9-0 (9.0.176-1) ...\nSetting up xcvt (0.1.1-3) ...\nSetting up libxdmcp-dev:amd64 (1:1.1.3-0ubuntu5) ...\nSetting up cuda-driver-dev-9-0 (9.0.176-1) ...\nSetting up libnvidia-gl-545:amd64 (545.23.08-0ubuntu1) ...\nSetting up cuda-cublas-9-0 (9.0.176-1) ...\nSetting up cuda-npp-dev-9-0 (9.0.176-1) ...\nSetting up cuda-nvml-dev-9-0 (9.0.176-1) ...\nSetting up cuda-nvgraph-dev-9-0 (9.0.176-1) ...\nSetting up screen-resolution-extra (0.18.2) ...\nSetting up libpam-systemd:amd64 (249.11-0ubuntu3.11) ...\nSetting up nvidia-settings (545.23.08-0ubuntu1) ...\nSetting up cuda-cublas-dev-9-0 (9.0.176-1) ...\nSetting up cuda-nvrtc-dev-9-0 (9.0.176-1) ...\nSetting up cuda-libraries-9-0 (9.0.176-1) ...\nSetting up cuda-cudart-dev-9-0 (9.0.176-1) ...\nSetting up libxcb1-dev:amd64 (1.14-3ubuntu3) ...\nSetting up cuda-curand-dev-9-0 (9.0.176-1) ...\nSetting up xserver-xorg-video-nvidia-545 (545.23.08-0ubuntu1) ...\nSetting up libx11-dev:amd64 (2:1.7.5-1ubuntu0.3) ...\nSetting up cuda-command-line-tools-9-0 (9.0.176-1) ...\nSetting up cuda-cusparse-dev-9-0 (9.0.176-1) ...\nSetting up libxfixes-dev:amd64 (1:6.0.0-1) ...\nSetting up libxt-dev:amd64 (1:1.2.1-1) ...\nSetting up libxext-dev:amd64 (2:1.3.4-1build1) ...\nSetting up cuda-visual-tools-9-0 (9.0.176-1) ...\nSetting up libglx-dev:amd64 (1.4.0-1) ...\nSetting up nvidia-driver-545 (545.23.08-0ubuntu1) ...\nSetting up libxi-dev:amd64 (2:1.8-1build1) ...\nSetting up libgl-dev:amd64 (1.4.0-1) ...\nSetting up libxmu-headers (2:1.1.3-3) ...\nSetting up libegl-dev:amd64 (1.4.0-1) ...\nSetting up cuda-libraries-dev-9-0 (9.0.176-1) ...\nSetting up libxmu-dev:amd64 (2:1.1.3-3) ...\nSetting up cuda-drivers-545 (545.23.08-1) ...\nSetting up libglu1-mesa-dev:amd64 (9.0.2-1) ...\nSetting up cuda-drivers (545.23.08-1) ...\nSetting up libgles-dev:amd64 (1.4.0-1) ...\nSetting up libglvnd-dev:amd64 (1.4.0-1) ...\nSetting up cuda-runtime-9-0 (9.0.176-1) ...\nSetting up libgl1-mesa-dev:amd64 (23.0.4-0ubuntu1~22.04.1) ...\nSetting up freeglut3-dev:amd64 (2.8.1-6) ...\nSetting up cuda-demo-suite-9-0 (9.0.176-1) ...\nSetting up cuda-samples-9-0 (9.0.176-1) ...\nSetting up cuda-documentation-9-0 (9.0.176-1) ...\nSetting up cuda-toolkit-9-0 (9.0.176-1) ...\nSetting up cuda-9-0 (9.0.176-1) ...\nProcessing triggers for libc-bin (2.35-0ubuntu3.1) ...\nProcessing triggers for man-db (2.10.2-1) ...\nProcessing triggers for dbus (1.12.20-2ubuntu4.1) ...\n",
     "output_type": "stream"
    }
   ]
  },
  {
   "cell_type": "code",
   "source": [],
   "metadata": {
    "colab": {
     "base_uri": "https://localhost:8080/"
    },
    "id": "Y8vZH8xtrcbC",
    "outputId": "75f03dd0-0105-4e8a-cd9b-0abd6872ff02",
    "trusted": true
   },
   "execution_count": null,
   "outputs": []
  },
  {
   "cell_type": "code",
   "source": [],
   "metadata": {
    "colab": {
     "base_uri": "https://localhost:8080/"
    },
    "id": "Y8vZH8xtrcbC",
    "outputId": "75f03dd0-0105-4e8a-cd9b-0abd6872ff02",
    "trusted": true
   },
   "execution_count": null,
   "outputs": []
  },
  {
   "cell_type": "code",
   "source": [
    "!nvcc --version"
   ],
   "metadata": {
    "id": "RFMrapCJuiug",
    "colab": {
     "base_uri": "https://localhost:8080/"
    },
    "outputId": "8c4d376f-700f-4b98-b91b-2ac732309613",
    "execution": {
     "iopub.status.busy": "2024-01-17T10:15:41.221714Z",
     "iopub.execute_input": "2024-01-17T10:15:41.222782Z",
     "iopub.status.idle": "2024-01-17T10:15:42.279008Z",
     "shell.execute_reply.started": "2024-01-17T10:15:41.222748Z",
     "shell.execute_reply": "2024-01-17T10:15:42.277759Z"
    },
    "trusted": true
   },
   "execution_count": 8,
   "outputs": [
    {
     "name": "stdout",
     "text": "nvcc: NVIDIA (R) Cuda compiler driver\nCopyright (c) 2005-2017 NVIDIA Corporation\nBuilt on Fri_Sep__1_21:08:03_CDT_2017\nCuda compilation tools, release 9.0, V9.0.176\n",
     "output_type": "stream"
    }
   ]
  },
  {
   "cell_type": "markdown",
   "source": [
    "### Set the random seed to 42 control variations"
   ],
   "metadata": {
    "id": "dda8shCoSlIt"
   }
  },
  {
   "cell_type": "code",
   "source": [
    "import os\n",
    "import random\n",
    "random.seed(42)"
   ],
   "metadata": {
    "id": "QhThJNOvSlIx",
    "execution": {
     "iopub.status.busy": "2024-01-17T10:15:42.280683Z",
     "iopub.execute_input": "2024-01-17T10:15:42.281047Z",
     "iopub.status.idle": "2024-01-17T10:15:42.286238Z",
     "shell.execute_reply.started": "2024-01-17T10:15:42.281017Z",
     "shell.execute_reply": "2024-01-17T10:15:42.285337Z"
    },
    "trusted": true
   },
   "execution_count": 9,
   "outputs": []
  },
  {
   "cell_type": "code",
   "source": [
    "import pandas as pd\n",
    "import numpy as np\n",
    "import matplotlib.pyplot as plt"
   ],
   "metadata": {
    "id": "eN6ez4tD3QOb",
    "execution": {
     "iopub.status.busy": "2024-01-17T10:15:42.287420Z",
     "iopub.execute_input": "2024-01-17T10:15:42.287836Z",
     "iopub.status.idle": "2024-01-17T10:15:43.783361Z",
     "shell.execute_reply.started": "2024-01-17T10:15:42.287779Z",
     "shell.execute_reply": "2024-01-17T10:15:43.782577Z"
    },
    "trusted": true
   },
   "execution_count": 10,
   "outputs": []
  },
  {
   "cell_type": "code",
   "source": [
    "# from google.colab import drive\n",
    "# drive.mount('/content/drive')"
   ],
   "metadata": {
    "colab": {
     "base_uri": "https://localhost:8080/"
    },
    "id": "_DgMnjBc-Tt0",
    "outputId": "1fe17080-4db1-4eb3-9c4b-2407ddb6a88c",
    "execution": {
     "iopub.status.busy": "2024-01-17T10:15:43.784620Z",
     "iopub.execute_input": "2024-01-17T10:15:43.785207Z",
     "iopub.status.idle": "2024-01-17T10:15:43.789667Z",
     "shell.execute_reply.started": "2024-01-17T10:15:43.785172Z",
     "shell.execute_reply": "2024-01-17T10:15:43.788643Z"
    },
    "trusted": true
   },
   "execution_count": 11,
   "outputs": []
  },
  {
   "cell_type": "code",
   "source": [
    "df = pd.read_json('/kaggle/input/ics5110/News_Category_Dataset_v3.json',lines=True)\n",
    "beforeMay2018 = df[pd.to_datetime(df[\"date\"]).dt.strftime('%Y-%m-%d')<=\"2019-01-31\"]\n",
    "\n",
    "required_columns = [\"BLACK VOICES\",\n",
    "                    \"COMEDY\",\n",
    "                    \"CRIME\",\n",
    "                    \"DIVORCE\",\n",
    "                    \"GREEN\",\n",
    "                    \"HOME & LIVING\",\n",
    "                    \"IMPACT\",\n",
    "                    \"MEDIA\",\n",
    "                    \"PARENTS\",\n",
    "                    \"RELIGION\",\n",
    "                    \"SPORTS\",\n",
    "                    \"STYLE\",\n",
    "                    \"THE WORLDPOST\",\n",
    "                    \"WEDDINGS\",\n",
    "                    \"WEIRD NEWS\",\n",
    "                    \"WOMEN\",\n",
    "                    \"WORLD NEWS\",\n",
    "                    \"WORLDPOST\"]\n",
    "df = df[df[\"date\"] < \"2018-05-26\"]\n",
    "df = df[df[\"category\"].isin(required_columns)]\n",
    "\n",
    "df.drop(['authors', 'link', 'date'], axis = 1, inplace = True)\n",
    "\n",
    "df.head()"
   ],
   "metadata": {
    "colab": {
     "base_uri": "https://localhost:8080/",
     "height": 293
    },
    "id": "8uJkM7C13QOe",
    "outputId": "25549eea-1083-4bc0-ceca-7a287c1c9400",
    "execution": {
     "iopub.status.busy": "2024-01-17T10:15:43.790943Z",
     "iopub.execute_input": "2024-01-17T10:15:43.791304Z",
     "iopub.status.idle": "2024-01-17T10:15:46.926725Z",
     "shell.execute_reply.started": "2024-01-17T10:15:43.791271Z",
     "shell.execute_reply": "2024-01-17T10:15:46.925839Z"
    },
    "trusted": true
   },
   "execution_count": 12,
   "outputs": [
    {
     "execution_count": 12,
     "output_type": "execute_result",
     "data": {
      "text/plain": "                                               headline      category  \\\n8697  North Korea Still Open To Talks After Trump Ca...    WORLD NEWS   \n8698  2 Men Detonate Bomb Inside Indian Restaurant N...    WORLD NEWS   \n8699  Thousands Travel Home To Ireland To Vote On Ab...    WORLD NEWS   \n8700  Irish Voters Set To Liberalize Abortion Laws I...    WORLD NEWS   \n8701  Warriors Coach Steve Kerr Calls NFL Ban On Pro...  BLACK VOICES   \n\n                                      short_description  \n8697  Trump’s announcement came after repeated threa...  \n8698  Fifteen people were taken to the hospital, thr...  \n8699  Just try to read these #HomeToVote tweets with...  \n8700                 Vote counting will begin Saturday.  \n8701  Forbidding players to take a knee during the n...  ",
      "text/html": "<div>\n<style scoped>\n    .dataframe tbody tr th:only-of-type {\n        vertical-align: middle;\n    }\n\n    .dataframe tbody tr th {\n        vertical-align: top;\n    }\n\n    .dataframe thead th {\n        text-align: right;\n    }\n</style>\n<table border=\"1\" class=\"dataframe\">\n  <thead>\n    <tr style=\"text-align: right;\">\n      <th></th>\n      <th>headline</th>\n      <th>category</th>\n      <th>short_description</th>\n    </tr>\n  </thead>\n  <tbody>\n    <tr>\n      <th>8697</th>\n      <td>North Korea Still Open To Talks After Trump Ca...</td>\n      <td>WORLD NEWS</td>\n      <td>Trump’s announcement came after repeated threa...</td>\n    </tr>\n    <tr>\n      <th>8698</th>\n      <td>2 Men Detonate Bomb Inside Indian Restaurant N...</td>\n      <td>WORLD NEWS</td>\n      <td>Fifteen people were taken to the hospital, thr...</td>\n    </tr>\n    <tr>\n      <th>8699</th>\n      <td>Thousands Travel Home To Ireland To Vote On Ab...</td>\n      <td>WORLD NEWS</td>\n      <td>Just try to read these #HomeToVote tweets with...</td>\n    </tr>\n    <tr>\n      <th>8700</th>\n      <td>Irish Voters Set To Liberalize Abortion Laws I...</td>\n      <td>WORLD NEWS</td>\n      <td>Vote counting will begin Saturday.</td>\n    </tr>\n    <tr>\n      <th>8701</th>\n      <td>Warriors Coach Steve Kerr Calls NFL Ban On Pro...</td>\n      <td>BLACK VOICES</td>\n      <td>Forbidding players to take a knee during the n...</td>\n    </tr>\n  </tbody>\n</table>\n</div>"
     },
     "metadata": {}
    }
   ]
  },
  {
   "cell_type": "code",
   "source": [
    "categories = df['category'].value_counts().index\n",
    "\n",
    "def groupper(grouplist,name):\n",
    "    for ele in categories:\n",
    "        if ele in grouplist:\n",
    "            df.loc[df['category'] == ele, 'category'] = name"
   ],
   "metadata": {
    "id": "ZH1nKb0oacGy",
    "execution": {
     "iopub.status.busy": "2024-01-17T10:15:46.927850Z",
     "iopub.execute_input": "2024-01-17T10:15:46.928138Z",
     "iopub.status.idle": "2024-01-17T10:15:46.945982Z",
     "shell.execute_reply.started": "2024-01-17T10:15:46.928114Z",
     "shell.execute_reply": "2024-01-17T10:15:46.945167Z"
    },
    "trusted": true
   },
   "execution_count": 13,
   "outputs": []
  },
  {
   "cell_type": "code",
   "source": [
    "groupper( grouplist= ['WELLNESS', 'HEALTHY LIVING','HOME & LIVING','STYLE & BEAUTY' ,'STYLE'] , name =  'LIFESTYLE AND WELLNESS')\n",
    "\n",
    "groupper( grouplist= [ 'PARENTING', 'PARENTS' ,'EDUCATION' ,'COLLEGE'] , name =  'PARENTING AND EDUCATION')\n",
    "\n",
    "groupper( grouplist= ['SPORTS','ENTERTAINMENT' , 'COMEDY','WEIRD NEWS','ARTS'] , name =  'SPORTS AND ENTERTAINMENT')\n",
    "\n",
    "groupper( grouplist= ['TRAVEL', 'ARTS & CULTURE','CULTURE & ARTS','FOOD & DRINK', 'TASTE'] , name =  'TRAVEL-TOURISM & ART-CULTURE')\n",
    "\n",
    "groupper( grouplist= ['WOMEN','QUEER VOICES', 'LATINO VOICES', 'BLACK VOICES'] , name =  'EMPOWERED VOICES')\n",
    "\n",
    "groupper( grouplist= ['BUSINESS' ,  'MONEY'] , name =  'BUSINESS-MONEY')\n",
    "\n",
    "groupper( grouplist= ['THE WORLDPOST' , 'WORLDPOST' , 'WORLD NEWS'] , name =  'WORLDNEWS')\n",
    "\n",
    "groupper( grouplist= ['ENVIRONMENT' ,'GREEN'] , name =  'ENVIRONMENT')\n",
    "\n",
    "groupper( grouplist= ['TECH', 'SCIENCE'] , name =  'SCIENCE AND TECH')\n",
    "\n",
    "groupper( grouplist= ['FIFTY' , 'IMPACT' ,'GOOD NEWS','CRIME'] , name =  'GENERAL')\n",
    "\n",
    "groupper( grouplist= ['WEDDINGS', 'DIVORCE',  'RELIGION','MEDIA'] , name =  'MISC')"
   ],
   "metadata": {
    "id": "e2TuCnkpaaJh",
    "execution": {
     "iopub.status.busy": "2024-01-17T10:15:46.950509Z",
     "iopub.execute_input": "2024-01-17T10:15:46.950783Z",
     "iopub.status.idle": "2024-01-17T10:15:47.143475Z",
     "shell.execute_reply.started": "2024-01-17T10:15:46.950758Z",
     "shell.execute_reply": "2024-01-17T10:15:47.142476Z"
    },
    "trusted": true
   },
   "execution_count": 14,
   "outputs": []
  },
  {
   "cell_type": "code",
   "source": [
    "print(\"We have a total of {} categories now\".format(df['category'].nunique()))\n",
    "df['category'].value_counts()"
   ],
   "metadata": {
    "colab": {
     "base_uri": "https://localhost:8080/"
    },
    "id": "w6s2ee4g3QOh",
    "outputId": "febf16c6-8c97-4013-8f6a-d522641407ad",
    "execution": {
     "iopub.status.busy": "2024-01-17T10:15:47.144975Z",
     "iopub.execute_input": "2024-01-17T10:15:47.145274Z",
     "iopub.status.idle": "2024-01-17T10:15:47.165052Z",
     "shell.execute_reply.started": "2024-01-17T10:15:47.145250Z",
     "shell.execute_reply": "2024-01-17T10:15:47.164177Z"
    },
    "trusted": true
   },
   "execution_count": 15,
   "outputs": [
    {
     "name": "stdout",
     "text": "We have a total of 8 categories now\n",
     "output_type": "stream"
    },
    {
     "execution_count": 15,
     "output_type": "execute_result",
     "data": {
      "text/plain": "category\nSPORTS AND ENTERTAINMENT    12727\nMISC                        12448\nWORLDNEWS                    8419\nEMPOWERED VOICES             8018\nGENERAL                      6862\nLIFESTYLE AND WELLNESS       6449\nPARENTING AND EDUCATION      3955\nENVIRONMENT                  2622\nName: count, dtype: int64"
     },
     "metadata": {}
    }
   ]
  },
  {
   "cell_type": "code",
   "source": [
    "#from https://www.kaggle.com/code/dima806/news-category-classification-distilbert\n",
    "\n",
    "item0 = df.shape[0]  # Store the initial number of items in the DataFrame\n",
    "df = df.drop_duplicates()  # Remove duplicate rows from the DataFrame\n",
    "item1 = df.shape[0]  # Store the number of items in the DataFrame after removing duplicates\n",
    "print(f\"There are {item0-item1} duplicates found in the dataset\")  # Print the number of duplicates removed\n",
    "\n",
    "df = df.rename(columns={'category': 'label'})  # Rename the 'category' column to 'label'\n",
    "\n",
    "df['title'] = df['headline'] + ' ' + df['short_description']  # Create a new 'title' column by combining 'headline' and 'short_description'\n",
    "\n",
    "df = df[['label', 'title']]  # Select only the 'label' and 'title' columns\n",
    "df = df[~df['title'].isnull()]  # Remove rows where 'title' is null\n",
    "df = df[~df['label'].isnull()]  # Remove rows where 'label' is null\n",
    "\n",
    "print(df.shape)  # Print the shape of the DataFrame after data preprocessing\n",
    "df.sample(5).T  # Display a random sample of 5 rows from the DataFrame"
   ],
   "metadata": {
    "colab": {
     "base_uri": "https://localhost:8080/",
     "height": 268
    },
    "id": "jdsmm1arWHIi",
    "outputId": "e7e1a7c3-ede9-4b4e-cc01-14c170a879a9",
    "execution": {
     "iopub.status.busy": "2024-01-17T10:15:47.166253Z",
     "iopub.execute_input": "2024-01-17T10:15:47.166600Z",
     "iopub.status.idle": "2024-01-17T10:15:47.302610Z",
     "shell.execute_reply.started": "2024-01-17T10:15:47.166567Z",
     "shell.execute_reply": "2024-01-17T10:15:47.301526Z"
    },
    "trusted": true
   },
   "execution_count": 16,
   "outputs": [
    {
     "name": "stdout",
     "text": "There are 218 duplicates found in the dataset\n(61282, 2)\n",
     "output_type": "stream"
    },
    {
     "execution_count": 16,
     "output_type": "execute_result",
     "data": {
      "text/plain": "                                                 103678  \\\nlabel                          SPORTS AND ENTERTAINMENT   \ntitle  Bill Maher Slams Liberals For Slamming Liberals    \n\n                                                  104366  \\\nlabel                                            GENERAL   \ntitle  Mom Allegedly Murders Her Children, Stands Out...   \n\n                                                  129287  \\\nlabel                            PARENTING AND EDUCATION   \ntitle  Why A Rhinestone Bracelet Meant The World To M...   \n\n                                                  56623   \\\nlabel                                        ENVIRONMENT   \ntitle  Tropical Storm Julia Forms Along Florida's Coa...   \n\n                                             126093  \nlabel                                          MISC  \ntitle  Newspaper Reporters Get Some Very Grim News   ",
      "text/html": "<div>\n<style scoped>\n    .dataframe tbody tr th:only-of-type {\n        vertical-align: middle;\n    }\n\n    .dataframe tbody tr th {\n        vertical-align: top;\n    }\n\n    .dataframe thead th {\n        text-align: right;\n    }\n</style>\n<table border=\"1\" class=\"dataframe\">\n  <thead>\n    <tr style=\"text-align: right;\">\n      <th></th>\n      <th>103678</th>\n      <th>104366</th>\n      <th>129287</th>\n      <th>56623</th>\n      <th>126093</th>\n    </tr>\n  </thead>\n  <tbody>\n    <tr>\n      <th>label</th>\n      <td>SPORTS AND ENTERTAINMENT</td>\n      <td>GENERAL</td>\n      <td>PARENTING AND EDUCATION</td>\n      <td>ENVIRONMENT</td>\n      <td>MISC</td>\n    </tr>\n    <tr>\n      <th>title</th>\n      <td>Bill Maher Slams Liberals For Slamming Liberals</td>\n      <td>Mom Allegedly Murders Her Children, Stands Out...</td>\n      <td>Why A Rhinestone Bracelet Meant The World To M...</td>\n      <td>Tropical Storm Julia Forms Along Florida's Coa...</td>\n      <td>Newspaper Reporters Get Some Very Grim News</td>\n    </tr>\n  </tbody>\n</table>\n</div>"
     },
     "metadata": {}
    }
   ]
  },
  {
   "cell_type": "code",
   "source": [
    "!"
   ],
   "metadata": {
    "id": "lUYNzB1iXGUP",
    "execution": {
     "iopub.status.busy": "2024-01-17T10:15:47.304149Z",
     "iopub.execute_input": "2024-01-17T10:15:47.304590Z",
     "iopub.status.idle": "2024-01-17T10:15:48.334195Z",
     "shell.execute_reply.started": "2024-01-17T10:15:47.304548Z",
     "shell.execute_reply": "2024-01-17T10:15:48.332976Z"
    },
    "trusted": true
   },
   "execution_count": 17,
   "outputs": []
  },
  {
   "cell_type": "code",
   "source": [
    "!pip install nltk==3.8.1\n",
    "!pip install neattext==0.1.3"
   ],
   "metadata": {
    "colab": {
     "base_uri": "https://localhost:8080/"
    },
    "id": "nN2SeV4iXN1-",
    "outputId": "ad8e7d74-9e17-4945-db00-063a9f58e3a3",
    "execution": {
     "iopub.status.busy": "2024-01-17T10:15:48.335946Z",
     "iopub.execute_input": "2024-01-17T10:15:48.336399Z",
     "iopub.status.idle": "2024-01-17T10:16:16.654992Z",
     "shell.execute_reply.started": "2024-01-17T10:15:48.336361Z",
     "shell.execute_reply": "2024-01-17T10:16:16.654015Z"
    },
    "trusted": true
   },
   "execution_count": 18,
   "outputs": [
    {
     "name": "stdout",
     "text": "Collecting nltk==3.8.1\n  Downloading nltk-3.8.1-py3-none-any.whl (1.5 MB)\n\u001B[2K     \u001B[90m━━━━━━━━━━━━━━━━━━━━━━━━━━━━━━━━━━━━━━━━\u001B[0m \u001B[32m1.5/1.5 MB\u001B[0m \u001B[31m7.4 MB/s\u001B[0m eta \u001B[36m0:00:00\u001B[0ma \u001B[36m0:00:01\u001B[0m\n\u001B[?25hRequirement already satisfied: click in /opt/conda/lib/python3.10/site-packages (from nltk==3.8.1) (8.1.7)\nRequirement already satisfied: joblib in /opt/conda/lib/python3.10/site-packages (from nltk==3.8.1) (1.3.2)\nRequirement already satisfied: regex>=2021.8.3 in /opt/conda/lib/python3.10/site-packages (from nltk==3.8.1) (2023.8.8)\nRequirement already satisfied: tqdm in /opt/conda/lib/python3.10/site-packages (from nltk==3.8.1) (4.66.1)\nInstalling collected packages: nltk\n  Attempting uninstall: nltk\n    Found existing installation: nltk 3.2.4\n    Uninstalling nltk-3.2.4:\n      Successfully uninstalled nltk-3.2.4\n\u001B[31mERROR: pip's dependency resolver does not currently take into account all the packages that are installed. This behaviour is the source of the following dependency conflicts.\npreprocessing 0.1.13 requires nltk==3.2.4, but you have nltk 3.8.1 which is incompatible.\u001B[0m\u001B[31m\n\u001B[0mSuccessfully installed nltk-3.8.1\nCollecting neattext==0.1.3\n  Downloading neattext-0.1.3-py3-none-any.whl (114 kB)\n\u001B[2K     \u001B[90m━━━━━━━━━━━━━━━━━━━━━━━━━━━━━━━━━━━━━━━\u001B[0m \u001B[32m114.7/114.7 kB\u001B[0m \u001B[31m1.3 MB/s\u001B[0m eta \u001B[36m0:00:00\u001B[0ma \u001B[36m0:00:01\u001B[0m\n\u001B[?25hInstalling collected packages: neattext\nSuccessfully installed neattext-0.1.3\n",
     "output_type": "stream"
    }
   ]
  },
  {
   "cell_type": "code",
   "source": [
    "import nltk\n",
    "nltk.download('wordnet')\n",
    "nltk.download('punkt')\n",
    "nltk.download('popular')\n",
    "from nltk.corpus import stopwords\n",
    "from nltk.tokenize import word_tokenize\n",
    "import re\n",
    "from nltk.stem import WordNetLemmatizer\n",
    "lemmatizer = WordNetLemmatizer()\n"
   ],
   "metadata": {
    "execution": {
     "iopub.status.busy": "2024-01-17T10:16:16.656606Z",
     "iopub.execute_input": "2024-01-17T10:16:16.657002Z",
     "iopub.status.idle": "2024-01-17T10:16:18.849545Z",
     "shell.execute_reply.started": "2024-01-17T10:16:16.656963Z",
     "shell.execute_reply": "2024-01-17T10:16:18.848432Z"
    },
    "trusted": true
   },
   "execution_count": 19,
   "outputs": [
    {
     "name": "stderr",
     "text": "/opt/conda/lib/python3.10/site-packages/scipy/__init__.py:146: UserWarning: A NumPy version >=1.16.5 and <1.23.0 is required for this version of SciPy (detected version 1.24.3\n  warnings.warn(f\"A NumPy version >={np_minversion} and <{np_maxversion}\"\n[nltk_data] Downloading package wordnet to /usr/share/nltk_data...\n[nltk_data]   Package wordnet is already up-to-date!\n[nltk_data] Downloading package punkt to /usr/share/nltk_data...\n[nltk_data]   Package punkt is already up-to-date!\n[nltk_data] Downloading collection 'popular'\n[nltk_data]    | \n[nltk_data]    | Downloading package cmudict to\n[nltk_data]    |     /usr/share/nltk_data...\n[nltk_data]    |   Package cmudict is already up-to-date!\n[nltk_data]    | Downloading package gazetteers to\n[nltk_data]    |     /usr/share/nltk_data...\n[nltk_data]    |   Package gazetteers is already up-to-date!\n[nltk_data]    | Downloading package genesis to\n[nltk_data]    |     /usr/share/nltk_data...\n[nltk_data]    |   Package genesis is already up-to-date!\n[nltk_data]    | Downloading package gutenberg to\n[nltk_data]    |     /usr/share/nltk_data...\n[nltk_data]    |   Package gutenberg is already up-to-date!\n[nltk_data]    | Downloading package inaugural to\n[nltk_data]    |     /usr/share/nltk_data...\n[nltk_data]    |   Package inaugural is already up-to-date!\n[nltk_data]    | Downloading package movie_reviews to\n[nltk_data]    |     /usr/share/nltk_data...\n[nltk_data]    |   Package movie_reviews is already up-to-date!\n[nltk_data]    | Downloading package names to /usr/share/nltk_data...\n[nltk_data]    |   Package names is already up-to-date!\n[nltk_data]    | Downloading package shakespeare to\n[nltk_data]    |     /usr/share/nltk_data...\n[nltk_data]    |   Package shakespeare is already up-to-date!\n[nltk_data]    | Downloading package stopwords to\n[nltk_data]    |     /usr/share/nltk_data...\n[nltk_data]    |   Package stopwords is already up-to-date!\n[nltk_data]    | Downloading package treebank to\n[nltk_data]    |     /usr/share/nltk_data...\n[nltk_data]    |   Package treebank is already up-to-date!\n[nltk_data]    | Downloading package twitter_samples to\n[nltk_data]    |     /usr/share/nltk_data...\n[nltk_data]    |   Package twitter_samples is already up-to-date!\n[nltk_data]    | Downloading package omw to /usr/share/nltk_data...\n[nltk_data]    |   Package omw is already up-to-date!\n[nltk_data]    | Downloading package omw-1.4 to\n[nltk_data]    |     /usr/share/nltk_data...\n[nltk_data]    | Downloading package wordnet to\n[nltk_data]    |     /usr/share/nltk_data...\n[nltk_data]    |   Package wordnet is already up-to-date!\n[nltk_data]    | Downloading package wordnet2021 to\n[nltk_data]    |     /usr/share/nltk_data...\n[nltk_data]    | Downloading package wordnet31 to\n[nltk_data]    |     /usr/share/nltk_data...\n[nltk_data]    | Downloading package wordnet_ic to\n[nltk_data]    |     /usr/share/nltk_data...\n[nltk_data]    |   Package wordnet_ic is already up-to-date!\n[nltk_data]    | Downloading package words to /usr/share/nltk_data...\n[nltk_data]    |   Package words is already up-to-date!\n[nltk_data]    | Downloading package maxent_ne_chunker to\n[nltk_data]    |     /usr/share/nltk_data...\n[nltk_data]    |   Package maxent_ne_chunker is already up-to-date!\n[nltk_data]    | Downloading package punkt to /usr/share/nltk_data...\n[nltk_data]    |   Package punkt is already up-to-date!\n[nltk_data]    | Downloading package snowball_data to\n[nltk_data]    |     /usr/share/nltk_data...\n[nltk_data]    |   Package snowball_data is already up-to-date!\n[nltk_data]    | Downloading package averaged_perceptron_tagger to\n[nltk_data]    |     /usr/share/nltk_data...\n[nltk_data]    |   Package averaged_perceptron_tagger is already up-\n[nltk_data]    |       to-date!\n[nltk_data]    | \n[nltk_data]  Done downloading collection popular\n",
     "output_type": "stream"
    }
   ]
  },
  {
   "cell_type": "code",
   "source": [
    "import neattext.functions as nfx\n",
    "\n",
    "\n",
    "lemmatizer = WordNetLemmatizer()\n",
    "tknzr = nltk.tokenize\n",
    "\n",
    "def lemmatize_text(text):\n",
    "    return [lemmatizer.lemmatize(w) for w in tknzr.word_tokenize(text)]\n",
    "\n",
    "corpus = df['title'].astype(str)\n",
    "corpus = corpus.apply(nfx.remove_stopwords)\n",
    "corpus = corpus.apply(nfx.remove_special_characters)\n",
    "corpus = corpus.apply(nfx.remove_multiple_spaces)\n",
    "corpus = corpus.str.lower()\n",
    "corpus = corpus.apply(lemmatize_text)\n",
    "\n",
    "df['title'] = corpus"
   ],
   "metadata": {
    "colab": {
     "base_uri": "https://localhost:8080/"
    },
    "id": "6wi0N9Y6XQYS",
    "outputId": "65d2fac3-dd41-4bf4-f107-483fea8cae90",
    "execution": {
     "iopub.status.busy": "2024-01-17T10:16:18.850894Z",
     "iopub.execute_input": "2024-01-17T10:16:18.851211Z",
     "iopub.status.idle": "2024-01-17T10:16:41.642828Z",
     "shell.execute_reply.started": "2024-01-17T10:16:18.851181Z",
     "shell.execute_reply": "2024-01-17T10:16:41.641838Z"
    },
    "trusted": true
   },
   "execution_count": 20,
   "outputs": []
  },
  {
   "cell_type": "markdown",
   "source": [
    "## Data Tidying"
   ],
   "metadata": {
    "id": "q3SUy4ug3QOk"
   }
  },
  {
   "cell_type": "code",
   "source": [
    "from sklearn.utils import shuffle\n",
    "df = shuffle(df)\n",
    "df.reset_index(inplace=True, drop=True)"
   ],
   "metadata": {
    "id": "EHwXp7zS3QOk",
    "execution": {
     "iopub.status.busy": "2024-01-17T10:16:41.644034Z",
     "iopub.execute_input": "2024-01-17T10:16:41.644301Z",
     "iopub.status.idle": "2024-01-17T10:16:41.661014Z",
     "shell.execute_reply.started": "2024-01-17T10:16:41.644279Z",
     "shell.execute_reply": "2024-01-17T10:16:41.659983Z"
    },
    "trusted": true
   },
   "execution_count": 21,
   "outputs": []
  },
  {
   "cell_type": "code",
   "source": [
    "df.head()"
   ],
   "metadata": {
    "colab": {
     "base_uri": "https://localhost:8080/",
     "height": 206
    },
    "id": "57dQ2aSg3QOk",
    "outputId": "ba1354c7-7fbc-4d8c-c903-364d4a964a99",
    "execution": {
     "iopub.status.busy": "2024-01-17T10:16:41.662294Z",
     "iopub.execute_input": "2024-01-17T10:16:41.663082Z",
     "iopub.status.idle": "2024-01-17T10:16:41.674634Z",
     "shell.execute_reply.started": "2024-01-17T10:16:41.663048Z",
     "shell.execute_reply": "2024-01-17T10:16:41.673677Z"
    },
    "trusted": true
   },
   "execution_count": 22,
   "outputs": [
    {
     "execution_count": 22,
     "output_type": "execute_result",
     "data": {
      "text/plain": "                      label                                              title\n0  SPORTS AND ENTERTAINMENT  [best, late, night, clip, week, videophotos, w...\n1                 WORLDNEWS  [syrian, rebel, wage, major, offensive, hama, ...\n2                      MISC  [online, friendship, crossed, line, chatting, ...\n3                      MISC  [jennie, garths, tattoo, actress, reveals, pos...\n4    LIFESTYLE AND WELLNESS  [gigi, hadid, rock, glorified, yellow, swimsui...",
      "text/html": "<div>\n<style scoped>\n    .dataframe tbody tr th:only-of-type {\n        vertical-align: middle;\n    }\n\n    .dataframe tbody tr th {\n        vertical-align: top;\n    }\n\n    .dataframe thead th {\n        text-align: right;\n    }\n</style>\n<table border=\"1\" class=\"dataframe\">\n  <thead>\n    <tr style=\"text-align: right;\">\n      <th></th>\n      <th>label</th>\n      <th>title</th>\n    </tr>\n  </thead>\n  <tbody>\n    <tr>\n      <th>0</th>\n      <td>SPORTS AND ENTERTAINMENT</td>\n      <td>[best, late, night, clip, week, videophotos, w...</td>\n    </tr>\n    <tr>\n      <th>1</th>\n      <td>WORLDNEWS</td>\n      <td>[syrian, rebel, wage, major, offensive, hama, ...</td>\n    </tr>\n    <tr>\n      <th>2</th>\n      <td>MISC</td>\n      <td>[online, friendship, crossed, line, chatting, ...</td>\n    </tr>\n    <tr>\n      <th>3</th>\n      <td>MISC</td>\n      <td>[jennie, garths, tattoo, actress, reveals, pos...</td>\n    </tr>\n    <tr>\n      <th>4</th>\n      <td>LIFESTYLE AND WELLNESS</td>\n      <td>[gigi, hadid, rock, glorified, yellow, swimsui...</td>\n    </tr>\n  </tbody>\n</table>\n</div>"
     },
     "metadata": {}
    }
   ]
  },
  {
   "cell_type": "markdown",
   "source": [
    "# Tokenizing and Padding"
   ],
   "metadata": {
    "id": "vTztSuM93QOk"
   }
  },
  {
   "cell_type": "code",
   "source": [
    "from collections import Counter\n",
    "# code adapted from #https://www.kaggle.com/code/mehmetlaudatekman/tutorial-word-embeddings-with-svm\n",
    "# optimized (resources and time) using chat gpt\n",
    "\n",
    "class Sequencer():\n",
    "    def __init__(self, all_words, max_vocab_words, embedding_matrix):\n",
    "        self.embed_matrix = embedding_matrix\n",
    "\n",
    "        # Count word occurrences efficiently\n",
    "        word_counts = Counter(all_words)\n",
    "\n",
    "        # Get the top 'max_vocab_words' most common words\n",
    "        self.vocab = [word for word, _ in word_counts.most_common(max_vocab_words)]\n",
    "\n",
    "    def textToVector(self,tokens):\n",
    "        # First we need to split the text into its tokens and learn the length\n",
    "        # For any amount of words inputted, we get the sentence vector for a particular input\n",
    "\n",
    "        vec = [np.zeros(300, )] # initialise with zeros\n",
    "        for tok in tokens:\n",
    "            #for tok in tokens[:len_v+1]:\n",
    "            try:\n",
    "                #for each matching token, append it\n",
    "                vec.append(self.embed_matrix.get_vector(tok, norm=True))\n",
    "            except Exception as E:\n",
    "                #vec.append(np.random.normal(0,np.sqrt(0.25),300))\n",
    "                pass\n",
    "\n",
    "        # extract vectors per token, and then sum them\n",
    "        return np.sum(vec, axis=0).flatten().tolist()"
   ],
   "metadata": {
    "id": "jlpAE-6u1D34",
    "execution": {
     "iopub.status.busy": "2024-01-17T10:16:41.675804Z",
     "iopub.execute_input": "2024-01-17T10:16:41.676157Z",
     "iopub.status.idle": "2024-01-17T10:16:41.687965Z",
     "shell.execute_reply.started": "2024-01-17T10:16:41.676124Z",
     "shell.execute_reply": "2024-01-17T10:16:41.687090Z"
    },
    "trusted": true
   },
   "execution_count": 23,
   "outputs": []
  },
  {
   "cell_type": "code",
   "source": [
    "\n",
    "#from sklearn.svm import SVC\n",
    "from gensim.models.keyedvectors import KeyedVectors\n",
    "import gensim\n",
    "import time\n",
    "start = time.time()\n",
    "pre_trained_model_wv = KeyedVectors.load_word2vec_format('/kaggle/input/ics5110/GoogleNews-vectors-negative300.bin/GoogleNews-vectors-negative300.bin', binary=True)\n",
    "\n",
    "end = round(time.time()-start,2)\n",
    "print(\"This process took\",end,\"seconds.\")\n",
    "\n",
    "\n",
    "start = time.time()"
   ],
   "metadata": {
    "id": "1GCbBXOT7EDC",
    "colab": {
     "base_uri": "https://localhost:8080/"
    },
    "outputId": "71bf2444-91ea-4d5b-8d11-13038b26afb7",
    "execution": {
     "iopub.status.busy": "2024-01-17T10:16:41.689047Z",
     "iopub.execute_input": "2024-01-17T10:16:41.689396Z",
     "iopub.status.idle": "2024-01-17T10:18:00.124619Z",
     "shell.execute_reply.started": "2024-01-17T10:16:41.689356Z",
     "shell.execute_reply": "2024-01-17T10:18:00.123717Z"
    },
    "trusted": true
   },
   "execution_count": 24,
   "outputs": [
    {
     "name": "stdout",
     "text": "This process took 68.23 seconds.\n",
     "output_type": "stream"
    }
   ]
  },
  {
   "cell_type": "code",
   "source": [
    "from sklearn.model_selection import train_test_split\n",
    "#from sklearn.svm import SVC\n",
    "#from sklearn.decomposition import PCA\n",
    "\n",
    "\n",
    "X,Y = df['title'],df['label']\n",
    "#80% to train , 20% for testing\n",
    "X_train, X_test, y_train, y_test = train_test_split(X,Y, test_size=0.2, random_state=42, stratify=Y)\n",
    "\n",
    "#print(X_train[0])\n"
   ],
   "metadata": {
    "id": "g-rPcEzH2alk",
    "execution": {
     "iopub.status.busy": "2024-01-17T10:18:00.126062Z",
     "iopub.execute_input": "2024-01-17T10:18:00.126384Z",
     "iopub.status.idle": "2024-01-17T10:18:00.226412Z",
     "shell.execute_reply.started": "2024-01-17T10:18:00.126357Z",
     "shell.execute_reply": "2024-01-17T10:18:00.225581Z"
    },
    "trusted": true
   },
   "execution_count": 25,
   "outputs": []
  },
  {
   "cell_type": "code",
   "source": [
    "y_train = np.asarray(y_train)\n",
    "y_test = np.asarray(y_test)"
   ],
   "metadata": {
    "id": "Qerev-KAuR9F",
    "execution": {
     "iopub.status.busy": "2024-01-17T10:18:00.227515Z",
     "iopub.execute_input": "2024-01-17T10:18:00.227786Z",
     "iopub.status.idle": "2024-01-17T10:18:00.232403Z",
     "shell.execute_reply.started": "2024-01-17T10:18:00.227762Z",
     "shell.execute_reply": "2024-01-17T10:18:00.231511Z"
    },
    "trusted": true
   },
   "execution_count": 26,
   "outputs": []
  },
  {
   "cell_type": "code",
   "source": [
    "#y_train"
   ],
   "metadata": {
    "id": "DQsGYSRF1eOZ",
    "execution": {
     "iopub.status.busy": "2024-01-17T10:18:00.233677Z",
     "iopub.execute_input": "2024-01-17T10:18:00.234053Z",
     "iopub.status.idle": "2024-01-17T10:18:00.245010Z",
     "shell.execute_reply.started": "2024-01-17T10:18:00.234022Z",
     "shell.execute_reply": "2024-01-17T10:18:00.244134Z"
    },
    "trusted": true
   },
   "execution_count": 27,
   "outputs": []
  },
  {
   "cell_type": "code",
   "source": [
    "\n",
    "# y_train = np.asarray(y_train)\n",
    "# y_train = pd.get_dummies(y_train)\n",
    "\n",
    "# y_test = pd.get_dummies(y_test)\n",
    "# y_test = np.asarray(y_test)\n",
    "# y_test = np.argmax(y_test,axis=1)"
   ],
   "metadata": {
    "id": "dv3IXcA30YyQ",
    "execution": {
     "iopub.status.busy": "2024-01-17T10:18:00.246158Z",
     "iopub.execute_input": "2024-01-17T10:18:00.246518Z",
     "iopub.status.idle": "2024-01-17T10:18:00.255425Z",
     "shell.execute_reply.started": "2024-01-17T10:18:00.246483Z",
     "shell.execute_reply": "2024-01-17T10:18:00.254554Z"
    },
    "trusted": true
   },
   "execution_count": 28,
   "outputs": []
  },
  {
   "cell_type": "code",
   "source": [
    "from sklearn.preprocessing import StandardScaler\n",
    "sequencer=Sequencer(all_words = [token for seq in X for token in seq], max_vocab_words = 20000, embedding_matrix = pre_trained_model_wv)\n",
    "x_train_vecs = np.asarray([sequencer.textToVector(tokens) for tokens in X_train])\n",
    "x_test_vecs = np.asarray([sequencer.textToVector(tokens) for tokens in X_test])\n",
    "\n",
    "scaler = StandardScaler().fit(x_train_vecs)\n",
    "x_train_vecs = scaler.transform(x_train_vecs)\n",
    "x_test_vecs = scaler.transform(x_test_vecs)\n",
    "print(x_train_vecs.shape)\n",
    "print(x_test_vecs.shape)"
   ],
   "metadata": {
    "id": "Z6qaYBUYuR9G",
    "colab": {
     "base_uri": "https://localhost:8080/"
    },
    "outputId": "cdcdeb77-badb-46ac-c195-3744ad9ca715",
    "execution": {
     "iopub.status.busy": "2024-01-17T10:18:00.256449Z",
     "iopub.execute_input": "2024-01-17T10:18:00.256701Z",
     "iopub.status.idle": "2024-01-17T10:18:08.711223Z",
     "shell.execute_reply.started": "2024-01-17T10:18:00.256679Z",
     "shell.execute_reply": "2024-01-17T10:18:08.710137Z"
    },
    "trusted": true
   },
   "execution_count": 29,
   "outputs": [
    {
     "name": "stdout",
     "text": "(49025, 300)\n(12257, 300)\n",
     "output_type": "stream"
    }
   ]
  },
  {
   "cell_type": "markdown",
   "source": [
    "### Experiments"
   ],
   "metadata": {
    "id": "V-VIfxQTufm6"
   }
  },
  {
   "cell_type": "code",
   "source": [
    "\n",
    "!pip install thundersvm\n",
    "!pip install optuna"
   ],
   "metadata": {
    "id": "lzMojayNx6ky",
    "colab": {
     "base_uri": "https://localhost:8080/"
    },
    "outputId": "d12e4b73-6760-423d-e8b6-e60c18bc26ec",
    "execution": {
     "iopub.status.busy": "2024-01-17T10:18:08.712511Z",
     "iopub.execute_input": "2024-01-17T10:18:08.712899Z",
     "iopub.status.idle": "2024-01-17T10:18:33.413621Z",
     "shell.execute_reply.started": "2024-01-17T10:18:08.712865Z",
     "shell.execute_reply": "2024-01-17T10:18:33.412535Z"
    },
    "trusted": true
   },
   "execution_count": 30,
   "outputs": [
    {
     "name": "stdout",
     "text": "Collecting thundersvm\n  Downloading thundersvm-0.3.12-py3-none-any.whl (507 kB)\n\u001B[2K     \u001B[90m━━━━━━━━━━━━━━━━━━━━━━━━━━━━━━━━━━━━━━━\u001B[0m \u001B[32m507.4/507.4 kB\u001B[0m \u001B[31m3.4 MB/s\u001B[0m eta \u001B[36m0:00:00\u001B[0m00:01\u001B[0m00:01\u001B[0m\n\u001B[?25hRequirement already satisfied: numpy in /opt/conda/lib/python3.10/site-packages (from thundersvm) (1.24.3)\nRequirement already satisfied: scipy in /opt/conda/lib/python3.10/site-packages (from thundersvm) (1.11.4)\nRequirement already satisfied: scikit-learn in /opt/conda/lib/python3.10/site-packages (from thundersvm) (1.2.2)\nRequirement already satisfied: joblib>=1.1.1 in /opt/conda/lib/python3.10/site-packages (from scikit-learn->thundersvm) (1.3.2)\nRequirement already satisfied: threadpoolctl>=2.0.0 in /opt/conda/lib/python3.10/site-packages (from scikit-learn->thundersvm) (3.2.0)\nInstalling collected packages: thundersvm\nSuccessfully installed thundersvm-0.3.12\nRequirement already satisfied: optuna in /opt/conda/lib/python3.10/site-packages (3.5.0)\nRequirement already satisfied: alembic>=1.5.0 in /opt/conda/lib/python3.10/site-packages (from optuna) (1.13.1)\nRequirement already satisfied: colorlog in /opt/conda/lib/python3.10/site-packages (from optuna) (6.8.0)\nRequirement already satisfied: numpy in /opt/conda/lib/python3.10/site-packages (from optuna) (1.24.3)\nRequirement already satisfied: packaging>=20.0 in /opt/conda/lib/python3.10/site-packages (from optuna) (21.3)\nRequirement already satisfied: sqlalchemy>=1.3.0 in /opt/conda/lib/python3.10/site-packages (from optuna) (2.0.20)\nRequirement already satisfied: tqdm in /opt/conda/lib/python3.10/site-packages (from optuna) (4.66.1)\nRequirement already satisfied: PyYAML in /opt/conda/lib/python3.10/site-packages (from optuna) (6.0.1)\nRequirement already satisfied: Mako in /opt/conda/lib/python3.10/site-packages (from alembic>=1.5.0->optuna) (1.3.0)\nRequirement already satisfied: typing-extensions>=4 in /opt/conda/lib/python3.10/site-packages (from alembic>=1.5.0->optuna) (4.5.0)\nRequirement already satisfied: pyparsing!=3.0.5,>=2.0.2 in /opt/conda/lib/python3.10/site-packages (from packaging>=20.0->optuna) (3.0.9)\nRequirement already satisfied: greenlet!=0.4.17 in /opt/conda/lib/python3.10/site-packages (from sqlalchemy>=1.3.0->optuna) (2.0.2)\nRequirement already satisfied: MarkupSafe>=0.9.2 in /opt/conda/lib/python3.10/site-packages (from Mako->alembic>=1.5.0->optuna) (2.1.3)\n",
     "output_type": "stream"
    }
   ]
  },
  {
   "cell_type": "code",
   "source": [
    "import numpy as np\n",
    "from sklearn.preprocessing import LabelEncoder\n",
    "import pickle\n",
    "#chat gpt\n",
    "\n",
    "# Assuming y is your 1D array of string category labels\n",
    "y_target = set(y_test)\n",
    "\n",
    "# Step 1: Use LabelEncoder to convert string labels to integer IDs\n",
    "label_encoder = LabelEncoder()\n",
    "y_train_simple = label_encoder.fit_transform(y_train)\n",
    "y_test_simple = label_encoder.fit_transform(y_test)\n",
    "\n",
    "# Print the results\n",
    "print(\"Original labels:\", y_target)\n",
    "print(\"Y_train: Encoded labels (integer IDs):\", y_train_simple)\n",
    "print(\"Y_test: Encoded labels (integer IDs):\", y_test_simple)\n",
    "\n",
    "#chat gpt\n",
    "encoder_mappings = {\n",
    "    'class_labels': label_encoder.classes_.tolist(),\n",
    "    'integer_to_label': dict(zip(range(len(label_encoder.classes_)), label_encoder.classes_)),\n",
    "    'label_to_integer': dict(zip(label_encoder.classes_, range(len(label_encoder.classes_))))\n",
    "}\n",
    "print(encoder_mappings)"
   ],
   "metadata": {
    "colab": {
     "base_uri": "https://localhost:8080/"
    },
    "id": "O2BliOPx2BCQ",
    "outputId": "bf725ae6-14dc-450e-b28d-28e461ba6456",
    "execution": {
     "iopub.status.busy": "2024-01-17T10:18:33.415387Z",
     "iopub.execute_input": "2024-01-17T10:18:33.416195Z",
     "iopub.status.idle": "2024-01-17T10:18:33.443026Z",
     "shell.execute_reply.started": "2024-01-17T10:18:33.416154Z",
     "shell.execute_reply": "2024-01-17T10:18:33.441974Z"
    },
    "trusted": true
   },
   "execution_count": 31,
   "outputs": [
    {
     "name": "stdout",
     "text": "Original labels: {'MISC', 'GENERAL', 'WORLDNEWS', 'PARENTING AND EDUCATION', 'ENVIRONMENT', 'LIFESTYLE AND WELLNESS', 'EMPOWERED VOICES', 'SPORTS AND ENTERTAINMENT'}\nY_train: Encoded labels (integer IDs): [7 2 3 ... 6 6 2]\nY_test: Encoded labels (integer IDs): [3 4 2 ... 4 2 6]\n{'class_labels': ['EMPOWERED VOICES', 'ENVIRONMENT', 'GENERAL', 'LIFESTYLE AND WELLNESS', 'MISC', 'PARENTING AND EDUCATION', 'SPORTS AND ENTERTAINMENT', 'WORLDNEWS'], 'integer_to_label': {0: 'EMPOWERED VOICES', 1: 'ENVIRONMENT', 2: 'GENERAL', 3: 'LIFESTYLE AND WELLNESS', 4: 'MISC', 5: 'PARENTING AND EDUCATION', 6: 'SPORTS AND ENTERTAINMENT', 7: 'WORLDNEWS'}, 'label_to_integer': {'EMPOWERED VOICES': 0, 'ENVIRONMENT': 1, 'GENERAL': 2, 'LIFESTYLE AND WELLNESS': 3, 'MISC': 4, 'PARENTING AND EDUCATION': 5, 'SPORTS AND ENTERTAINMENT': 6, 'WORLDNEWS': 7}}\n",
     "output_type": "stream"
    }
   ]
  },
  {
   "cell_type": "code",
   "source": [
    "import os\n",
    "\n",
    "directory = 'trials/'\n",
    "\n",
    "os.makedirs(directory, exist_ok=True)\n",
    "\n",
    "file_path = os.path.abspath('./trials/label_encoder_mappings.pkl')\n",
    "with open(file_path, 'wb') as file:\n",
    "    pickle.dump(encoder_mappings, file)"
   ],
   "metadata": {
    "colab": {
     "base_uri": "https://localhost:8080/"
    },
    "id": "O2BliOPx2BCQ",
    "outputId": "bf725ae6-14dc-450e-b28d-28e461ba6456",
    "execution": {
     "iopub.status.busy": "2024-01-17T10:18:33.444502Z",
     "iopub.execute_input": "2024-01-17T10:18:33.445268Z",
     "iopub.status.idle": "2024-01-17T10:18:33.465596Z",
     "shell.execute_reply.started": "2024-01-17T10:18:33.445229Z",
     "shell.execute_reply": "2024-01-17T10:18:33.464680Z"
    },
    "trusted": true
   },
   "execution_count": 32,
   "outputs": []
  },
  {
   "cell_type": "markdown",
   "source": [
    "SVM Experiments"
   ],
   "metadata": {}
  },
  {
   "cell_type": "code",
   "source": [
    "from sklearn.metrics import accuracy_score, f1_score, precision_score, recall_score\n",
    "import pickle\n",
    "import datetime\n",
    "from thundersvm import SVC\n",
    "studyname=\"SVM\"\n",
    "def train_SVM(C, kernel,gamma,coef0, trial):\n",
    "    # Create an SVM model with the suggested hyperparameters\n",
    "    model = SVC(\n",
    "        C=C,\n",
    "        kernel=kernel,\n",
    "        gamma=gamma,\n",
    "        coef0=coef0,\n",
    "        random_state=42\n",
    "    )\n",
    "\n",
    "    # Train the model\n",
    "    #print(f\"{datetime.datetime.now()}: Training model\")\n",
    "    model.fit(x_train_vecs, y_train_simple)\n",
    "\n",
    "    #print(f\"{datetime.datetime.now()}: Predicting unseen\")\n",
    "    # Make predictions on the test set\n",
    "    y_pred_simple = model.predict(x_test_vecs)\n",
    "\n",
    "    # Calculate evaluation metrics\n",
    "    accuracy = accuracy_score(y_test_simple, y_pred_simple)\n",
    "    f1 = f1_score(y_test_simple, y_pred_simple, average='weighted')\n",
    "    precision = precision_score(y_test_simple, y_pred_simple, average='weighted')\n",
    "    recall = recall_score(y_test_simple, y_pred_simple, average='weighted')\n",
    "\n",
    "    # Optimize for a weighted combination of metrics - each one plays an different role\n",
    "    score = 0.3 * accuracy + 0.3 * f1 + 0.2 * precision + 0.2 * recall\n",
    "\n",
    "    #print(f\"\\nAccuracy: {accuracy}\\nF1: {f1}\\n Precision: {precision}\\nRecall: {recall}\\nOverall score: {score}\")\n",
    "\n",
    "    # Data\n",
    "    # Export model\n",
    "    name= f\"{studyname}{trial}-C({C})-Kernel({kernel})-Gamma({gamma})-coef0({coef0}).pkl\"\n",
    "    full_path = f\"./trials/{name}\"\n",
    "\n",
    "    with open(full_path,'wb') as f:\n",
    "        pickle.dump(model, f)\n",
    "\n",
    "    print(f\"{datetime.datetime.now()}: Trial {trial} is ready. Accuracy: {accuracy}\\n\\n\")\n",
    "\n",
    "    return score"
   ],
   "metadata": {
    "execution": {
     "iopub.status.busy": "2024-01-17T10:18:33.466904Z",
     "iopub.execute_input": "2024-01-17T10:18:33.467275Z",
     "iopub.status.idle": "2024-01-17T10:18:33.490756Z",
     "shell.execute_reply.started": "2024-01-17T10:18:33.467242Z",
     "shell.execute_reply": "2024-01-17T10:18:33.489859Z"
    },
    "trusted": true
   },
   "execution_count": 33,
   "outputs": []
  },
  {
   "cell_type": "code",
   "source": [
    "\n",
    "\n",
    "# Define hyperparameters to be optimized\n",
    "C_all = [0.001, 0.01, 1, 10] #, 50, 100\n",
    "kernel_all = ['linear', 'rbf'] #, 'sigmoid'\n",
    "gamma_all = [0.001, 0.01, 0.1, 1]\n",
    "coef0_all = [-0.9] #[-0.9,-0.5, 0, 0.5,0.9]\n",
    "\n",
    "trial = 0\n",
    "\n",
    "for C in C_all:\n",
    "    if C in [0.01,1]:\n",
    "        for kernel in kernel_all:\n",
    "            for gamma in gamma_all:\n",
    "                for coef0 in coef0_all:\n",
    "                    train_SVM(C,kernel,gamma,coef0,trial)\n",
    "                "
   ],
   "metadata": {
    "colab": {
     "base_uri": "https://localhost:8080/"
    },
    "id": "O2BliOPx2BCQ",
    "outputId": "bf725ae6-14dc-450e-b28d-28e461ba6456",
    "execution": {
     "iopub.status.busy": "2024-01-17T10:18:33.492042Z",
     "iopub.execute_input": "2024-01-17T10:18:33.492350Z"
    },
    "trusted": true
   },
   "execution_count": null,
   "outputs": [
    {
     "name": "stdout",
     "text": "skipped C as we did this already\nskipped C as we did this already\ntraining svm\n",
     "output_type": "stream"
    }
   ]
  },
  {
   "cell_type": "code",
   "source": [],
   "metadata": {},
   "execution_count": null,
   "outputs": []
  },
  {
   "cell_type": "code",
   "source": [
    "#https://www.kaggle.com/code/rtatman/get-the-versions-of-imported-packages\n",
    "import pkg_resources\n",
    "import types\n",
    "def get_imports():\n",
    "    for name, val in globals().items():\n",
    "        if isinstance(val, types.ModuleType):\n",
    "            # Split ensures you get root package, \n",
    "            # not just imported function\n",
    "            name = val.__name__.split(\".\")[0]\n",
    "\n",
    "        elif isinstance(val, type):\n",
    "            name = val.__module__.split(\".\")[0]\n",
    "\n",
    "        # Some packages are weird and have different\n",
    "        # imported names vs. system names\n",
    "        if name == \"PIL\":\n",
    "            name = \"Pillow\"\n",
    "        elif name == \"sklearn\":\n",
    "            name = \"scikit-learn\"\n",
    "\n",
    "        yield name\n",
    "imports = list(set(get_imports()))\n",
    "\n",
    "requirements = []\n",
    "for m in pkg_resources.working_set:\n",
    "    if m.project_name in imports and m.project_name!=\"pip\":\n",
    "        requirements.append((m.project_name, m.version))\n",
    "\n",
    "for r in requirements:\n",
    "    print(\"{}=={}\".format(*r))"
   ],
   "metadata": {
    "trusted": true
   },
   "execution_count": null,
   "outputs": []
  }
 ]
}

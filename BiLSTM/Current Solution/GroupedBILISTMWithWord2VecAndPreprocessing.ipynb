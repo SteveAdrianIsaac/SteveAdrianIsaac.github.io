{
 "cells": [
  {
   "metadata": {
    "_uuid": "d629ff2d2480ee46fbb7e2d37f6b5fab8052498a",
    "_cell_guid": "79c7e3d0-c299-4dcb-8224-4455121ee9b0",
    "trusted": true,
    "colab": {
     "base_uri": "https://localhost:8080/"
    },
    "id": "eN6ez4tD3QOb",
    "executionInfo": {
     "status": "ok",
     "timestamp": 1702206524733,
     "user_tz": -60,
     "elapsed": 5048,
     "user": {
      "displayName": "Adrian Portelli",
      "userId": "00509044282638927461"
     }
    },
    "outputId": "fecbef41-f3b0-4df0-c088-5ca38c316d23"
   },
   "cell_type": "code",
   "source": [
    "# code taken from source https://www.kaggle.com/code/derinrobert/newsclassification-using-lstm-val-acc-72\n",
    "\n",
    "import pandas as pd\n",
    "import tensorflow as tf\n",
    "from tensorflow import keras\n",
    "import numpy as np\n",
    "import matplotlib.pyplot as plt\n",
    "import os\n",
    "\n",
    "from tensorflow.keras.preprocessing.text import Tokenizer\n",
    "from tensorflow.keras.preprocessing.sequence import pad_sequences\n",
    "from sklearn.model_selection import train_test_split\n",
    "from sklearn.metrics import classification_report, confusion_matrix\n",
    "from tensorflow.keras.layers import Embedding\n",
    "import seaborn as sns\n",
    "pd.set_option('display.max_colwidth', -1)"
   ],
   "execution_count": 1,
   "outputs": [
    {
     "output_type": "stream",
     "name": "stderr",
     "text": [
      "<ipython-input-1-956378644f90>:16: FutureWarning: Passing a negative integer is deprecated in version 1.0 and will not be supported in future version. Instead, use None to not limit the column width.\n",
      "  pd.set_option('display.max_colwidth', -1)\n"
     ]
    }
   ]
  },
  {
   "cell_type": "code",
   "source": [
    "from google.colab import drive\n",
    "drive.mount('/content/drive')"
   ],
   "metadata": {
    "colab": {
     "base_uri": "https://localhost:8080/"
    },
    "id": "_DgMnjBc-Tt0",
    "executionInfo": {
     "status": "ok",
     "timestamp": 1702206551592,
     "user_tz": -60,
     "elapsed": 26861,
     "user": {
      "displayName": "Adrian Portelli",
      "userId": "00509044282638927461"
     }
    },
    "outputId": "92006e64-9a3f-4870-a6b3-52f7d73a0e22"
   },
   "execution_count": 2,
   "outputs": [
    {
     "output_type": "stream",
     "name": "stdout",
     "text": [
      "Mounted at /content/drive\n"
     ]
    }
   ]
  },
  {
   "metadata": {
    "trusted": true,
    "colab": {
     "base_uri": "https://localhost:8080/",
     "height": 487
    },
    "id": "8uJkM7C13QOe",
    "executionInfo": {
     "status": "ok",
     "timestamp": 1702206562597,
     "user_tz": -60,
     "elapsed": 11009,
     "user": {
      "displayName": "Adrian Portelli",
      "userId": "00509044282638927461"
     }
    },
    "outputId": "a5455055-d439-4fc5-efa6-2963934790b3"
   },
   "cell_type": "code",
   "source": [
    "df = pd.read_json('drive/MyDrive/input/News_Category_Dataset_v3.json',lines=True)\n",
    "beforeMay2018 = df[pd.to_datetime(df[\"date\"]).dt.strftime('%Y-%m-%d')<=\"2019-01-31\"]\n",
    "\n",
    "required_columns = [\"BLACK VOICES\",\n",
    "                    \"COMEDY\",\n",
    "                    \"CRIME\",\n",
    "                    \"DIVORCE\",\n",
    "                    \"GREEN\",\n",
    "                    \"HOME & LIVING\",\n",
    "                    \"IMPACT\",\n",
    "                    \"MEDIA\",\n",
    "                    \"PARENTS\",\n",
    "                    \"RELIGION\",\n",
    "                    \"SPORTS\",\n",
    "                    \"STYLE\",\n",
    "                    \"THE WORLDPOST\",\n",
    "                    \"WEDDINGS\",\n",
    "                    \"WEIRD NEWS\",\n",
    "                    \"WOMEN\",\n",
    "                    \"WORLD NEWS\",\n",
    "                    \"WORLDPOST\"]\n",
    "df = df[df[\"date\"] < \"2018-05-26\"]\n",
    "df = df[df[\"category\"].isin(required_columns)]\n",
    "\n",
    "df.drop(['authors', 'link', 'date'], axis = 1, inplace = True)\n",
    "\n",
    "df.head()"
   ],
   "execution_count": 3,
   "outputs": [
    {
     "output_type": "stream",
     "name": "stderr",
     "text": [
      "<ipython-input-3-fdc3fdde0896>:25: SettingWithCopyWarning: \n",
      "A value is trying to be set on a copy of a slice from a DataFrame\n",
      "\n",
      "See the caveats in the documentation: https://pandas.pydata.org/pandas-docs/stable/user_guide/indexing.html#returning-a-view-versus-a-copy\n",
      "  df.drop(['authors', 'link', 'date'], axis = 1, inplace = True)\n"
     ]
    },
    {
     "output_type": "execute_result",
     "data": {
      "text/plain": [
       "                                                                          headline  \\\n",
       "8697  North Korea Still Open To Talks After Trump Cancels Summit                     \n",
       "8698  2 Men Detonate Bomb Inside Indian Restaurant Near Toronto, Authorities Say     \n",
       "8699  Thousands Travel Home To Ireland To Vote On Abortion Access                    \n",
       "8700  Irish Voters Set To Liberalize Abortion Laws In Landslide, Exit Poll Signals   \n",
       "8701  Warriors Coach Steve Kerr Calls NFL Ban On Protests 'Fake Patriotism'          \n",
       "\n",
       "          category  \\\n",
       "8697  WORLD NEWS     \n",
       "8698  WORLD NEWS     \n",
       "8699  WORLD NEWS     \n",
       "8700  WORLD NEWS     \n",
       "8701  BLACK VOICES   \n",
       "\n",
       "                                                                                                                                             short_description  \n",
       "8697  Trump’s announcement came after repeated threats by North Korea to pull out of the summit over what it saw as confrontational remarks by U.S. officials.  \n",
       "8698  Fifteen people were taken to the hospital, three of them with critical injuries.                                                                          \n",
       "8699  Just try to read these #HomeToVote tweets without crying.                                                                                                 \n",
       "8700  Vote counting will begin Saturday.                                                                                                                        \n",
       "8701  Forbidding players to take a knee during the national anthem is “idiotic,” the coach said.                                                                "
      ],
      "text/html": [
       "\n",
       "  <div id=\"df-852c5476-793e-43a6-8525-675c6493b969\" class=\"colab-df-container\">\n",
       "    <div>\n",
       "<style scoped>\n",
       "    .dataframe tbody tr th:only-of-type {\n",
       "        vertical-align: middle;\n",
       "    }\n",
       "\n",
       "    .dataframe tbody tr th {\n",
       "        vertical-align: top;\n",
       "    }\n",
       "\n",
       "    .dataframe thead th {\n",
       "        text-align: right;\n",
       "    }\n",
       "</style>\n",
       "<table border=\"1\" class=\"dataframe\">\n",
       "  <thead>\n",
       "    <tr style=\"text-align: right;\">\n",
       "      <th></th>\n",
       "      <th>headline</th>\n",
       "      <th>category</th>\n",
       "      <th>short_description</th>\n",
       "    </tr>\n",
       "  </thead>\n",
       "  <tbody>\n",
       "    <tr>\n",
       "      <th>8697</th>\n",
       "      <td>North Korea Still Open To Talks After Trump Cancels Summit</td>\n",
       "      <td>WORLD NEWS</td>\n",
       "      <td>Trump’s announcement came after repeated threats by North Korea to pull out of the summit over what it saw as confrontational remarks by U.S. officials.</td>\n",
       "    </tr>\n",
       "    <tr>\n",
       "      <th>8698</th>\n",
       "      <td>2 Men Detonate Bomb Inside Indian Restaurant Near Toronto, Authorities Say</td>\n",
       "      <td>WORLD NEWS</td>\n",
       "      <td>Fifteen people were taken to the hospital, three of them with critical injuries.</td>\n",
       "    </tr>\n",
       "    <tr>\n",
       "      <th>8699</th>\n",
       "      <td>Thousands Travel Home To Ireland To Vote On Abortion Access</td>\n",
       "      <td>WORLD NEWS</td>\n",
       "      <td>Just try to read these #HomeToVote tweets without crying.</td>\n",
       "    </tr>\n",
       "    <tr>\n",
       "      <th>8700</th>\n",
       "      <td>Irish Voters Set To Liberalize Abortion Laws In Landslide, Exit Poll Signals</td>\n",
       "      <td>WORLD NEWS</td>\n",
       "      <td>Vote counting will begin Saturday.</td>\n",
       "    </tr>\n",
       "    <tr>\n",
       "      <th>8701</th>\n",
       "      <td>Warriors Coach Steve Kerr Calls NFL Ban On Protests 'Fake Patriotism'</td>\n",
       "      <td>BLACK VOICES</td>\n",
       "      <td>Forbidding players to take a knee during the national anthem is “idiotic,” the coach said.</td>\n",
       "    </tr>\n",
       "  </tbody>\n",
       "</table>\n",
       "</div>\n",
       "    <div class=\"colab-df-buttons\">\n",
       "\n",
       "  <div class=\"colab-df-container\">\n",
       "    <button class=\"colab-df-convert\" onclick=\"convertToInteractive('df-852c5476-793e-43a6-8525-675c6493b969')\"\n",
       "            title=\"Convert this dataframe to an interactive table.\"\n",
       "            style=\"display:none;\">\n",
       "\n",
       "  <svg xmlns=\"http://www.w3.org/2000/svg\" height=\"24px\" viewBox=\"0 -960 960 960\">\n",
       "    <path d=\"M120-120v-720h720v720H120Zm60-500h600v-160H180v160Zm220 220h160v-160H400v160Zm0 220h160v-160H400v160ZM180-400h160v-160H180v160Zm440 0h160v-160H620v160ZM180-180h160v-160H180v160Zm440 0h160v-160H620v160Z\"/>\n",
       "  </svg>\n",
       "    </button>\n",
       "\n",
       "  <style>\n",
       "    .colab-df-container {\n",
       "      display:flex;\n",
       "      gap: 12px;\n",
       "    }\n",
       "\n",
       "    .colab-df-convert {\n",
       "      background-color: #E8F0FE;\n",
       "      border: none;\n",
       "      border-radius: 50%;\n",
       "      cursor: pointer;\n",
       "      display: none;\n",
       "      fill: #1967D2;\n",
       "      height: 32px;\n",
       "      padding: 0 0 0 0;\n",
       "      width: 32px;\n",
       "    }\n",
       "\n",
       "    .colab-df-convert:hover {\n",
       "      background-color: #E2EBFA;\n",
       "      box-shadow: 0px 1px 2px rgba(60, 64, 67, 0.3), 0px 1px 3px 1px rgba(60, 64, 67, 0.15);\n",
       "      fill: #174EA6;\n",
       "    }\n",
       "\n",
       "    .colab-df-buttons div {\n",
       "      margin-bottom: 4px;\n",
       "    }\n",
       "\n",
       "    [theme=dark] .colab-df-convert {\n",
       "      background-color: #3B4455;\n",
       "      fill: #D2E3FC;\n",
       "    }\n",
       "\n",
       "    [theme=dark] .colab-df-convert:hover {\n",
       "      background-color: #434B5C;\n",
       "      box-shadow: 0px 1px 3px 1px rgba(0, 0, 0, 0.15);\n",
       "      filter: drop-shadow(0px 1px 2px rgba(0, 0, 0, 0.3));\n",
       "      fill: #FFFFFF;\n",
       "    }\n",
       "  </style>\n",
       "\n",
       "    <script>\n",
       "      const buttonEl =\n",
       "        document.querySelector('#df-852c5476-793e-43a6-8525-675c6493b969 button.colab-df-convert');\n",
       "      buttonEl.style.display =\n",
       "        google.colab.kernel.accessAllowed ? 'block' : 'none';\n",
       "\n",
       "      async function convertToInteractive(key) {\n",
       "        const element = document.querySelector('#df-852c5476-793e-43a6-8525-675c6493b969');\n",
       "        const dataTable =\n",
       "          await google.colab.kernel.invokeFunction('convertToInteractive',\n",
       "                                                    [key], {});\n",
       "        if (!dataTable) return;\n",
       "\n",
       "        const docLinkHtml = 'Like what you see? Visit the ' +\n",
       "          '<a target=\"_blank\" href=https://colab.research.google.com/notebooks/data_table.ipynb>data table notebook</a>'\n",
       "          + ' to learn more about interactive tables.';\n",
       "        element.innerHTML = '';\n",
       "        dataTable['output_type'] = 'display_data';\n",
       "        await google.colab.output.renderOutput(dataTable, element);\n",
       "        const docLink = document.createElement('div');\n",
       "        docLink.innerHTML = docLinkHtml;\n",
       "        element.appendChild(docLink);\n",
       "      }\n",
       "    </script>\n",
       "  </div>\n",
       "\n",
       "\n",
       "<div id=\"df-82793937-4a05-4a86-bf9a-21872c8ecb4a\">\n",
       "  <button class=\"colab-df-quickchart\" onclick=\"quickchart('df-82793937-4a05-4a86-bf9a-21872c8ecb4a')\"\n",
       "            title=\"Suggest charts\"\n",
       "            style=\"display:none;\">\n",
       "\n",
       "<svg xmlns=\"http://www.w3.org/2000/svg\" height=\"24px\"viewBox=\"0 0 24 24\"\n",
       "     width=\"24px\">\n",
       "    <g>\n",
       "        <path d=\"M19 3H5c-1.1 0-2 .9-2 2v14c0 1.1.9 2 2 2h14c1.1 0 2-.9 2-2V5c0-1.1-.9-2-2-2zM9 17H7v-7h2v7zm4 0h-2V7h2v10zm4 0h-2v-4h2v4z\"/>\n",
       "    </g>\n",
       "</svg>\n",
       "  </button>\n",
       "\n",
       "<style>\n",
       "  .colab-df-quickchart {\n",
       "      --bg-color: #E8F0FE;\n",
       "      --fill-color: #1967D2;\n",
       "      --hover-bg-color: #E2EBFA;\n",
       "      --hover-fill-color: #174EA6;\n",
       "      --disabled-fill-color: #AAA;\n",
       "      --disabled-bg-color: #DDD;\n",
       "  }\n",
       "\n",
       "  [theme=dark] .colab-df-quickchart {\n",
       "      --bg-color: #3B4455;\n",
       "      --fill-color: #D2E3FC;\n",
       "      --hover-bg-color: #434B5C;\n",
       "      --hover-fill-color: #FFFFFF;\n",
       "      --disabled-bg-color: #3B4455;\n",
       "      --disabled-fill-color: #666;\n",
       "  }\n",
       "\n",
       "  .colab-df-quickchart {\n",
       "    background-color: var(--bg-color);\n",
       "    border: none;\n",
       "    border-radius: 50%;\n",
       "    cursor: pointer;\n",
       "    display: none;\n",
       "    fill: var(--fill-color);\n",
       "    height: 32px;\n",
       "    padding: 0;\n",
       "    width: 32px;\n",
       "  }\n",
       "\n",
       "  .colab-df-quickchart:hover {\n",
       "    background-color: var(--hover-bg-color);\n",
       "    box-shadow: 0 1px 2px rgba(60, 64, 67, 0.3), 0 1px 3px 1px rgba(60, 64, 67, 0.15);\n",
       "    fill: var(--button-hover-fill-color);\n",
       "  }\n",
       "\n",
       "  .colab-df-quickchart-complete:disabled,\n",
       "  .colab-df-quickchart-complete:disabled:hover {\n",
       "    background-color: var(--disabled-bg-color);\n",
       "    fill: var(--disabled-fill-color);\n",
       "    box-shadow: none;\n",
       "  }\n",
       "\n",
       "  .colab-df-spinner {\n",
       "    border: 2px solid var(--fill-color);\n",
       "    border-color: transparent;\n",
       "    border-bottom-color: var(--fill-color);\n",
       "    animation:\n",
       "      spin 1s steps(1) infinite;\n",
       "  }\n",
       "\n",
       "  @keyframes spin {\n",
       "    0% {\n",
       "      border-color: transparent;\n",
       "      border-bottom-color: var(--fill-color);\n",
       "      border-left-color: var(--fill-color);\n",
       "    }\n",
       "    20% {\n",
       "      border-color: transparent;\n",
       "      border-left-color: var(--fill-color);\n",
       "      border-top-color: var(--fill-color);\n",
       "    }\n",
       "    30% {\n",
       "      border-color: transparent;\n",
       "      border-left-color: var(--fill-color);\n",
       "      border-top-color: var(--fill-color);\n",
       "      border-right-color: var(--fill-color);\n",
       "    }\n",
       "    40% {\n",
       "      border-color: transparent;\n",
       "      border-right-color: var(--fill-color);\n",
       "      border-top-color: var(--fill-color);\n",
       "    }\n",
       "    60% {\n",
       "      border-color: transparent;\n",
       "      border-right-color: var(--fill-color);\n",
       "    }\n",
       "    80% {\n",
       "      border-color: transparent;\n",
       "      border-right-color: var(--fill-color);\n",
       "      border-bottom-color: var(--fill-color);\n",
       "    }\n",
       "    90% {\n",
       "      border-color: transparent;\n",
       "      border-bottom-color: var(--fill-color);\n",
       "    }\n",
       "  }\n",
       "</style>\n",
       "\n",
       "  <script>\n",
       "    async function quickchart(key) {\n",
       "      const quickchartButtonEl =\n",
       "        document.querySelector('#' + key + ' button');\n",
       "      quickchartButtonEl.disabled = true;  // To prevent multiple clicks.\n",
       "      quickchartButtonEl.classList.add('colab-df-spinner');\n",
       "      try {\n",
       "        const charts = await google.colab.kernel.invokeFunction(\n",
       "            'suggestCharts', [key], {});\n",
       "      } catch (error) {\n",
       "        console.error('Error during call to suggestCharts:', error);\n",
       "      }\n",
       "      quickchartButtonEl.classList.remove('colab-df-spinner');\n",
       "      quickchartButtonEl.classList.add('colab-df-quickchart-complete');\n",
       "    }\n",
       "    (() => {\n",
       "      let quickchartButtonEl =\n",
       "        document.querySelector('#df-82793937-4a05-4a86-bf9a-21872c8ecb4a button');\n",
       "      quickchartButtonEl.style.display =\n",
       "        google.colab.kernel.accessAllowed ? 'block' : 'none';\n",
       "    })();\n",
       "  </script>\n",
       "</div>\n",
       "    </div>\n",
       "  </div>\n"
      ]
     },
     "metadata": {},
     "execution_count": 3
    }
   ]
  },
  {
   "cell_type": "code",
   "source": [
    "categories = df['category'].value_counts().index\n",
    "\n",
    "def groupper(grouplist,name):\n",
    "    for ele in categories:\n",
    "        if ele in grouplist:\n",
    "            df.loc[df['category'] == ele, 'category'] = name"
   ],
   "metadata": {
    "id": "ZH1nKb0oacGy",
    "executionInfo": {
     "status": "ok",
     "timestamp": 1702206581894,
     "user_tz": -60,
     "elapsed": 1017,
     "user": {
      "displayName": "Adrian Portelli",
      "userId": "00509044282638927461"
     }
    }
   },
   "execution_count": 5,
   "outputs": []
  },
  {
   "cell_type": "code",
   "source": [
    "groupper( grouplist= ['WELLNESS', 'HEALTHY LIVING','HOME & LIVING','STYLE & BEAUTY' ,'STYLE'] , name =  'LIFESTYLE AND WELLNESS')\n",
    "\n",
    "groupper( grouplist= [ 'PARENTING', 'PARENTS' ,'EDUCATION' ,'COLLEGE'] , name =  'PARENTING AND EDUCATION')\n",
    "\n",
    "groupper( grouplist= ['SPORTS','ENTERTAINMENT' , 'COMEDY','WEIRD NEWS','ARTS'] , name =  'SPORTS AND ENTERTAINMENT')\n",
    "\n",
    "groupper( grouplist= ['TRAVEL', 'ARTS & CULTURE','CULTURE & ARTS','FOOD & DRINK', 'TASTE'] , name =  'TRAVEL-TOURISM & ART-CULTURE')\n",
    "\n",
    "groupper( grouplist= ['WOMEN','QUEER VOICES', 'LATINO VOICES', 'BLACK VOICES'] , name =  'EMPOWERED VOICES')\n",
    "\n",
    "groupper( grouplist= ['BUSINESS' ,  'MONEY'] , name =  'BUSINESS-MONEY')\n",
    "\n",
    "groupper( grouplist= ['THE WORLDPOST' , 'WORLDPOST' , 'WORLD NEWS'] , name =  'WORLDNEWS')\n",
    "\n",
    "groupper( grouplist= ['ENVIRONMENT' ,'GREEN'] , name =  'ENVIRONMENT')\n",
    "\n",
    "groupper( grouplist= ['TECH', 'SCIENCE'] , name =  'SCIENCE AND TECH')\n",
    "\n",
    "groupper( grouplist= ['FIFTY' , 'IMPACT' ,'GOOD NEWS','CRIME'] , name =  'GENERAL')\n",
    "\n",
    "groupper( grouplist= ['WEDDINGS', 'DIVORCE',  'RELIGION','MEDIA'] , name =  'MISC')"
   ],
   "metadata": {
    "id": "e2TuCnkpaaJh",
    "executionInfo": {
     "status": "ok",
     "timestamp": 1702206585011,
     "user_tz": -60,
     "elapsed": 1,
     "user": {
      "displayName": "Adrian Portelli",
      "userId": "00509044282638927461"
     }
    }
   },
   "execution_count": 6,
   "outputs": []
  },
  {
   "metadata": {
    "trusted": true,
    "colab": {
     "base_uri": "https://localhost:8080/"
    },
    "id": "w6s2ee4g3QOh",
    "executionInfo": {
     "status": "ok",
     "timestamp": 1702206587862,
     "user_tz": -60,
     "elapsed": 453,
     "user": {
      "displayName": "Adrian Portelli",
      "userId": "00509044282638927461"
     }
    },
    "outputId": "089fe478-1405-422c-bb93-8c5d4d91a5dc"
   },
   "cell_type": "code",
   "source": [
    "print(\"We have a total of {} categories now\".format(df['category'].nunique()))\n",
    "df['category'].value_counts()"
   ],
   "execution_count": 7,
   "outputs": [
    {
     "output_type": "stream",
     "name": "stdout",
     "text": [
      "We have a total of 8 categories now\n"
     ]
    },
    {
     "output_type": "execute_result",
     "data": {
      "text/plain": [
       "SPORTS AND ENTERTAINMENT    12727\n",
       "MISC                        12448\n",
       "WORLDNEWS                   8419 \n",
       "EMPOWERED VOICES            8018 \n",
       "GENERAL                     6862 \n",
       "LIFESTYLE AND WELLNESS      6449 \n",
       "PARENTING AND EDUCATION     3955 \n",
       "ENVIRONMENT                 2622 \n",
       "Name: category, dtype: int64"
      ]
     },
     "metadata": {},
     "execution_count": 7
    }
   ]
  },
  {
   "cell_type": "code",
   "source": [
    "#from https://www.kaggle.com/code/dima806/news-category-classification-distilbert\n",
    "\n",
    "item0 = df.shape[0]  # Store the initial number of items in the DataFrame\n",
    "df = df.drop_duplicates()  # Remove duplicate rows from the DataFrame\n",
    "item1 = df.shape[0]  # Store the number of items in the DataFrame after removing duplicates\n",
    "print(f\"There are {item0-item1} duplicates found in the dataset\")  # Print the number of duplicates removed\n",
    "\n",
    "df = df.rename(columns={'category': 'label'})  # Rename the 'category' column to 'label'\n",
    "\n",
    "df['title'] = df['headline'] + ' ' + df['short_description']  # Create a new 'title' column by combining 'headline' and 'short_description'\n",
    "\n",
    "df = df[['label', 'title']]  # Select only the 'label' and 'title' columns\n",
    "df = df[~df['title'].isnull()]  # Remove rows where 'title' is null\n",
    "df = df[~df['label'].isnull()]  # Remove rows where 'label' is null\n",
    "\n",
    "print(df.shape)  # Print the shape of the DataFrame after data preprocessing\n",
    "df.sample(5).T  # Display a random sample of 5 rows from the DataFrame"
   ],
   "metadata": {
    "colab": {
     "base_uri": "https://localhost:8080/",
     "height": 355
    },
    "id": "jdsmm1arWHIi",
    "executionInfo": {
     "status": "ok",
     "timestamp": 1702206591662,
     "user_tz": -60,
     "elapsed": 747,
     "user": {
      "displayName": "Adrian Portelli",
      "userId": "00509044282638927461"
     }
    },
    "outputId": "069a6d0e-2ab0-43fc-c310-d76057045564"
   },
   "execution_count": 8,
   "outputs": [
    {
     "output_type": "stream",
     "name": "stdout",
     "text": [
      "There are 218 duplicates found in the dataset\n",
      "(61282, 2)\n"
     ]
    },
    {
     "output_type": "execute_result",
     "data": {
      "text/plain": [
       "                                                                                                                                                                                                                                                                                                                                          121418  \\\n",
       "label  GENERAL                                                                                                                                                                                                                                                                                                                                     \n",
       "title  Ebola: Doctors Rhink We are Fighting a Disease, But Our Worst Enemy Is Human Nature While governments and doctors around the world prepare themselves for Ebola to leap across oceans, we have yet to come to terms with the most difficult enabler of the deadly virus: human nature. To combat Ebola, we have to outsmart human nature.   \n",
       "\n",
       "                                                                                                                                                                            72512  \\\n",
       "label  PARENTING AND EDUCATION                                                                                                                                                      \n",
       "title  The Soul-Crushing Reality Of The Stay-At-Home Dad I bounce Henry on my shoulder at two o’clock in the morning. He moans and raises his head to survey the dark living room   \n",
       "\n",
       "                                         131923  \\\n",
       "label  MISC                                       \n",
       "title  Cardinal: Boko Haram Has Shamed Nigeria    \n",
       "\n",
       "                                                                                                                                                                                          66668  \\\n",
       "label  GENERAL                                                                                                                                                                                    \n",
       "title  Massachusetts Policeman Slain, Suspect Killed After Manhunt May 22 (Reuters) - A central Massachusetts police officer was shot to death during a traffic stop early on Sunday, prompting   \n",
       "\n",
       "                                                              129326  \n",
       "label  SPORTS AND ENTERTAINMENT                                       \n",
       "title  WATCH: This High Schooler's Reverse 360 Dunk Just Isn't Fair   "
      ],
      "text/html": [
       "\n",
       "  <div id=\"df-4e0e9e88-c663-45fd-aa36-bde45dde9695\" class=\"colab-df-container\">\n",
       "    <div>\n",
       "<style scoped>\n",
       "    .dataframe tbody tr th:only-of-type {\n",
       "        vertical-align: middle;\n",
       "    }\n",
       "\n",
       "    .dataframe tbody tr th {\n",
       "        vertical-align: top;\n",
       "    }\n",
       "\n",
       "    .dataframe thead th {\n",
       "        text-align: right;\n",
       "    }\n",
       "</style>\n",
       "<table border=\"1\" class=\"dataframe\">\n",
       "  <thead>\n",
       "    <tr style=\"text-align: right;\">\n",
       "      <th></th>\n",
       "      <th>121418</th>\n",
       "      <th>72512</th>\n",
       "      <th>131923</th>\n",
       "      <th>66668</th>\n",
       "      <th>129326</th>\n",
       "    </tr>\n",
       "  </thead>\n",
       "  <tbody>\n",
       "    <tr>\n",
       "      <th>label</th>\n",
       "      <td>GENERAL</td>\n",
       "      <td>PARENTING AND EDUCATION</td>\n",
       "      <td>MISC</td>\n",
       "      <td>GENERAL</td>\n",
       "      <td>SPORTS AND ENTERTAINMENT</td>\n",
       "    </tr>\n",
       "    <tr>\n",
       "      <th>title</th>\n",
       "      <td>Ebola: Doctors Rhink We are Fighting a Disease, But Our Worst Enemy Is Human Nature While governments and doctors around the world prepare themselves for Ebola to leap across oceans, we have yet to come to terms with the most difficult enabler of the deadly virus: human nature. To combat Ebola, we have to outsmart human nature.</td>\n",
       "      <td>The Soul-Crushing Reality Of The Stay-At-Home Dad I bounce Henry on my shoulder at two o’clock in the morning. He moans and raises his head to survey the dark living room</td>\n",
       "      <td>Cardinal: Boko Haram Has Shamed Nigeria</td>\n",
       "      <td>Massachusetts Policeman Slain, Suspect Killed After Manhunt May 22 (Reuters) - A central Massachusetts police officer was shot to death during a traffic stop early on Sunday, prompting</td>\n",
       "      <td>WATCH: This High Schooler's Reverse 360 Dunk Just Isn't Fair</td>\n",
       "    </tr>\n",
       "  </tbody>\n",
       "</table>\n",
       "</div>\n",
       "    <div class=\"colab-df-buttons\">\n",
       "\n",
       "  <div class=\"colab-df-container\">\n",
       "    <button class=\"colab-df-convert\" onclick=\"convertToInteractive('df-4e0e9e88-c663-45fd-aa36-bde45dde9695')\"\n",
       "            title=\"Convert this dataframe to an interactive table.\"\n",
       "            style=\"display:none;\">\n",
       "\n",
       "  <svg xmlns=\"http://www.w3.org/2000/svg\" height=\"24px\" viewBox=\"0 -960 960 960\">\n",
       "    <path d=\"M120-120v-720h720v720H120Zm60-500h600v-160H180v160Zm220 220h160v-160H400v160Zm0 220h160v-160H400v160ZM180-400h160v-160H180v160Zm440 0h160v-160H620v160ZM180-180h160v-160H180v160Zm440 0h160v-160H620v160Z\"/>\n",
       "  </svg>\n",
       "    </button>\n",
       "\n",
       "  <style>\n",
       "    .colab-df-container {\n",
       "      display:flex;\n",
       "      gap: 12px;\n",
       "    }\n",
       "\n",
       "    .colab-df-convert {\n",
       "      background-color: #E8F0FE;\n",
       "      border: none;\n",
       "      border-radius: 50%;\n",
       "      cursor: pointer;\n",
       "      display: none;\n",
       "      fill: #1967D2;\n",
       "      height: 32px;\n",
       "      padding: 0 0 0 0;\n",
       "      width: 32px;\n",
       "    }\n",
       "\n",
       "    .colab-df-convert:hover {\n",
       "      background-color: #E2EBFA;\n",
       "      box-shadow: 0px 1px 2px rgba(60, 64, 67, 0.3), 0px 1px 3px 1px rgba(60, 64, 67, 0.15);\n",
       "      fill: #174EA6;\n",
       "    }\n",
       "\n",
       "    .colab-df-buttons div {\n",
       "      margin-bottom: 4px;\n",
       "    }\n",
       "\n",
       "    [theme=dark] .colab-df-convert {\n",
       "      background-color: #3B4455;\n",
       "      fill: #D2E3FC;\n",
       "    }\n",
       "\n",
       "    [theme=dark] .colab-df-convert:hover {\n",
       "      background-color: #434B5C;\n",
       "      box-shadow: 0px 1px 3px 1px rgba(0, 0, 0, 0.15);\n",
       "      filter: drop-shadow(0px 1px 2px rgba(0, 0, 0, 0.3));\n",
       "      fill: #FFFFFF;\n",
       "    }\n",
       "  </style>\n",
       "\n",
       "    <script>\n",
       "      const buttonEl =\n",
       "        document.querySelector('#df-4e0e9e88-c663-45fd-aa36-bde45dde9695 button.colab-df-convert');\n",
       "      buttonEl.style.display =\n",
       "        google.colab.kernel.accessAllowed ? 'block' : 'none';\n",
       "\n",
       "      async function convertToInteractive(key) {\n",
       "        const element = document.querySelector('#df-4e0e9e88-c663-45fd-aa36-bde45dde9695');\n",
       "        const dataTable =\n",
       "          await google.colab.kernel.invokeFunction('convertToInteractive',\n",
       "                                                    [key], {});\n",
       "        if (!dataTable) return;\n",
       "\n",
       "        const docLinkHtml = 'Like what you see? Visit the ' +\n",
       "          '<a target=\"_blank\" href=https://colab.research.google.com/notebooks/data_table.ipynb>data table notebook</a>'\n",
       "          + ' to learn more about interactive tables.';\n",
       "        element.innerHTML = '';\n",
       "        dataTable['output_type'] = 'display_data';\n",
       "        await google.colab.output.renderOutput(dataTable, element);\n",
       "        const docLink = document.createElement('div');\n",
       "        docLink.innerHTML = docLinkHtml;\n",
       "        element.appendChild(docLink);\n",
       "      }\n",
       "    </script>\n",
       "  </div>\n",
       "\n",
       "\n",
       "<div id=\"df-a9939677-03e4-414c-bed9-2a30fa445fdb\">\n",
       "  <button class=\"colab-df-quickchart\" onclick=\"quickchart('df-a9939677-03e4-414c-bed9-2a30fa445fdb')\"\n",
       "            title=\"Suggest charts\"\n",
       "            style=\"display:none;\">\n",
       "\n",
       "<svg xmlns=\"http://www.w3.org/2000/svg\" height=\"24px\"viewBox=\"0 0 24 24\"\n",
       "     width=\"24px\">\n",
       "    <g>\n",
       "        <path d=\"M19 3H5c-1.1 0-2 .9-2 2v14c0 1.1.9 2 2 2h14c1.1 0 2-.9 2-2V5c0-1.1-.9-2-2-2zM9 17H7v-7h2v7zm4 0h-2V7h2v10zm4 0h-2v-4h2v4z\"/>\n",
       "    </g>\n",
       "</svg>\n",
       "  </button>\n",
       "\n",
       "<style>\n",
       "  .colab-df-quickchart {\n",
       "      --bg-color: #E8F0FE;\n",
       "      --fill-color: #1967D2;\n",
       "      --hover-bg-color: #E2EBFA;\n",
       "      --hover-fill-color: #174EA6;\n",
       "      --disabled-fill-color: #AAA;\n",
       "      --disabled-bg-color: #DDD;\n",
       "  }\n",
       "\n",
       "  [theme=dark] .colab-df-quickchart {\n",
       "      --bg-color: #3B4455;\n",
       "      --fill-color: #D2E3FC;\n",
       "      --hover-bg-color: #434B5C;\n",
       "      --hover-fill-color: #FFFFFF;\n",
       "      --disabled-bg-color: #3B4455;\n",
       "      --disabled-fill-color: #666;\n",
       "  }\n",
       "\n",
       "  .colab-df-quickchart {\n",
       "    background-color: var(--bg-color);\n",
       "    border: none;\n",
       "    border-radius: 50%;\n",
       "    cursor: pointer;\n",
       "    display: none;\n",
       "    fill: var(--fill-color);\n",
       "    height: 32px;\n",
       "    padding: 0;\n",
       "    width: 32px;\n",
       "  }\n",
       "\n",
       "  .colab-df-quickchart:hover {\n",
       "    background-color: var(--hover-bg-color);\n",
       "    box-shadow: 0 1px 2px rgba(60, 64, 67, 0.3), 0 1px 3px 1px rgba(60, 64, 67, 0.15);\n",
       "    fill: var(--button-hover-fill-color);\n",
       "  }\n",
       "\n",
       "  .colab-df-quickchart-complete:disabled,\n",
       "  .colab-df-quickchart-complete:disabled:hover {\n",
       "    background-color: var(--disabled-bg-color);\n",
       "    fill: var(--disabled-fill-color);\n",
       "    box-shadow: none;\n",
       "  }\n",
       "\n",
       "  .colab-df-spinner {\n",
       "    border: 2px solid var(--fill-color);\n",
       "    border-color: transparent;\n",
       "    border-bottom-color: var(--fill-color);\n",
       "    animation:\n",
       "      spin 1s steps(1) infinite;\n",
       "  }\n",
       "\n",
       "  @keyframes spin {\n",
       "    0% {\n",
       "      border-color: transparent;\n",
       "      border-bottom-color: var(--fill-color);\n",
       "      border-left-color: var(--fill-color);\n",
       "    }\n",
       "    20% {\n",
       "      border-color: transparent;\n",
       "      border-left-color: var(--fill-color);\n",
       "      border-top-color: var(--fill-color);\n",
       "    }\n",
       "    30% {\n",
       "      border-color: transparent;\n",
       "      border-left-color: var(--fill-color);\n",
       "      border-top-color: var(--fill-color);\n",
       "      border-right-color: var(--fill-color);\n",
       "    }\n",
       "    40% {\n",
       "      border-color: transparent;\n",
       "      border-right-color: var(--fill-color);\n",
       "      border-top-color: var(--fill-color);\n",
       "    }\n",
       "    60% {\n",
       "      border-color: transparent;\n",
       "      border-right-color: var(--fill-color);\n",
       "    }\n",
       "    80% {\n",
       "      border-color: transparent;\n",
       "      border-right-color: var(--fill-color);\n",
       "      border-bottom-color: var(--fill-color);\n",
       "    }\n",
       "    90% {\n",
       "      border-color: transparent;\n",
       "      border-bottom-color: var(--fill-color);\n",
       "    }\n",
       "  }\n",
       "</style>\n",
       "\n",
       "  <script>\n",
       "    async function quickchart(key) {\n",
       "      const quickchartButtonEl =\n",
       "        document.querySelector('#' + key + ' button');\n",
       "      quickchartButtonEl.disabled = true;  // To prevent multiple clicks.\n",
       "      quickchartButtonEl.classList.add('colab-df-spinner');\n",
       "      try {\n",
       "        const charts = await google.colab.kernel.invokeFunction(\n",
       "            'suggestCharts', [key], {});\n",
       "      } catch (error) {\n",
       "        console.error('Error during call to suggestCharts:', error);\n",
       "      }\n",
       "      quickchartButtonEl.classList.remove('colab-df-spinner');\n",
       "      quickchartButtonEl.classList.add('colab-df-quickchart-complete');\n",
       "    }\n",
       "    (() => {\n",
       "      let quickchartButtonEl =\n",
       "        document.querySelector('#df-a9939677-03e4-414c-bed9-2a30fa445fdb button');\n",
       "      quickchartButtonEl.style.display =\n",
       "        google.colab.kernel.accessAllowed ? 'block' : 'none';\n",
       "    })();\n",
       "  </script>\n",
       "</div>\n",
       "    </div>\n",
       "  </div>\n"
      ]
     },
     "metadata": {},
     "execution_count": 8
    }
   ]
  },
  {
   "cell_type": "code",
   "source": [
    "from nltk.corpus import stopwords\n",
    "from nltk.tokenize import word_tokenize\n",
    "import nltk\n",
    "import re\n",
    "from nltk.stem import WordNetLemmatizer\n",
    "lemmatizer = WordNetLemmatizer()\n",
    "\n",
    "import gensim\n",
    "from gensim.models import Word2Vec"
   ],
   "metadata": {
    "id": "lUYNzB1iXGUP",
    "executionInfo": {
     "status": "ok",
     "timestamp": 1702206595379,
     "user_tz": -60,
     "elapsed": 751,
     "user": {
      "displayName": "Adrian Portelli",
      "userId": "00509044282638927461"
     }
    }
   },
   "execution_count": 9,
   "outputs": []
  },
  {
   "cell_type": "code",
   "source": [
    "!pip install neattext"
   ],
   "metadata": {
    "colab": {
     "base_uri": "https://localhost:8080/"
    },
    "id": "nN2SeV4iXN1-",
    "executionInfo": {
     "status": "ok",
     "timestamp": 1702206604159,
     "user_tz": -60,
     "elapsed": 7231,
     "user": {
      "displayName": "Adrian Portelli",
      "userId": "00509044282638927461"
     }
    },
    "outputId": "93afca88-9430-4ae3-e14e-20030e634a9d"
   },
   "execution_count": 10,
   "outputs": [
    {
     "output_type": "stream",
     "name": "stdout",
     "text": [
      "Collecting neattext\n",
      "  Downloading neattext-0.1.3-py3-none-any.whl (114 kB)\n",
      "\u001B[2K     \u001B[90m━━━━━━━━━━━━━━━━━━━━━━━━━━━━━━━━━━━━━━━━\u001B[0m \u001B[32m114.7/114.7 kB\u001B[0m \u001B[31m2.3 MB/s\u001B[0m eta \u001B[36m0:00:00\u001B[0m\n",
      "\u001B[?25hInstalling collected packages: neattext\n",
      "Successfully installed neattext-0.1.3\n"
     ]
    }
   ]
  },
  {
   "cell_type": "code",
   "source": [
    "import neattext.functions as nfx\n",
    "nltk.download('wordnet')\n",
    "nltk.download('punkt')\n",
    "\n",
    "lemmatizer = WordNetLemmatizer()\n",
    "tknzr = nltk.tokenize\n",
    "\n",
    "def lemmatize_text(text):\n",
    "    return [lemmatizer.lemmatize(w) for w in tknzr.word_tokenize(text)]\n",
    "\n",
    "corpus = df['title'].astype(str)\n",
    "corpus = corpus.apply(nfx.remove_stopwords)\n",
    "corpus = corpus.apply(nfx.remove_special_characters)\n",
    "corpus = corpus.apply(nfx.remove_multiple_spaces)\n",
    "corpus = corpus.str.lower()\n",
    "corpus = corpus.apply(lemmatize_text)\n",
    "\n",
    "df['title'] = corpus"
   ],
   "metadata": {
    "id": "6wi0N9Y6XQYS",
    "executionInfo": {
     "status": "ok",
     "timestamp": 1702206646041,
     "user_tz": -60,
     "elapsed": 41888,
     "user": {
      "displayName": "Adrian Portelli",
      "userId": "00509044282638927461"
     }
    },
    "colab": {
     "base_uri": "https://localhost:8080/"
    },
    "outputId": "b6ab709b-15c5-4adb-922e-f62a3ea5e253"
   },
   "execution_count": 11,
   "outputs": [
    {
     "output_type": "stream",
     "name": "stderr",
     "text": [
      "[nltk_data] Downloading package wordnet to /root/nltk_data...\n",
      "[nltk_data] Downloading package punkt to /root/nltk_data...\n",
      "[nltk_data]   Unzipping tokenizers/punkt.zip.\n"
     ]
    }
   ]
  },
  {
   "metadata": {
    "id": "q3SUy4ug3QOk"
   },
   "cell_type": "markdown",
   "source": [
    "## Data Tidying"
   ]
  },
  {
   "metadata": {
    "trusted": true,
    "id": "EHwXp7zS3QOk",
    "executionInfo": {
     "status": "ok",
     "timestamp": 1702206646041,
     "user_tz": -60,
     "elapsed": 4,
     "user": {
      "displayName": "Adrian Portelli",
      "userId": "00509044282638927461"
     }
    }
   },
   "cell_type": "code",
   "source": [
    "from sklearn.utils import shuffle\n",
    "df = shuffle(df)\n",
    "df.reset_index(inplace=True, drop=True)"
   ],
   "execution_count": 12,
   "outputs": []
  },
  {
   "metadata": {
    "trusted": true,
    "colab": {
     "base_uri": "https://localhost:8080/",
     "height": 293
    },
    "id": "57dQ2aSg3QOk",
    "executionInfo": {
     "status": "ok",
     "timestamp": 1702206646647,
     "user_tz": -60,
     "elapsed": 610,
     "user": {
      "displayName": "Adrian Portelli",
      "userId": "00509044282638927461"
     }
    },
    "outputId": "4def84e7-c51c-426b-82ec-1f3a3a59486c"
   },
   "cell_type": "code",
   "source": [
    "df.head()"
   ],
   "execution_count": 13,
   "outputs": [
    {
     "output_type": "execute_result",
     "data": {
      "text/plain": [
       "                    label  \\\n",
       "0  LIFESTYLE AND WELLNESS   \n",
       "1  GENERAL                  \n",
       "2  MISC                     \n",
       "3  WORLDNEWS                \n",
       "4  EMPOWERED VOICES         \n",
       "\n",
       "                                                                                                                                                                                                                                                                    title  \n",
       "0  [ll, bean, grandson, company, leader, leon, gorman, dy, age, 80, transformed, enterprise, volunteered, quietly, loved, great, outdoors]                                                                                                                                 \n",
       "1  [ending, genderbased, violence, world, woman, girl, men, boy, share, right, live, free, violence, is, unfortunately, experienced, men, woman, woman, girl, however, disproportionately, experience, violence, deeply, rooted, global, culture, gender, discrimination]  \n",
       "2  [35, thing, ive, learned, 35, year, marriage, week, celebrate, 35th, wedding, anniversary, mean, discovered, secret, hardly, learned, something, definitely, thank, goodness, that]                                                                                     \n",
       "3  [liberian, leader, warns, ebola, risk, causing, lost, generation]                                                                                                                                                                                                       \n",
       "4  [lesson, learned, la, 1992, civil, unrest, a, riot, language, unheard, dr, martin, luther, king, jr, said, april, 29, 1992, unheard, unleashed]                                                                                                                         "
      ],
      "text/html": [
       "\n",
       "  <div id=\"df-540bdcda-418e-47de-aa23-8fc248fa1b2a\" class=\"colab-df-container\">\n",
       "    <div>\n",
       "<style scoped>\n",
       "    .dataframe tbody tr th:only-of-type {\n",
       "        vertical-align: middle;\n",
       "    }\n",
       "\n",
       "    .dataframe tbody tr th {\n",
       "        vertical-align: top;\n",
       "    }\n",
       "\n",
       "    .dataframe thead th {\n",
       "        text-align: right;\n",
       "    }\n",
       "</style>\n",
       "<table border=\"1\" class=\"dataframe\">\n",
       "  <thead>\n",
       "    <tr style=\"text-align: right;\">\n",
       "      <th></th>\n",
       "      <th>label</th>\n",
       "      <th>title</th>\n",
       "    </tr>\n",
       "  </thead>\n",
       "  <tbody>\n",
       "    <tr>\n",
       "      <th>0</th>\n",
       "      <td>LIFESTYLE AND WELLNESS</td>\n",
       "      <td>[ll, bean, grandson, company, leader, leon, gorman, dy, age, 80, transformed, enterprise, volunteered, quietly, loved, great, outdoors]</td>\n",
       "    </tr>\n",
       "    <tr>\n",
       "      <th>1</th>\n",
       "      <td>GENERAL</td>\n",
       "      <td>[ending, genderbased, violence, world, woman, girl, men, boy, share, right, live, free, violence, is, unfortunately, experienced, men, woman, woman, girl, however, disproportionately, experience, violence, deeply, rooted, global, culture, gender, discrimination]</td>\n",
       "    </tr>\n",
       "    <tr>\n",
       "      <th>2</th>\n",
       "      <td>MISC</td>\n",
       "      <td>[35, thing, ive, learned, 35, year, marriage, week, celebrate, 35th, wedding, anniversary, mean, discovered, secret, hardly, learned, something, definitely, thank, goodness, that]</td>\n",
       "    </tr>\n",
       "    <tr>\n",
       "      <th>3</th>\n",
       "      <td>WORLDNEWS</td>\n",
       "      <td>[liberian, leader, warns, ebola, risk, causing, lost, generation]</td>\n",
       "    </tr>\n",
       "    <tr>\n",
       "      <th>4</th>\n",
       "      <td>EMPOWERED VOICES</td>\n",
       "      <td>[lesson, learned, la, 1992, civil, unrest, a, riot, language, unheard, dr, martin, luther, king, jr, said, april, 29, 1992, unheard, unleashed]</td>\n",
       "    </tr>\n",
       "  </tbody>\n",
       "</table>\n",
       "</div>\n",
       "    <div class=\"colab-df-buttons\">\n",
       "\n",
       "  <div class=\"colab-df-container\">\n",
       "    <button class=\"colab-df-convert\" onclick=\"convertToInteractive('df-540bdcda-418e-47de-aa23-8fc248fa1b2a')\"\n",
       "            title=\"Convert this dataframe to an interactive table.\"\n",
       "            style=\"display:none;\">\n",
       "\n",
       "  <svg xmlns=\"http://www.w3.org/2000/svg\" height=\"24px\" viewBox=\"0 -960 960 960\">\n",
       "    <path d=\"M120-120v-720h720v720H120Zm60-500h600v-160H180v160Zm220 220h160v-160H400v160Zm0 220h160v-160H400v160ZM180-400h160v-160H180v160Zm440 0h160v-160H620v160ZM180-180h160v-160H180v160Zm440 0h160v-160H620v160Z\"/>\n",
       "  </svg>\n",
       "    </button>\n",
       "\n",
       "  <style>\n",
       "    .colab-df-container {\n",
       "      display:flex;\n",
       "      gap: 12px;\n",
       "    }\n",
       "\n",
       "    .colab-df-convert {\n",
       "      background-color: #E8F0FE;\n",
       "      border: none;\n",
       "      border-radius: 50%;\n",
       "      cursor: pointer;\n",
       "      display: none;\n",
       "      fill: #1967D2;\n",
       "      height: 32px;\n",
       "      padding: 0 0 0 0;\n",
       "      width: 32px;\n",
       "    }\n",
       "\n",
       "    .colab-df-convert:hover {\n",
       "      background-color: #E2EBFA;\n",
       "      box-shadow: 0px 1px 2px rgba(60, 64, 67, 0.3), 0px 1px 3px 1px rgba(60, 64, 67, 0.15);\n",
       "      fill: #174EA6;\n",
       "    }\n",
       "\n",
       "    .colab-df-buttons div {\n",
       "      margin-bottom: 4px;\n",
       "    }\n",
       "\n",
       "    [theme=dark] .colab-df-convert {\n",
       "      background-color: #3B4455;\n",
       "      fill: #D2E3FC;\n",
       "    }\n",
       "\n",
       "    [theme=dark] .colab-df-convert:hover {\n",
       "      background-color: #434B5C;\n",
       "      box-shadow: 0px 1px 3px 1px rgba(0, 0, 0, 0.15);\n",
       "      filter: drop-shadow(0px 1px 2px rgba(0, 0, 0, 0.3));\n",
       "      fill: #FFFFFF;\n",
       "    }\n",
       "  </style>\n",
       "\n",
       "    <script>\n",
       "      const buttonEl =\n",
       "        document.querySelector('#df-540bdcda-418e-47de-aa23-8fc248fa1b2a button.colab-df-convert');\n",
       "      buttonEl.style.display =\n",
       "        google.colab.kernel.accessAllowed ? 'block' : 'none';\n",
       "\n",
       "      async function convertToInteractive(key) {\n",
       "        const element = document.querySelector('#df-540bdcda-418e-47de-aa23-8fc248fa1b2a');\n",
       "        const dataTable =\n",
       "          await google.colab.kernel.invokeFunction('convertToInteractive',\n",
       "                                                    [key], {});\n",
       "        if (!dataTable) return;\n",
       "\n",
       "        const docLinkHtml = 'Like what you see? Visit the ' +\n",
       "          '<a target=\"_blank\" href=https://colab.research.google.com/notebooks/data_table.ipynb>data table notebook</a>'\n",
       "          + ' to learn more about interactive tables.';\n",
       "        element.innerHTML = '';\n",
       "        dataTable['output_type'] = 'display_data';\n",
       "        await google.colab.output.renderOutput(dataTable, element);\n",
       "        const docLink = document.createElement('div');\n",
       "        docLink.innerHTML = docLinkHtml;\n",
       "        element.appendChild(docLink);\n",
       "      }\n",
       "    </script>\n",
       "  </div>\n",
       "\n",
       "\n",
       "<div id=\"df-58e09e85-4f24-4590-9cf6-c21b40f2decc\">\n",
       "  <button class=\"colab-df-quickchart\" onclick=\"quickchart('df-58e09e85-4f24-4590-9cf6-c21b40f2decc')\"\n",
       "            title=\"Suggest charts\"\n",
       "            style=\"display:none;\">\n",
       "\n",
       "<svg xmlns=\"http://www.w3.org/2000/svg\" height=\"24px\"viewBox=\"0 0 24 24\"\n",
       "     width=\"24px\">\n",
       "    <g>\n",
       "        <path d=\"M19 3H5c-1.1 0-2 .9-2 2v14c0 1.1.9 2 2 2h14c1.1 0 2-.9 2-2V5c0-1.1-.9-2-2-2zM9 17H7v-7h2v7zm4 0h-2V7h2v10zm4 0h-2v-4h2v4z\"/>\n",
       "    </g>\n",
       "</svg>\n",
       "  </button>\n",
       "\n",
       "<style>\n",
       "  .colab-df-quickchart {\n",
       "      --bg-color: #E8F0FE;\n",
       "      --fill-color: #1967D2;\n",
       "      --hover-bg-color: #E2EBFA;\n",
       "      --hover-fill-color: #174EA6;\n",
       "      --disabled-fill-color: #AAA;\n",
       "      --disabled-bg-color: #DDD;\n",
       "  }\n",
       "\n",
       "  [theme=dark] .colab-df-quickchart {\n",
       "      --bg-color: #3B4455;\n",
       "      --fill-color: #D2E3FC;\n",
       "      --hover-bg-color: #434B5C;\n",
       "      --hover-fill-color: #FFFFFF;\n",
       "      --disabled-bg-color: #3B4455;\n",
       "      --disabled-fill-color: #666;\n",
       "  }\n",
       "\n",
       "  .colab-df-quickchart {\n",
       "    background-color: var(--bg-color);\n",
       "    border: none;\n",
       "    border-radius: 50%;\n",
       "    cursor: pointer;\n",
       "    display: none;\n",
       "    fill: var(--fill-color);\n",
       "    height: 32px;\n",
       "    padding: 0;\n",
       "    width: 32px;\n",
       "  }\n",
       "\n",
       "  .colab-df-quickchart:hover {\n",
       "    background-color: var(--hover-bg-color);\n",
       "    box-shadow: 0 1px 2px rgba(60, 64, 67, 0.3), 0 1px 3px 1px rgba(60, 64, 67, 0.15);\n",
       "    fill: var(--button-hover-fill-color);\n",
       "  }\n",
       "\n",
       "  .colab-df-quickchart-complete:disabled,\n",
       "  .colab-df-quickchart-complete:disabled:hover {\n",
       "    background-color: var(--disabled-bg-color);\n",
       "    fill: var(--disabled-fill-color);\n",
       "    box-shadow: none;\n",
       "  }\n",
       "\n",
       "  .colab-df-spinner {\n",
       "    border: 2px solid var(--fill-color);\n",
       "    border-color: transparent;\n",
       "    border-bottom-color: var(--fill-color);\n",
       "    animation:\n",
       "      spin 1s steps(1) infinite;\n",
       "  }\n",
       "\n",
       "  @keyframes spin {\n",
       "    0% {\n",
       "      border-color: transparent;\n",
       "      border-bottom-color: var(--fill-color);\n",
       "      border-left-color: var(--fill-color);\n",
       "    }\n",
       "    20% {\n",
       "      border-color: transparent;\n",
       "      border-left-color: var(--fill-color);\n",
       "      border-top-color: var(--fill-color);\n",
       "    }\n",
       "    30% {\n",
       "      border-color: transparent;\n",
       "      border-left-color: var(--fill-color);\n",
       "      border-top-color: var(--fill-color);\n",
       "      border-right-color: var(--fill-color);\n",
       "    }\n",
       "    40% {\n",
       "      border-color: transparent;\n",
       "      border-right-color: var(--fill-color);\n",
       "      border-top-color: var(--fill-color);\n",
       "    }\n",
       "    60% {\n",
       "      border-color: transparent;\n",
       "      border-right-color: var(--fill-color);\n",
       "    }\n",
       "    80% {\n",
       "      border-color: transparent;\n",
       "      border-right-color: var(--fill-color);\n",
       "      border-bottom-color: var(--fill-color);\n",
       "    }\n",
       "    90% {\n",
       "      border-color: transparent;\n",
       "      border-bottom-color: var(--fill-color);\n",
       "    }\n",
       "  }\n",
       "</style>\n",
       "\n",
       "  <script>\n",
       "    async function quickchart(key) {\n",
       "      const quickchartButtonEl =\n",
       "        document.querySelector('#' + key + ' button');\n",
       "      quickchartButtonEl.disabled = true;  // To prevent multiple clicks.\n",
       "      quickchartButtonEl.classList.add('colab-df-spinner');\n",
       "      try {\n",
       "        const charts = await google.colab.kernel.invokeFunction(\n",
       "            'suggestCharts', [key], {});\n",
       "      } catch (error) {\n",
       "        console.error('Error during call to suggestCharts:', error);\n",
       "      }\n",
       "      quickchartButtonEl.classList.remove('colab-df-spinner');\n",
       "      quickchartButtonEl.classList.add('colab-df-quickchart-complete');\n",
       "    }\n",
       "    (() => {\n",
       "      let quickchartButtonEl =\n",
       "        document.querySelector('#df-58e09e85-4f24-4590-9cf6-c21b40f2decc button');\n",
       "      quickchartButtonEl.style.display =\n",
       "        google.colab.kernel.accessAllowed ? 'block' : 'none';\n",
       "    })();\n",
       "  </script>\n",
       "</div>\n",
       "    </div>\n",
       "  </div>\n"
      ]
     },
     "metadata": {},
     "execution_count": 13
    }
   ]
  },
  {
   "metadata": {
    "id": "vTztSuM93QOk"
   },
   "cell_type": "markdown",
   "source": [
    "# Tokenizing and Padding"
   ]
  },
  {
   "metadata": {
    "trusted": true,
    "id": "bJYvFHRu3QOk",
    "executionInfo": {
     "status": "ok",
     "timestamp": 1702206646647,
     "user_tz": -60,
     "elapsed": 4,
     "user": {
      "displayName": "Adrian Portelli",
      "userId": "00509044282638927461"
     }
    }
   },
   "cell_type": "code",
   "source": [
    "X,Y = df['title'],df['label']\n",
    "\n",
    "#80% to train , 10% for validation , 10% for testing\n",
    "X_train, X_val, y_train, y_val = train_test_split(X,Y, test_size=0.2, random_state=42, stratify=Y)\n",
    "X_val, X_test , y_val, y_test= train_test_split(X_val,y_val, test_size=0.5, random_state=42, stratify = y_val)"
   ],
   "execution_count": 14,
   "outputs": []
  },
  {
   "metadata": {
    "trusted": true,
    "id": "O5F56xQQ3QOk",
    "executionInfo": {
     "status": "ok",
     "timestamp": 1702206646647,
     "user_tz": -60,
     "elapsed": 4,
     "user": {
      "displayName": "Adrian Portelli",
      "userId": "00509044282638927461"
     }
    }
   },
   "cell_type": "code",
   "source": [
    "max_length = 300\n",
    "trunc_type='post'\n",
    "padding_type='post'\n",
    "oov_tok = \"<OOV>\""
   ],
   "execution_count": 15,
   "outputs": []
  },
  {
   "cell_type": "code",
   "source": [
    "from gensim.models.keyedvectors import KeyedVectors\n",
    "import gensim\n",
    "from gensim.models import Word2Vec\n",
    "from gensim.utils import simple_preprocess\n",
    "\n",
    "word_vectors = KeyedVectors.load_word2vec_format('drive/MyDrive/input/GoogleNews-vectors-negative300.bin.gz', binary=True)"
   ],
   "metadata": {
    "id": "J6zSwjhDfSo3",
    "executionInfo": {
     "status": "ok",
     "timestamp": 1702206739802,
     "user_tz": -60,
     "elapsed": 93158,
     "user": {
      "displayName": "Adrian Portelli",
      "userId": "00509044282638927461"
     }
    }
   },
   "execution_count": 16,
   "outputs": []
  },
  {
   "metadata": {
    "trusted": true,
    "colab": {
     "base_uri": "https://localhost:8080/"
    },
    "id": "IQvPNC9B3QOk",
    "executionInfo": {
     "status": "ok",
     "timestamp": 1702206741745,
     "user_tz": -60,
     "elapsed": 1954,
     "user": {
      "displayName": "Adrian Portelli",
      "userId": "00509044282638927461"
     }
    },
    "outputId": "b535d3b4-5747-4f18-e356-4bfd60451d78"
   },
   "cell_type": "code",
   "source": [
    "\n",
    "\n",
    "\n",
    "tokenizer = tf.keras.preprocessing.text.Tokenizer(num_words = 20000, oov_token=oov_tok)\n",
    "tokenizer.fit_on_texts(X_train)\n",
    "word_index = tokenizer.word_index\n",
    "num_tokens = len(tokenizer.word_index.items()) + 2\n",
    "vocabulary_size = min(len(word_index)+1, num_tokens)\n",
    "\n",
    "\n",
    "EMBEDDING_DIM = 300\n",
    "\n",
    "\n",
    "\n",
    "\n",
    "X_train = tokenizer.texts_to_sequences(X_train)\n",
    "X_train = pad_sequences(X_train,maxlen= max_length,padding=padding_type, truncating=trunc_type)\n",
    "y_train = np.asarray(y_train)\n",
    "y_train = pd.get_dummies(y_train)\n",
    "\n",
    "X_val = tokenizer.texts_to_sequences(X_val)\n",
    "X_val = pad_sequences(X_val,maxlen= max_length,padding=padding_type, truncating=trunc_type)\n",
    "y_test = pd.get_dummies(y_test)\n",
    "y_test = np.asarray(y_test)\n",
    "y_test = np.argmax(y_test,axis=1)\n",
    "\n",
    "train_set = np.array(X_train)\n",
    "val_set = np.array(X_val)\n",
    "\n",
    "train_label = np.array(y_train)\n",
    "val_label = np.array(y_val)\n",
    "\n",
    "\n",
    "y_test = pd.get_dummies(y_test)\n",
    "y_test = np.asarray(y_test)\n",
    "y_test = np.argmax(y_test,axis=1)   #this would be our ground truth label while testing\n",
    "\n",
    "print(train_set.shape)\n",
    "print(train_label.shape)\n",
    "\n",
    "\n",
    "print(val_set.shape)\n",
    "print(val_label.shape)\n",
    "\n"
   ],
   "execution_count": 17,
   "outputs": [
    {
     "output_type": "stream",
     "name": "stdout",
     "text": [
      "(49025, 300)\n",
      "(49025, 8)\n",
      "(6128, 300)\n",
      "(6128, 8)\n"
     ]
    }
   ]
  },
  {
   "metadata": {
    "trusted": true,
    "id": "OYBRywkC3QOl",
    "executionInfo": {
     "status": "ok",
     "timestamp": 1702206742878,
     "user_tz": -60,
     "elapsed": 1135,
     "user": {
      "displayName": "Adrian Portelli",
      "userId": "00509044282638927461"
     }
    }
   },
   "cell_type": "code",
   "source": [
    "\n",
    "\n",
    "embedding_matrix = np.zeros((vocabulary_size, EMBEDDING_DIM))\n",
    "for word, i in word_index.items():\n",
    "    if i>=num_tokens:\n",
    "        continue\n",
    "    try:\n",
    "        embedding_vector = word_vectors[word]\n",
    "        embedding_matrix[i] = embedding_vector\n",
    "    except KeyError:\n",
    "        embedding_matrix[i]=np.random.normal(0,np.sqrt(0.25),EMBEDDING_DIM)\n",
    "\n",
    "del(word_vectors)\n",
    "\n",
    "\n",
    "embedding_layer = Embedding(vocabulary_size,\n",
    "                            EMBEDDING_DIM,\n",
    "                            weights=[embedding_matrix],\n",
    "                            trainable=False)"
   ],
   "execution_count": 18,
   "outputs": []
  },
  {
   "metadata": {
    "id": "8PwEMPyU3QOl"
   },
   "cell_type": "markdown",
   "source": [
    "# Model Training"
   ]
  },
  {
   "metadata": {
    "trusted": true,
    "colab": {
     "base_uri": "https://localhost:8080/"
    },
    "id": "ql48Pxtu3QOm",
    "executionInfo": {
     "status": "ok",
     "timestamp": 1702206748088,
     "user_tz": -60,
     "elapsed": 5211,
     "user": {
      "displayName": "Adrian Portelli",
      "userId": "00509044282638927461"
     }
    },
    "outputId": "0a66202f-fe78-4aba-c9df-edddfa70aad3"
   },
   "cell_type": "code",
   "source": [
    "early_stop=tf.keras.callbacks.EarlyStopping(monitor='val_loss', patience=3, min_delta=0.0001)\n",
    "\n",
    "tf.keras.backend.clear_session()\n",
    "\n",
    "embed_size = 300\n",
    "\n",
    "model = keras.models.Sequential([\n",
    "\n",
    "      embedding_layer,\n",
    "        keras.layers.Bidirectional(keras.layers.LSTM(256, dropout = 0.4)),\n",
    "        keras.layers.Dense(8, activation=\"softmax\")\n",
    "\n",
    "        ])\n",
    "\n",
    "\n",
    "model.summary()\n"
   ],
   "execution_count": 19,
   "outputs": [
    {
     "output_type": "stream",
     "name": "stdout",
     "text": [
      "Model: \"sequential\"\n",
      "_________________________________________________________________\n",
      " Layer (type)                Output Shape              Param #   \n",
      "=================================================================\n",
      " embedding (Embedding)       (None, None, 300)         14303400  \n",
      "                                                                 \n",
      " bidirectional (Bidirection  (None, 512)               1140736   \n",
      " al)                                                             \n",
      "                                                                 \n",
      " dense (Dense)               (None, 8)                 4104      \n",
      "                                                                 \n",
      "=================================================================\n",
      "Total params: 15448240 (58.93 MB)\n",
      "Trainable params: 1144840 (4.37 MB)\n",
      "Non-trainable params: 14303400 (54.56 MB)\n",
      "_________________________________________________________________\n"
     ]
    }
   ]
  },
  {
   "metadata": {
    "trusted": true,
    "id": "AgI2Px8L3QOm",
    "colab": {
     "base_uri": "https://localhost:8080/"
    },
    "outputId": "53965dfb-ae61-49db-fb73-15c6c9e58f44",
    "executionInfo": {
     "status": "ok",
     "timestamp": 1702207335733,
     "user_tz": -60,
     "elapsed": 587657,
     "user": {
      "displayName": "Adrian Portelli",
      "userId": "00509044282638927461"
     }
    }
   },
   "cell_type": "code",
   "source": [
    "opt = keras.optimizers.Adam(learning_rate=0.001)\n",
    "model.compile(loss=\"categorical_crossentropy\", optimizer=opt, metrics=[\"accuracy\"])\n",
    "\n",
    "history = model.fit(train_set,train_label,\n",
    "                     batch_size = 32,\n",
    "                     steps_per_epoch=len(X_train) // 32,\n",
    "                     validation_data = (val_set , val_label),\n",
    "                     validation_steps = len(val_set)//32, epochs=20,\n",
    "                     callbacks= early_stop)"
   ],
   "execution_count": 20,
   "outputs": [
    {
     "output_type": "stream",
     "name": "stdout",
     "text": [
      "Epoch 1/20\n",
      "1532/1532 [==============================] - 74s 41ms/step - loss: 1.0639 - accuracy: 0.6262 - val_loss: 0.8515 - val_accuracy: 0.7060\n",
      "Epoch 2/20\n",
      "1532/1532 [==============================] - 63s 41ms/step - loss: 0.8733 - accuracy: 0.6968 - val_loss: 0.7959 - val_accuracy: 0.7204\n",
      "Epoch 3/20\n",
      "1532/1532 [==============================] - 67s 44ms/step - loss: 0.7792 - accuracy: 0.7300 - val_loss: 0.7400 - val_accuracy: 0.7461\n",
      "Epoch 4/20\n",
      "1532/1532 [==============================] - 63s 41ms/step - loss: 0.7199 - accuracy: 0.7485 - val_loss: 0.7448 - val_accuracy: 0.7413\n",
      "Epoch 5/20\n",
      "1532/1532 [==============================] - 65s 42ms/step - loss: 0.6621 - accuracy: 0.7701 - val_loss: 0.7114 - val_accuracy: 0.7541\n",
      "Epoch 6/20\n",
      "1532/1532 [==============================] - 62s 41ms/step - loss: 0.6207 - accuracy: 0.7833 - val_loss: 0.6849 - val_accuracy: 0.7639\n",
      "Epoch 7/20\n",
      "1532/1532 [==============================] - 64s 42ms/step - loss: 0.5698 - accuracy: 0.8010 - val_loss: 0.7033 - val_accuracy: 0.7592\n",
      "Epoch 8/20\n",
      "1532/1532 [==============================] - 65s 42ms/step - loss: 0.5200 - accuracy: 0.8188 - val_loss: 0.7169 - val_accuracy: 0.7631\n",
      "Epoch 9/20\n",
      "1532/1532 [==============================] - 65s 42ms/step - loss: 0.4777 - accuracy: 0.8318 - val_loss: 0.7322 - val_accuracy: 0.7567\n"
     ]
    }
   ]
  },
  {
   "metadata": {
    "trusted": true,
    "id": "glS4sHAV3QOm",
    "colab": {
     "base_uri": "https://localhost:8080/",
     "height": 459
    },
    "executionInfo": {
     "status": "ok",
     "timestamp": 1702207373998,
     "user_tz": -60,
     "elapsed": 38269,
     "user": {
      "displayName": "Adrian Portelli",
      "userId": "00509044282638927461"
     }
    },
    "outputId": "38f277b9-8696-46db-8093-c610be319e34"
   },
   "cell_type": "code",
   "source": [
    "fig = plt.figure(figsize=(10,10))\n",
    "\n",
    "# Plot accuracy\n",
    "plt.subplot(221)\n",
    "plt.plot(history.history['accuracy'],'bo-', label = \"acc\")\n",
    "plt.plot(history.history['val_accuracy'], 'ro-', label = \"val_acc\")\n",
    "plt.title(\"train_accuracy vs val_accuracy\")\n",
    "plt.ylabel(\"accuracy\")\n",
    "plt.xlabel(\"epochs\")\n",
    "plt.grid(True)\n",
    "plt.legend()\n",
    "\n",
    "# Plot loss function\n",
    "plt.subplot(222)\n",
    "plt.plot(history.history['loss'],'bo-', label = \"loss\")\n",
    "plt.plot(history.history['val_loss'], 'ro-', label = \"val_loss\")\n",
    "plt.title(\"train_loss vs val_loss\")\n",
    "plt.ylabel(\"loss\")\n",
    "plt.xlabel(\"epochs\")\n",
    "plt.grid(True)\n",
    "plt.legend()\n"
   ],
   "execution_count": 21,
   "outputs": [
    {
     "output_type": "execute_result",
     "data": {
      "text/plain": [
       "<matplotlib.legend.Legend at 0x7a7151997160>"
      ]
     },
     "metadata": {},
     "execution_count": 21
    },
    {
     "output_type": "display_data",
     "data": {
      "text/plain": [
       "<Figure size 1000x1000 with 2 Axes>"
      ],
      "image/png": "[encoded data removed]"
     },
     "metadata": {}
    }
   ]
  },
  {
   "metadata": {
    "id": "B67-Cq6d3QOn"
   },
   "cell_type": "markdown",
   "source": [
    "# Evaluating and Making Predictions"
   ]
  },
  {
   "metadata": {
    "trusted": true,
    "id": "XRI370sc3QOn",
    "executionInfo": {
     "status": "ok",
     "timestamp": 1702207373998,
     "user_tz": -60,
     "elapsed": 3,
     "user": {
      "displayName": "Adrian Portelli",
      "userId": "00509044282638927461"
     }
    }
   },
   "cell_type": "code",
   "source": [
    "classes = df['label'].value_counts().index\n",
    "\n",
    "def prediction(inference_data):\n",
    "    X = tokenizer.texts_to_sequences(inference_data)\n",
    "    X = pad_sequences(X,maxlen= max_length,padding=padding_type, truncating=trunc_type)\n",
    "    pred = model.predict(X)\n",
    "    pred_value = tf.argmax(pred,axis =1).numpy()\n",
    "    return pred_value"
   ],
   "execution_count": 22,
   "outputs": []
  },
  {
   "metadata": {
    "trusted": true,
    "id": "hbqNEMib3QOn",
    "colab": {
     "base_uri": "https://localhost:8080/",
     "height": 1000
    },
    "executionInfo": {
     "status": "ok",
     "timestamp": 1702207379486,
     "user_tz": -60,
     "elapsed": 5491,
     "user": {
      "displayName": "Adrian Portelli",
      "userId": "00509044282638927461"
     }
    },
    "outputId": "654eaec3-5b26-4cb6-d5e9-f26f1ca05d3f"
   },
   "cell_type": "code",
   "source": [
    "y_pred = prediction(X_test)\n",
    "print(classification_report(np.asarray(y_test),np.asarray( y_pred)))\n",
    "cf_matrix = confusion_matrix(y_test, y_pred)\n",
    "\n",
    "\n",
    "plt.figure(figsize=(10,10))\n",
    "heatmap = sns.heatmap(cf_matrix, xticklabels=classes,\n",
    "                      yticklabels=classes,\n",
    "                      annot=True, fmt='d', color='blue')\n",
    "plt.xlabel('Predicted class')\n",
    "plt.ylabel('True class')\n",
    "plt.title('Confusion matrix of model')"
   ],
   "execution_count": 23,
   "outputs": [
    {
     "output_type": "stream",
     "name": "stdout",
     "text": [
      "192/192 [==============================] - 4s 15ms/step\n",
      "              precision    recall  f1-score   support\n",
      "\n",
      "           0       0.75      0.57      0.65       793\n",
      "           1       0.77      0.61      0.68       261\n",
      "           2       0.70      0.68      0.69       686\n",
      "           3       0.81      0.88      0.84       641\n",
      "           4       0.80      0.85      0.82      1244\n",
      "           5       0.67      0.79      0.73       390\n",
      "           6       0.75      0.78      0.77      1272\n",
      "           7       0.83      0.83      0.83       842\n",
      "\n",
      "    accuracy                           0.77      6129\n",
      "   macro avg       0.76      0.75      0.75      6129\n",
      "weighted avg       0.77      0.77      0.76      6129\n",
      "\n"
     ]
    },
    {
     "output_type": "execute_result",
     "data": {
      "text/plain": [
       "Text(0.5, 1.0, 'Confusion matrix of model')"
      ]
     },
     "metadata": {},
     "execution_count": 23
    },
    {
     "output_type": "display_data",
     "data": {
      "text/plain": [
       "<Figure size 1000x1000 with 2 Axes>"
      ],
      "image/png": "[encoded data removed]"
     },
     "metadata": {}
    }
   ]
  }
 ],
 "metadata": {
  "kernelspec": {
   "name": "python3",
   "display_name": "Python 3"
  },
  "language_info": {
   "name": "python",
   "version": "3.7.6",
   "mimetype": "text/x-python",
   "codemirror_mode": {
    "name": "ipython",
    "version": 3
   },
   "pygments_lexer": "ipython3",
   "nbconvert_exporter": "python",
   "file_extension": ".py"
  },
  "colab": {
   "provenance": [],
   "gpuType": "T4"
  },
  "accelerator": "GPU"
 },
 "nbformat": 4,
 "nbformat_minor": 0
}

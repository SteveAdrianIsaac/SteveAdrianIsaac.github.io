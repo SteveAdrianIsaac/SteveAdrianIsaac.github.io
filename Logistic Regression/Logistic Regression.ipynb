{
 "cells": [
  {
   "metadata": {
    "_uuid": "d629ff2d2480ee46fbb7e2d37f6b5fab8052498a",
    "_cell_guid": "79c7e3d0-c299-4dcb-8224-4455121ee9b0",
    "trusted": true,
    "colab": {
     "base_uri": "https://localhost:8080/"
    },
    "id": "eN6ez4tD3QOb",
    "executionInfo": {
     "status": "ok",
     "timestamp": 1705514100649,
     "user_tz": -60,
     "elapsed": 7048,
     "user": {
      "displayName": "Isaac Borg",
      "userId": "02222030951437143669"
     }
    },
    "outputId": "700ac8d4-a2bf-47f4-e977-96def60561a1"
   },
   "cell_type": "code",
   "source": [
    "# code taken from source https://www.kaggle.com/code/derinrobert/newsclassification-using-lstm-val-acc-72\n",
    "\n",
    "import pandas as pd\n",
    "import tensorflow as tf\n",
    "from tensorflow import keras\n",
    "import numpy as np\n",
    "import matplotlib.pyplot as plt\n",
    "import os\n",
    "\n",
    "from tensorflow.keras.preprocessing.text import Tokenizer\n",
    "from tensorflow.keras.preprocessing.sequence import pad_sequences\n",
    "from sklearn.model_selection import train_test_split\n",
    "from sklearn.metrics import classification_report, confusion_matrix\n",
    "from tensorflow.keras.layers import Embedding\n",
    "import seaborn as sns\n",
    "pd.set_option('display.max_colwidth', -1)"
   ],
   "execution_count": 1,
   "outputs": [
    {
     "output_type": "stream",
     "name": "stderr",
     "text": [
      "<ipython-input-1-956378644f90>:16: FutureWarning: Passing a negative integer is deprecated in version 1.0 and will not be supported in future version. Instead, use None to not limit the column width.\n",
      "  pd.set_option('display.max_colwidth', -1)\n"
     ]
    }
   ]
  },
  {
   "cell_type": "code",
   "source": [
    "from google.colab import drive\n",
    "drive.mount('/content/drive')"
   ],
   "metadata": {
    "colab": {
     "base_uri": "https://localhost:8080/"
    },
    "id": "_DgMnjBc-Tt0",
    "executionInfo": {
     "status": "ok",
     "timestamp": 1705514164671,
     "user_tz": -60,
     "elapsed": 19545,
     "user": {
      "displayName": "Isaac Borg",
      "userId": "02222030951437143669"
     }
    },
    "outputId": "b76e59a0-4f23-49d9-ed44-b8daa08f50fd"
   },
   "execution_count": 3,
   "outputs": [
    {
     "output_type": "stream",
     "name": "stdout",
     "text": [
      "Mounted at /content/drive\n"
     ]
    }
   ]
  },
  {
   "metadata": {
    "trusted": true,
    "colab": {
     "base_uri": "https://localhost:8080/",
     "height": 206
    },
    "id": "8uJkM7C13QOe",
    "executionInfo": {
     "status": "ok",
     "timestamp": 1705514174428,
     "user_tz": -60,
     "elapsed": 6861,
     "user": {
      "displayName": "Isaac Borg",
      "userId": "02222030951437143669"
     }
    },
    "outputId": "fb435624-9404-4dc4-9e99-6e633102af21"
   },
   "cell_type": "code",
   "source": [
    "df = pd.read_json('drive/MyDrive/input/News_Category_Dataset_v3.json',lines=True)\n",
    "beforeMay2018 = df[pd.to_datetime(df[\"date\"]).dt.strftime('%Y-%m-%d')<=\"2019-01-31\"]\n",
    "\n",
    "required_columns = [\"BLACK VOICES\",\n",
    "                    \"COMEDY\",\n",
    "                    \"CRIME\",\n",
    "                    \"DIVORCE\",\n",
    "                    \"GREEN\",\n",
    "                    \"HOME & LIVING\",\n",
    "                    \"IMPACT\",\n",
    "                    \"MEDIA\",\n",
    "                    \"PARENTS\",\n",
    "                    \"RELIGION\",\n",
    "                    \"SPORTS\",\n",
    "                    \"STYLE\",\n",
    "                    \"THE WORLDPOST\",\n",
    "                    \"WEDDINGS\",\n",
    "                    \"WEIRD NEWS\",\n",
    "                    \"WOMEN\",\n",
    "                    \"WORLD NEWS\",\n",
    "                    \"WORLDPOST\"]\n",
    "df = df[df[\"date\"] < \"2018-05-26\"]\n",
    "df = df[df[\"category\"].isin(required_columns)]\n",
    "\n",
    "df.drop(['authors', 'link', 'date'], axis = 1, inplace = True)\n",
    "\n",
    "df.head()"
   ],
   "execution_count": 4,
   "outputs": [
    {
     "output_type": "execute_result",
     "data": {
      "text/plain": [
       "                                                                          headline  \\\n",
       "8697  North Korea Still Open To Talks After Trump Cancels Summit                     \n",
       "8698  2 Men Detonate Bomb Inside Indian Restaurant Near Toronto, Authorities Say     \n",
       "8699  Thousands Travel Home To Ireland To Vote On Abortion Access                    \n",
       "8700  Irish Voters Set To Liberalize Abortion Laws In Landslide, Exit Poll Signals   \n",
       "8701  Warriors Coach Steve Kerr Calls NFL Ban On Protests 'Fake Patriotism'          \n",
       "\n",
       "          category  \\\n",
       "8697  WORLD NEWS     \n",
       "8698  WORLD NEWS     \n",
       "8699  WORLD NEWS     \n",
       "8700  WORLD NEWS     \n",
       "8701  BLACK VOICES   \n",
       "\n",
       "                                                                                                                                             short_description  \n",
       "8697  Trump’s announcement came after repeated threats by North Korea to pull out of the summit over what it saw as confrontational remarks by U.S. officials.  \n",
       "8698  Fifteen people were taken to the hospital, three of them with critical injuries.                                                                          \n",
       "8699  Just try to read these #HomeToVote tweets without crying.                                                                                                 \n",
       "8700  Vote counting will begin Saturday.                                                                                                                        \n",
       "8701  Forbidding players to take a knee during the national anthem is “idiotic,” the coach said.                                                                "
      ],
      "text/html": [
       "\n",
       "  <div id=\"df-a12bb1b1-8ece-420d-b363-2e0a30d407eb\" class=\"colab-df-container\">\n",
       "    <div>\n",
       "<style scoped>\n",
       "    .dataframe tbody tr th:only-of-type {\n",
       "        vertical-align: middle;\n",
       "    }\n",
       "\n",
       "    .dataframe tbody tr th {\n",
       "        vertical-align: top;\n",
       "    }\n",
       "\n",
       "    .dataframe thead th {\n",
       "        text-align: right;\n",
       "    }\n",
       "</style>\n",
       "<table border=\"1\" class=\"dataframe\">\n",
       "  <thead>\n",
       "    <tr style=\"text-align: right;\">\n",
       "      <th></th>\n",
       "      <th>headline</th>\n",
       "      <th>category</th>\n",
       "      <th>short_description</th>\n",
       "    </tr>\n",
       "  </thead>\n",
       "  <tbody>\n",
       "    <tr>\n",
       "      <th>8697</th>\n",
       "      <td>North Korea Still Open To Talks After Trump Cancels Summit</td>\n",
       "      <td>WORLD NEWS</td>\n",
       "      <td>Trump’s announcement came after repeated threats by North Korea to pull out of the summit over what it saw as confrontational remarks by U.S. officials.</td>\n",
       "    </tr>\n",
       "    <tr>\n",
       "      <th>8698</th>\n",
       "      <td>2 Men Detonate Bomb Inside Indian Restaurant Near Toronto, Authorities Say</td>\n",
       "      <td>WORLD NEWS</td>\n",
       "      <td>Fifteen people were taken to the hospital, three of them with critical injuries.</td>\n",
       "    </tr>\n",
       "    <tr>\n",
       "      <th>8699</th>\n",
       "      <td>Thousands Travel Home To Ireland To Vote On Abortion Access</td>\n",
       "      <td>WORLD NEWS</td>\n",
       "      <td>Just try to read these #HomeToVote tweets without crying.</td>\n",
       "    </tr>\n",
       "    <tr>\n",
       "      <th>8700</th>\n",
       "      <td>Irish Voters Set To Liberalize Abortion Laws In Landslide, Exit Poll Signals</td>\n",
       "      <td>WORLD NEWS</td>\n",
       "      <td>Vote counting will begin Saturday.</td>\n",
       "    </tr>\n",
       "    <tr>\n",
       "      <th>8701</th>\n",
       "      <td>Warriors Coach Steve Kerr Calls NFL Ban On Protests 'Fake Patriotism'</td>\n",
       "      <td>BLACK VOICES</td>\n",
       "      <td>Forbidding players to take a knee during the national anthem is “idiotic,” the coach said.</td>\n",
       "    </tr>\n",
       "  </tbody>\n",
       "</table>\n",
       "</div>\n",
       "    <div class=\"colab-df-buttons\">\n",
       "\n",
       "  <div class=\"colab-df-container\">\n",
       "    <button class=\"colab-df-convert\" onclick=\"convertToInteractive('df-a12bb1b1-8ece-420d-b363-2e0a30d407eb')\"\n",
       "            title=\"Convert this dataframe to an interactive table.\"\n",
       "            style=\"display:none;\">\n",
       "\n",
       "  <svg xmlns=\"http://www.w3.org/2000/svg\" height=\"24px\" viewBox=\"0 -960 960 960\">\n",
       "    <path d=\"M120-120v-720h720v720H120Zm60-500h600v-160H180v160Zm220 220h160v-160H400v160Zm0 220h160v-160H400v160ZM180-400h160v-160H180v160Zm440 0h160v-160H620v160ZM180-180h160v-160H180v160Zm440 0h160v-160H620v160Z\"/>\n",
       "  </svg>\n",
       "    </button>\n",
       "\n",
       "  <style>\n",
       "    .colab-df-container {\n",
       "      display:flex;\n",
       "      gap: 12px;\n",
       "    }\n",
       "\n",
       "    .colab-df-convert {\n",
       "      background-color: #E8F0FE;\n",
       "      border: none;\n",
       "      border-radius: 50%;\n",
       "      cursor: pointer;\n",
       "      display: none;\n",
       "      fill: #1967D2;\n",
       "      height: 32px;\n",
       "      padding: 0 0 0 0;\n",
       "      width: 32px;\n",
       "    }\n",
       "\n",
       "    .colab-df-convert:hover {\n",
       "      background-color: #E2EBFA;\n",
       "      box-shadow: 0px 1px 2px rgba(60, 64, 67, 0.3), 0px 1px 3px 1px rgba(60, 64, 67, 0.15);\n",
       "      fill: #174EA6;\n",
       "    }\n",
       "\n",
       "    .colab-df-buttons div {\n",
       "      margin-bottom: 4px;\n",
       "    }\n",
       "\n",
       "    [theme=dark] .colab-df-convert {\n",
       "      background-color: #3B4455;\n",
       "      fill: #D2E3FC;\n",
       "    }\n",
       "\n",
       "    [theme=dark] .colab-df-convert:hover {\n",
       "      background-color: #434B5C;\n",
       "      box-shadow: 0px 1px 3px 1px rgba(0, 0, 0, 0.15);\n",
       "      filter: drop-shadow(0px 1px 2px rgba(0, 0, 0, 0.3));\n",
       "      fill: #FFFFFF;\n",
       "    }\n",
       "  </style>\n",
       "\n",
       "    <script>\n",
       "      const buttonEl =\n",
       "        document.querySelector('#df-a12bb1b1-8ece-420d-b363-2e0a30d407eb button.colab-df-convert');\n",
       "      buttonEl.style.display =\n",
       "        google.colab.kernel.accessAllowed ? 'block' : 'none';\n",
       "\n",
       "      async function convertToInteractive(key) {\n",
       "        const element = document.querySelector('#df-a12bb1b1-8ece-420d-b363-2e0a30d407eb');\n",
       "        const dataTable =\n",
       "          await google.colab.kernel.invokeFunction('convertToInteractive',\n",
       "                                                    [key], {});\n",
       "        if (!dataTable) return;\n",
       "\n",
       "        const docLinkHtml = 'Like what you see? Visit the ' +\n",
       "          '<a target=\"_blank\" href=https://colab.research.google.com/notebooks/data_table.ipynb>data table notebook</a>'\n",
       "          + ' to learn more about interactive tables.';\n",
       "        element.innerHTML = '';\n",
       "        dataTable['output_type'] = 'display_data';\n",
       "        await google.colab.output.renderOutput(dataTable, element);\n",
       "        const docLink = document.createElement('div');\n",
       "        docLink.innerHTML = docLinkHtml;\n",
       "        element.appendChild(docLink);\n",
       "      }\n",
       "    </script>\n",
       "  </div>\n",
       "\n",
       "\n",
       "<div id=\"df-bd77e322-efc6-4b23-b337-8c0550de15e8\">\n",
       "  <button class=\"colab-df-quickchart\" onclick=\"quickchart('df-bd77e322-efc6-4b23-b337-8c0550de15e8')\"\n",
       "            title=\"Suggest charts\"\n",
       "            style=\"display:none;\">\n",
       "\n",
       "<svg xmlns=\"http://www.w3.org/2000/svg\" height=\"24px\"viewBox=\"0 0 24 24\"\n",
       "     width=\"24px\">\n",
       "    <g>\n",
       "        <path d=\"M19 3H5c-1.1 0-2 .9-2 2v14c0 1.1.9 2 2 2h14c1.1 0 2-.9 2-2V5c0-1.1-.9-2-2-2zM9 17H7v-7h2v7zm4 0h-2V7h2v10zm4 0h-2v-4h2v4z\"/>\n",
       "    </g>\n",
       "</svg>\n",
       "  </button>\n",
       "\n",
       "<style>\n",
       "  .colab-df-quickchart {\n",
       "      --bg-color: #E8F0FE;\n",
       "      --fill-color: #1967D2;\n",
       "      --hover-bg-color: #E2EBFA;\n",
       "      --hover-fill-color: #174EA6;\n",
       "      --disabled-fill-color: #AAA;\n",
       "      --disabled-bg-color: #DDD;\n",
       "  }\n",
       "\n",
       "  [theme=dark] .colab-df-quickchart {\n",
       "      --bg-color: #3B4455;\n",
       "      --fill-color: #D2E3FC;\n",
       "      --hover-bg-color: #434B5C;\n",
       "      --hover-fill-color: #FFFFFF;\n",
       "      --disabled-bg-color: #3B4455;\n",
       "      --disabled-fill-color: #666;\n",
       "  }\n",
       "\n",
       "  .colab-df-quickchart {\n",
       "    background-color: var(--bg-color);\n",
       "    border: none;\n",
       "    border-radius: 50%;\n",
       "    cursor: pointer;\n",
       "    display: none;\n",
       "    fill: var(--fill-color);\n",
       "    height: 32px;\n",
       "    padding: 0;\n",
       "    width: 32px;\n",
       "  }\n",
       "\n",
       "  .colab-df-quickchart:hover {\n",
       "    background-color: var(--hover-bg-color);\n",
       "    box-shadow: 0 1px 2px rgba(60, 64, 67, 0.3), 0 1px 3px 1px rgba(60, 64, 67, 0.15);\n",
       "    fill: var(--button-hover-fill-color);\n",
       "  }\n",
       "\n",
       "  .colab-df-quickchart-complete:disabled,\n",
       "  .colab-df-quickchart-complete:disabled:hover {\n",
       "    background-color: var(--disabled-bg-color);\n",
       "    fill: var(--disabled-fill-color);\n",
       "    box-shadow: none;\n",
       "  }\n",
       "\n",
       "  .colab-df-spinner {\n",
       "    border: 2px solid var(--fill-color);\n",
       "    border-color: transparent;\n",
       "    border-bottom-color: var(--fill-color);\n",
       "    animation:\n",
       "      spin 1s steps(1) infinite;\n",
       "  }\n",
       "\n",
       "  @keyframes spin {\n",
       "    0% {\n",
       "      border-color: transparent;\n",
       "      border-bottom-color: var(--fill-color);\n",
       "      border-left-color: var(--fill-color);\n",
       "    }\n",
       "    20% {\n",
       "      border-color: transparent;\n",
       "      border-left-color: var(--fill-color);\n",
       "      border-top-color: var(--fill-color);\n",
       "    }\n",
       "    30% {\n",
       "      border-color: transparent;\n",
       "      border-left-color: var(--fill-color);\n",
       "      border-top-color: var(--fill-color);\n",
       "      border-right-color: var(--fill-color);\n",
       "    }\n",
       "    40% {\n",
       "      border-color: transparent;\n",
       "      border-right-color: var(--fill-color);\n",
       "      border-top-color: var(--fill-color);\n",
       "    }\n",
       "    60% {\n",
       "      border-color: transparent;\n",
       "      border-right-color: var(--fill-color);\n",
       "    }\n",
       "    80% {\n",
       "      border-color: transparent;\n",
       "      border-right-color: var(--fill-color);\n",
       "      border-bottom-color: var(--fill-color);\n",
       "    }\n",
       "    90% {\n",
       "      border-color: transparent;\n",
       "      border-bottom-color: var(--fill-color);\n",
       "    }\n",
       "  }\n",
       "</style>\n",
       "\n",
       "  <script>\n",
       "    async function quickchart(key) {\n",
       "      const quickchartButtonEl =\n",
       "        document.querySelector('#' + key + ' button');\n",
       "      quickchartButtonEl.disabled = true;  // To prevent multiple clicks.\n",
       "      quickchartButtonEl.classList.add('colab-df-spinner');\n",
       "      try {\n",
       "        const charts = await google.colab.kernel.invokeFunction(\n",
       "            'suggestCharts', [key], {});\n",
       "      } catch (error) {\n",
       "        console.error('Error during call to suggestCharts:', error);\n",
       "      }\n",
       "      quickchartButtonEl.classList.remove('colab-df-spinner');\n",
       "      quickchartButtonEl.classList.add('colab-df-quickchart-complete');\n",
       "    }\n",
       "    (() => {\n",
       "      let quickchartButtonEl =\n",
       "        document.querySelector('#df-bd77e322-efc6-4b23-b337-8c0550de15e8 button');\n",
       "      quickchartButtonEl.style.display =\n",
       "        google.colab.kernel.accessAllowed ? 'block' : 'none';\n",
       "    })();\n",
       "  </script>\n",
       "</div>\n",
       "    </div>\n",
       "  </div>\n"
      ]
     },
     "metadata": {},
     "execution_count": 4
    }
   ]
  },
  {
   "cell_type": "code",
   "source": [
    "categories = df['category'].value_counts().index\n",
    "\n",
    "def groupper(grouplist,name):\n",
    "    for ele in categories:\n",
    "        if ele in grouplist:\n",
    "            df.loc[df['category'] == ele, 'category'] = name"
   ],
   "metadata": {
    "id": "ZH1nKb0oacGy",
    "executionInfo": {
     "status": "ok",
     "timestamp": 1705514177182,
     "user_tz": -60,
     "elapsed": 297,
     "user": {
      "displayName": "Isaac Borg",
      "userId": "02222030951437143669"
     }
    }
   },
   "execution_count": 5,
   "outputs": []
  },
  {
   "cell_type": "code",
   "source": [
    "groupper( grouplist= ['WELLNESS', 'HEALTHY LIVING','HOME & LIVING','STYLE & BEAUTY' ,'STYLE'] , name =  'LIFESTYLE AND WELLNESS')\n",
    "\n",
    "groupper( grouplist= [ 'PARENTING', 'PARENTS' ,'EDUCATION' ,'COLLEGE'] , name =  'PARENTING AND EDUCATION')\n",
    "\n",
    "groupper( grouplist= ['SPORTS','ENTERTAINMENT' , 'COMEDY','WEIRD NEWS','ARTS'] , name =  'SPORTS AND ENTERTAINMENT')\n",
    "\n",
    "groupper( grouplist= ['TRAVEL', 'ARTS & CULTURE','CULTURE & ARTS','FOOD & DRINK', 'TASTE'] , name =  'TRAVEL-TOURISM & ART-CULTURE')\n",
    "\n",
    "groupper( grouplist= ['WOMEN','QUEER VOICES', 'LATINO VOICES', 'BLACK VOICES'] , name =  'EMPOWERED VOICES')\n",
    "\n",
    "groupper( grouplist= ['BUSINESS' ,  'MONEY'] , name =  'BUSINESS-MONEY')\n",
    "\n",
    "groupper( grouplist= ['THE WORLDPOST' , 'WORLDPOST' , 'WORLD NEWS'] , name =  'WORLDNEWS')\n",
    "\n",
    "groupper( grouplist= ['ENVIRONMENT' ,'GREEN'] , name =  'ENVIRONMENT')\n",
    "\n",
    "groupper( grouplist= ['TECH', 'SCIENCE'] , name =  'SCIENCE AND TECH')\n",
    "\n",
    "groupper( grouplist= ['FIFTY' , 'IMPACT' ,'GOOD NEWS','CRIME'] , name =  'GENERAL')\n",
    "\n",
    "groupper( grouplist= ['WEDDINGS', 'DIVORCE',  'RELIGION','MEDIA'] , name =  'MISC')"
   ],
   "metadata": {
    "id": "e2TuCnkpaaJh",
    "executionInfo": {
     "status": "ok",
     "timestamp": 1705514178450,
     "user_tz": -60,
     "elapsed": 247,
     "user": {
      "displayName": "Isaac Borg",
      "userId": "02222030951437143669"
     }
    }
   },
   "execution_count": 6,
   "outputs": []
  },
  {
   "metadata": {
    "trusted": true,
    "colab": {
     "base_uri": "https://localhost:8080/"
    },
    "id": "w6s2ee4g3QOh",
    "executionInfo": {
     "status": "ok",
     "timestamp": 1705514179888,
     "user_tz": -60,
     "elapsed": 368,
     "user": {
      "displayName": "Isaac Borg",
      "userId": "02222030951437143669"
     }
    },
    "outputId": "cbd8d545-cb6f-4e1d-84d0-75367d9734f2"
   },
   "cell_type": "code",
   "source": [
    "print(\"We have a total of {} categories now\".format(df['category'].nunique()))\n",
    "df['category'].value_counts()"
   ],
   "execution_count": 7,
   "outputs": [
    {
     "output_type": "stream",
     "name": "stdout",
     "text": [
      "We have a total of 8 categories now\n"
     ]
    },
    {
     "output_type": "execute_result",
     "data": {
      "text/plain": [
       "SPORTS AND ENTERTAINMENT    12727\n",
       "MISC                        12448\n",
       "WORLDNEWS                   8419 \n",
       "EMPOWERED VOICES            8018 \n",
       "GENERAL                     6862 \n",
       "LIFESTYLE AND WELLNESS      6449 \n",
       "PARENTING AND EDUCATION     3955 \n",
       "ENVIRONMENT                 2622 \n",
       "Name: category, dtype: int64"
      ]
     },
     "metadata": {},
     "execution_count": 7
    }
   ]
  },
  {
   "cell_type": "code",
   "source": [
    "#from https://www.kaggle.com/code/dima806/news-category-classification-distilbert\n",
    "\n",
    "item0 = df.shape[0]  # Store the initial number of items in the DataFrame\n",
    "df = df.drop_duplicates()  # Remove duplicate rows from the DataFrame\n",
    "item1 = df.shape[0]  # Store the number of items in the DataFrame after removing duplicates\n",
    "print(f\"There are {item0-item1} duplicates found in the dataset\")  # Print the number of duplicates removed\n",
    "\n",
    "df = df.rename(columns={'category': 'label'})  # Rename the 'category' column to 'label'\n",
    "\n",
    "df['title'] = df['headline'] + ' ' + df['short_description']  # Create a new 'title' column by combining 'headline' and 'short_description'\n",
    "\n",
    "df = df[['label', 'title']]  # Select only the 'label' and 'title' columns\n",
    "df = df[~df['title'].isnull()]  # Remove rows where 'title' is null\n",
    "df = df[~df['label'].isnull()]  # Remove rows where 'label' is null\n",
    "\n",
    "print(df.shape)  # Print the shape of the DataFrame after data preprocessing\n",
    "df.sample(5).T  # Display a random sample of 5 rows from the DataFrame"
   ],
   "metadata": {
    "colab": {
     "base_uri": "https://localhost:8080/",
     "height": 182
    },
    "id": "jdsmm1arWHIi",
    "executionInfo": {
     "status": "ok",
     "timestamp": 1705514181242,
     "user_tz": -60,
     "elapsed": 6,
     "user": {
      "displayName": "Isaac Borg",
      "userId": "02222030951437143669"
     }
    },
    "outputId": "10051d0a-7dcf-4cbe-95fe-693b61cbd841"
   },
   "execution_count": 8,
   "outputs": [
    {
     "output_type": "stream",
     "name": "stdout",
     "text": [
      "There are 218 duplicates found in the dataset\n",
      "(61282, 2)\n"
     ]
    },
    {
     "output_type": "execute_result",
     "data": {
      "text/plain": [
       "                                                                                                                                               34516  \\\n",
       "label  WORLDNEWS                                                                                                                                       \n",
       "title  Trump Praises Bahrain Days Before Brutal Crackdown Trump's embrace of authoritarian leaders may be giving free rein to government repression.   \n",
       "\n",
       "                                                                                                                                                                                                                                                                         163304  \\\n",
       "label  MISC                                                                                                                                                                                                                                                                       \n",
       "title  The Skinny on Your Wedding Cake You've chosen your wedding venue, your caterer, and even your band. Now it's time to decide on your cake, and you start doing research and discover that you have tons of sweet options that don't look like a traditional wedding cake.   \n",
       "\n",
       "                                                                                                                9276  \\\n",
       "label  SPORTS AND ENTERTAINMENT                                                                                        \n",
       "title  Trevor Noah: 'I Don’t Watch Fox News' And Neither Should You \"I encourage my audience to not watch Fox News.\"   \n",
       "\n",
       "                                                                                                                                                                38548  \\\n",
       "label  WORLDNEWS                                                                                                                                                        \n",
       "title  Tourist Injured In Westminster Attack Dies, Bringing Toll To 6 Andreea Cristea was a Romanian national who had been visiting London at the time of the attack.   \n",
       "\n",
       "                                                                                                                                                       36873  \n",
       "label  GENERAL                                                                                                                                                \n",
       "title  Achieving A Polio-Free World When I first joined CDC as a disease detective in 1988, polio was far from extinct. Nearly 1,000 children were paralyzed  "
      ],
      "text/html": [
       "\n",
       "  <div id=\"df-616da402-c22a-4153-892b-cff19a116905\" class=\"colab-df-container\">\n",
       "    <div>\n",
       "<style scoped>\n",
       "    .dataframe tbody tr th:only-of-type {\n",
       "        vertical-align: middle;\n",
       "    }\n",
       "\n",
       "    .dataframe tbody tr th {\n",
       "        vertical-align: top;\n",
       "    }\n",
       "\n",
       "    .dataframe thead th {\n",
       "        text-align: right;\n",
       "    }\n",
       "</style>\n",
       "<table border=\"1\" class=\"dataframe\">\n",
       "  <thead>\n",
       "    <tr style=\"text-align: right;\">\n",
       "      <th></th>\n",
       "      <th>34516</th>\n",
       "      <th>163304</th>\n",
       "      <th>9276</th>\n",
       "      <th>38548</th>\n",
       "      <th>36873</th>\n",
       "    </tr>\n",
       "  </thead>\n",
       "  <tbody>\n",
       "    <tr>\n",
       "      <th>label</th>\n",
       "      <td>WORLDNEWS</td>\n",
       "      <td>MISC</td>\n",
       "      <td>SPORTS AND ENTERTAINMENT</td>\n",
       "      <td>WORLDNEWS</td>\n",
       "      <td>GENERAL</td>\n",
       "    </tr>\n",
       "    <tr>\n",
       "      <th>title</th>\n",
       "      <td>Trump Praises Bahrain Days Before Brutal Crackdown Trump's embrace of authoritarian leaders may be giving free rein to government repression.</td>\n",
       "      <td>The Skinny on Your Wedding Cake You've chosen your wedding venue, your caterer, and even your band. Now it's time to decide on your cake, and you start doing research and discover that you have tons of sweet options that don't look like a traditional wedding cake.</td>\n",
       "      <td>Trevor Noah: 'I Don’t Watch Fox News' And Neither Should You \"I encourage my audience to not watch Fox News.\"</td>\n",
       "      <td>Tourist Injured In Westminster Attack Dies, Bringing Toll To 6 Andreea Cristea was a Romanian national who had been visiting London at the time of the attack.</td>\n",
       "      <td>Achieving A Polio-Free World When I first joined CDC as a disease detective in 1988, polio was far from extinct. Nearly 1,000 children were paralyzed</td>\n",
       "    </tr>\n",
       "  </tbody>\n",
       "</table>\n",
       "</div>\n",
       "    <div class=\"colab-df-buttons\">\n",
       "\n",
       "  <div class=\"colab-df-container\">\n",
       "    <button class=\"colab-df-convert\" onclick=\"convertToInteractive('df-616da402-c22a-4153-892b-cff19a116905')\"\n",
       "            title=\"Convert this dataframe to an interactive table.\"\n",
       "            style=\"display:none;\">\n",
       "\n",
       "  <svg xmlns=\"http://www.w3.org/2000/svg\" height=\"24px\" viewBox=\"0 -960 960 960\">\n",
       "    <path d=\"M120-120v-720h720v720H120Zm60-500h600v-160H180v160Zm220 220h160v-160H400v160Zm0 220h160v-160H400v160ZM180-400h160v-160H180v160Zm440 0h160v-160H620v160ZM180-180h160v-160H180v160Zm440 0h160v-160H620v160Z\"/>\n",
       "  </svg>\n",
       "    </button>\n",
       "\n",
       "  <style>\n",
       "    .colab-df-container {\n",
       "      display:flex;\n",
       "      gap: 12px;\n",
       "    }\n",
       "\n",
       "    .colab-df-convert {\n",
       "      background-color: #E8F0FE;\n",
       "      border: none;\n",
       "      border-radius: 50%;\n",
       "      cursor: pointer;\n",
       "      display: none;\n",
       "      fill: #1967D2;\n",
       "      height: 32px;\n",
       "      padding: 0 0 0 0;\n",
       "      width: 32px;\n",
       "    }\n",
       "\n",
       "    .colab-df-convert:hover {\n",
       "      background-color: #E2EBFA;\n",
       "      box-shadow: 0px 1px 2px rgba(60, 64, 67, 0.3), 0px 1px 3px 1px rgba(60, 64, 67, 0.15);\n",
       "      fill: #174EA6;\n",
       "    }\n",
       "\n",
       "    .colab-df-buttons div {\n",
       "      margin-bottom: 4px;\n",
       "    }\n",
       "\n",
       "    [theme=dark] .colab-df-convert {\n",
       "      background-color: #3B4455;\n",
       "      fill: #D2E3FC;\n",
       "    }\n",
       "\n",
       "    [theme=dark] .colab-df-convert:hover {\n",
       "      background-color: #434B5C;\n",
       "      box-shadow: 0px 1px 3px 1px rgba(0, 0, 0, 0.15);\n",
       "      filter: drop-shadow(0px 1px 2px rgba(0, 0, 0, 0.3));\n",
       "      fill: #FFFFFF;\n",
       "    }\n",
       "  </style>\n",
       "\n",
       "    <script>\n",
       "      const buttonEl =\n",
       "        document.querySelector('#df-616da402-c22a-4153-892b-cff19a116905 button.colab-df-convert');\n",
       "      buttonEl.style.display =\n",
       "        google.colab.kernel.accessAllowed ? 'block' : 'none';\n",
       "\n",
       "      async function convertToInteractive(key) {\n",
       "        const element = document.querySelector('#df-616da402-c22a-4153-892b-cff19a116905');\n",
       "        const dataTable =\n",
       "          await google.colab.kernel.invokeFunction('convertToInteractive',\n",
       "                                                    [key], {});\n",
       "        if (!dataTable) return;\n",
       "\n",
       "        const docLinkHtml = 'Like what you see? Visit the ' +\n",
       "          '<a target=\"_blank\" href=https://colab.research.google.com/notebooks/data_table.ipynb>data table notebook</a>'\n",
       "          + ' to learn more about interactive tables.';\n",
       "        element.innerHTML = '';\n",
       "        dataTable['output_type'] = 'display_data';\n",
       "        await google.colab.output.renderOutput(dataTable, element);\n",
       "        const docLink = document.createElement('div');\n",
       "        docLink.innerHTML = docLinkHtml;\n",
       "        element.appendChild(docLink);\n",
       "      }\n",
       "    </script>\n",
       "  </div>\n",
       "\n",
       "\n",
       "<div id=\"df-a7f05d66-986c-43bc-be66-35c132c12eb0\">\n",
       "  <button class=\"colab-df-quickchart\" onclick=\"quickchart('df-a7f05d66-986c-43bc-be66-35c132c12eb0')\"\n",
       "            title=\"Suggest charts\"\n",
       "            style=\"display:none;\">\n",
       "\n",
       "<svg xmlns=\"http://www.w3.org/2000/svg\" height=\"24px\"viewBox=\"0 0 24 24\"\n",
       "     width=\"24px\">\n",
       "    <g>\n",
       "        <path d=\"M19 3H5c-1.1 0-2 .9-2 2v14c0 1.1.9 2 2 2h14c1.1 0 2-.9 2-2V5c0-1.1-.9-2-2-2zM9 17H7v-7h2v7zm4 0h-2V7h2v10zm4 0h-2v-4h2v4z\"/>\n",
       "    </g>\n",
       "</svg>\n",
       "  </button>\n",
       "\n",
       "<style>\n",
       "  .colab-df-quickchart {\n",
       "      --bg-color: #E8F0FE;\n",
       "      --fill-color: #1967D2;\n",
       "      --hover-bg-color: #E2EBFA;\n",
       "      --hover-fill-color: #174EA6;\n",
       "      --disabled-fill-color: #AAA;\n",
       "      --disabled-bg-color: #DDD;\n",
       "  }\n",
       "\n",
       "  [theme=dark] .colab-df-quickchart {\n",
       "      --bg-color: #3B4455;\n",
       "      --fill-color: #D2E3FC;\n",
       "      --hover-bg-color: #434B5C;\n",
       "      --hover-fill-color: #FFFFFF;\n",
       "      --disabled-bg-color: #3B4455;\n",
       "      --disabled-fill-color: #666;\n",
       "  }\n",
       "\n",
       "  .colab-df-quickchart {\n",
       "    background-color: var(--bg-color);\n",
       "    border: none;\n",
       "    border-radius: 50%;\n",
       "    cursor: pointer;\n",
       "    display: none;\n",
       "    fill: var(--fill-color);\n",
       "    height: 32px;\n",
       "    padding: 0;\n",
       "    width: 32px;\n",
       "  }\n",
       "\n",
       "  .colab-df-quickchart:hover {\n",
       "    background-color: var(--hover-bg-color);\n",
       "    box-shadow: 0 1px 2px rgba(60, 64, 67, 0.3), 0 1px 3px 1px rgba(60, 64, 67, 0.15);\n",
       "    fill: var(--button-hover-fill-color);\n",
       "  }\n",
       "\n",
       "  .colab-df-quickchart-complete:disabled,\n",
       "  .colab-df-quickchart-complete:disabled:hover {\n",
       "    background-color: var(--disabled-bg-color);\n",
       "    fill: var(--disabled-fill-color);\n",
       "    box-shadow: none;\n",
       "  }\n",
       "\n",
       "  .colab-df-spinner {\n",
       "    border: 2px solid var(--fill-color);\n",
       "    border-color: transparent;\n",
       "    border-bottom-color: var(--fill-color);\n",
       "    animation:\n",
       "      spin 1s steps(1) infinite;\n",
       "  }\n",
       "\n",
       "  @keyframes spin {\n",
       "    0% {\n",
       "      border-color: transparent;\n",
       "      border-bottom-color: var(--fill-color);\n",
       "      border-left-color: var(--fill-color);\n",
       "    }\n",
       "    20% {\n",
       "      border-color: transparent;\n",
       "      border-left-color: var(--fill-color);\n",
       "      border-top-color: var(--fill-color);\n",
       "    }\n",
       "    30% {\n",
       "      border-color: transparent;\n",
       "      border-left-color: var(--fill-color);\n",
       "      border-top-color: var(--fill-color);\n",
       "      border-right-color: var(--fill-color);\n",
       "    }\n",
       "    40% {\n",
       "      border-color: transparent;\n",
       "      border-right-color: var(--fill-color);\n",
       "      border-top-color: var(--fill-color);\n",
       "    }\n",
       "    60% {\n",
       "      border-color: transparent;\n",
       "      border-right-color: var(--fill-color);\n",
       "    }\n",
       "    80% {\n",
       "      border-color: transparent;\n",
       "      border-right-color: var(--fill-color);\n",
       "      border-bottom-color: var(--fill-color);\n",
       "    }\n",
       "    90% {\n",
       "      border-color: transparent;\n",
       "      border-bottom-color: var(--fill-color);\n",
       "    }\n",
       "  }\n",
       "</style>\n",
       "\n",
       "  <script>\n",
       "    async function quickchart(key) {\n",
       "      const quickchartButtonEl =\n",
       "        document.querySelector('#' + key + ' button');\n",
       "      quickchartButtonEl.disabled = true;  // To prevent multiple clicks.\n",
       "      quickchartButtonEl.classList.add('colab-df-spinner');\n",
       "      try {\n",
       "        const charts = await google.colab.kernel.invokeFunction(\n",
       "            'suggestCharts', [key], {});\n",
       "      } catch (error) {\n",
       "        console.error('Error during call to suggestCharts:', error);\n",
       "      }\n",
       "      quickchartButtonEl.classList.remove('colab-df-spinner');\n",
       "      quickchartButtonEl.classList.add('colab-df-quickchart-complete');\n",
       "    }\n",
       "    (() => {\n",
       "      let quickchartButtonEl =\n",
       "        document.querySelector('#df-a7f05d66-986c-43bc-be66-35c132c12eb0 button');\n",
       "      quickchartButtonEl.style.display =\n",
       "        google.colab.kernel.accessAllowed ? 'block' : 'none';\n",
       "    })();\n",
       "  </script>\n",
       "</div>\n",
       "    </div>\n",
       "  </div>\n"
      ]
     },
     "metadata": {},
     "execution_count": 8
    }
   ]
  },
  {
   "cell_type": "code",
   "source": [
    "from nltk.corpus import stopwords\n",
    "from nltk.tokenize import word_tokenize\n",
    "import nltk\n",
    "import re\n",
    "from nltk.stem import WordNetLemmatizer\n",
    "lemmatizer = WordNetLemmatizer()\n",
    "\n",
    "import gensim\n",
    "from gensim.models import Word2Vec"
   ],
   "metadata": {
    "id": "lUYNzB1iXGUP",
    "executionInfo": {
     "status": "ok",
     "timestamp": 1705514184298,
     "user_tz": -60,
     "elapsed": 1208,
     "user": {
      "displayName": "Isaac Borg",
      "userId": "02222030951437143669"
     }
    }
   },
   "execution_count": 9,
   "outputs": []
  },
  {
   "cell_type": "code",
   "source": [
    "!pip install neattext"
   ],
   "metadata": {
    "colab": {
     "base_uri": "https://localhost:8080/"
    },
    "id": "nN2SeV4iXN1-",
    "executionInfo": {
     "status": "ok",
     "timestamp": 1705514193093,
     "user_tz": -60,
     "elapsed": 7145,
     "user": {
      "displayName": "Isaac Borg",
      "userId": "02222030951437143669"
     }
    },
    "outputId": "e3deeb88-85b4-4519-cb6b-07b527ee7ba7"
   },
   "execution_count": 10,
   "outputs": [
    {
     "output_type": "stream",
     "name": "stdout",
     "text": [
      "Collecting neattext\n",
      "  Downloading neattext-0.1.3-py3-none-any.whl (114 kB)\n",
      "\u001B[2K     \u001B[90m━━━━━━━━━━━━━━━━━━━━━━━━━━━━━━━━━━━━━━━━\u001B[0m \u001B[32m114.7/114.7 kB\u001B[0m \u001B[31m1.2 MB/s\u001B[0m eta \u001B[36m0:00:00\u001B[0m\n",
      "\u001B[?25hInstalling collected packages: neattext\n",
      "Successfully installed neattext-0.1.3\n"
     ]
    }
   ]
  },
  {
   "cell_type": "code",
   "source": [
    "import neattext.functions as nfx\n",
    "nltk.download('wordnet')\n",
    "nltk.download('punkt')\n",
    "\n",
    "lemmatizer = WordNetLemmatizer()\n",
    "tknzr = nltk.tokenize\n",
    "\n",
    "def lemmatize_text(text):\n",
    "    return [lemmatizer.lemmatize(w) for w in tknzr.word_tokenize(text)]\n",
    "\n",
    "corpus = df['title'].astype(str)\n",
    "corpus = corpus.apply(nfx.remove_stopwords)\n",
    "corpus = corpus.apply(nfx.remove_special_characters)\n",
    "corpus = corpus.apply(nfx.remove_multiple_spaces)\n",
    "corpus = corpus.str.lower()\n",
    "corpus = corpus.apply(lemmatize_text)\n",
    "\n",
    "df['title'] = corpus"
   ],
   "metadata": {
    "id": "6wi0N9Y6XQYS",
    "executionInfo": {
     "status": "ok",
     "timestamp": 1705514231965,
     "user_tz": -60,
     "elapsed": 37433,
     "user": {
      "displayName": "Isaac Borg",
      "userId": "02222030951437143669"
     }
    },
    "colab": {
     "base_uri": "https://localhost:8080/"
    },
    "outputId": "9008fa86-3519-4943-b165-d959b375598f"
   },
   "execution_count": 11,
   "outputs": [
    {
     "output_type": "stream",
     "name": "stderr",
     "text": [
      "[nltk_data] Downloading package wordnet to /root/nltk_data...\n",
      "[nltk_data] Downloading package punkt to /root/nltk_data...\n",
      "[nltk_data]   Unzipping tokenizers/punkt.zip.\n"
     ]
    }
   ]
  },
  {
   "metadata": {
    "id": "q3SUy4ug3QOk"
   },
   "cell_type": "markdown",
   "source": [
    "## Data Tidying"
   ]
  },
  {
   "metadata": {
    "trusted": true,
    "id": "EHwXp7zS3QOk",
    "executionInfo": {
     "status": "ok",
     "timestamp": 1705514234849,
     "user_tz": -60,
     "elapsed": 246,
     "user": {
      "displayName": "Isaac Borg",
      "userId": "02222030951437143669"
     }
    }
   },
   "cell_type": "code",
   "source": [
    "from sklearn.utils import shuffle\n",
    "df = shuffle(df)\n",
    "df.reset_index(inplace=True, drop=True)"
   ],
   "execution_count": 12,
   "outputs": []
  },
  {
   "metadata": {
    "trusted": true,
    "colab": {
     "base_uri": "https://localhost:8080/",
     "height": 206
    },
    "id": "57dQ2aSg3QOk",
    "executionInfo": {
     "status": "ok",
     "timestamp": 1705514235894,
     "user_tz": -60,
     "elapsed": 8,
     "user": {
      "displayName": "Isaac Borg",
      "userId": "02222030951437143669"
     }
    },
    "outputId": "566bec21-4267-4fc5-8dd3-8da36638bcad"
   },
   "cell_type": "code",
   "source": [
    "df.head()"
   ],
   "execution_count": 13,
   "outputs": [
    {
     "output_type": "execute_result",
     "data": {
      "text/plain": [
       "                      label  \\\n",
       "0  SPORTS AND ENTERTAINMENT   \n",
       "1  MISC                       \n",
       "2  GENERAL                    \n",
       "3  WORLDNEWS                  \n",
       "4  EMPOWERED VOICES           \n",
       "\n",
       "                                                                                                                                                                                                                        title  \n",
       "0  [i, cant, explain, witchcraft, adam, rippon, perfect, response, killer, routine, youre, 28, year, old, skating, best, life, explain, people]                                                                                \n",
       "1  [medium, message, promote, single, society, filled, message, certain, age, single, peculiar, perplexing, marriage, preferred, state, being, married, perfect, fallout, perception, hit, single, woman, particularly, hard]  \n",
       "2  [suspect, arrested, new, orleans, mardi, gras, shooting]                                                                                                                                                                    \n",
       "3  [gaza, need, rebuilding, here, lie, ahead]                                                                                                                                                                                  \n",
       "4  [bad, mood, like, monster, lived, bed, kid, mine, alligator, turn, light, monster, magically, disappears, know, this, gosh, hard, scared, turn, light, ferocious, scary, problem, step, brave, grownup, take]               "
      ],
      "text/html": [
       "\n",
       "  <div id=\"df-8e6f86a7-f9db-4c3a-83fc-b5250c5166c2\" class=\"colab-df-container\">\n",
       "    <div>\n",
       "<style scoped>\n",
       "    .dataframe tbody tr th:only-of-type {\n",
       "        vertical-align: middle;\n",
       "    }\n",
       "\n",
       "    .dataframe tbody tr th {\n",
       "        vertical-align: top;\n",
       "    }\n",
       "\n",
       "    .dataframe thead th {\n",
       "        text-align: right;\n",
       "    }\n",
       "</style>\n",
       "<table border=\"1\" class=\"dataframe\">\n",
       "  <thead>\n",
       "    <tr style=\"text-align: right;\">\n",
       "      <th></th>\n",
       "      <th>label</th>\n",
       "      <th>title</th>\n",
       "    </tr>\n",
       "  </thead>\n",
       "  <tbody>\n",
       "    <tr>\n",
       "      <th>0</th>\n",
       "      <td>SPORTS AND ENTERTAINMENT</td>\n",
       "      <td>[i, cant, explain, witchcraft, adam, rippon, perfect, response, killer, routine, youre, 28, year, old, skating, best, life, explain, people]</td>\n",
       "    </tr>\n",
       "    <tr>\n",
       "      <th>1</th>\n",
       "      <td>MISC</td>\n",
       "      <td>[medium, message, promote, single, society, filled, message, certain, age, single, peculiar, perplexing, marriage, preferred, state, being, married, perfect, fallout, perception, hit, single, woman, particularly, hard]</td>\n",
       "    </tr>\n",
       "    <tr>\n",
       "      <th>2</th>\n",
       "      <td>GENERAL</td>\n",
       "      <td>[suspect, arrested, new, orleans, mardi, gras, shooting]</td>\n",
       "    </tr>\n",
       "    <tr>\n",
       "      <th>3</th>\n",
       "      <td>WORLDNEWS</td>\n",
       "      <td>[gaza, need, rebuilding, here, lie, ahead]</td>\n",
       "    </tr>\n",
       "    <tr>\n",
       "      <th>4</th>\n",
       "      <td>EMPOWERED VOICES</td>\n",
       "      <td>[bad, mood, like, monster, lived, bed, kid, mine, alligator, turn, light, monster, magically, disappears, know, this, gosh, hard, scared, turn, light, ferocious, scary, problem, step, brave, grownup, take]</td>\n",
       "    </tr>\n",
       "  </tbody>\n",
       "</table>\n",
       "</div>\n",
       "    <div class=\"colab-df-buttons\">\n",
       "\n",
       "  <div class=\"colab-df-container\">\n",
       "    <button class=\"colab-df-convert\" onclick=\"convertToInteractive('df-8e6f86a7-f9db-4c3a-83fc-b5250c5166c2')\"\n",
       "            title=\"Convert this dataframe to an interactive table.\"\n",
       "            style=\"display:none;\">\n",
       "\n",
       "  <svg xmlns=\"http://www.w3.org/2000/svg\" height=\"24px\" viewBox=\"0 -960 960 960\">\n",
       "    <path d=\"M120-120v-720h720v720H120Zm60-500h600v-160H180v160Zm220 220h160v-160H400v160Zm0 220h160v-160H400v160ZM180-400h160v-160H180v160Zm440 0h160v-160H620v160ZM180-180h160v-160H180v160Zm440 0h160v-160H620v160Z\"/>\n",
       "  </svg>\n",
       "    </button>\n",
       "\n",
       "  <style>\n",
       "    .colab-df-container {\n",
       "      display:flex;\n",
       "      gap: 12px;\n",
       "    }\n",
       "\n",
       "    .colab-df-convert {\n",
       "      background-color: #E8F0FE;\n",
       "      border: none;\n",
       "      border-radius: 50%;\n",
       "      cursor: pointer;\n",
       "      display: none;\n",
       "      fill: #1967D2;\n",
       "      height: 32px;\n",
       "      padding: 0 0 0 0;\n",
       "      width: 32px;\n",
       "    }\n",
       "\n",
       "    .colab-df-convert:hover {\n",
       "      background-color: #E2EBFA;\n",
       "      box-shadow: 0px 1px 2px rgba(60, 64, 67, 0.3), 0px 1px 3px 1px rgba(60, 64, 67, 0.15);\n",
       "      fill: #174EA6;\n",
       "    }\n",
       "\n",
       "    .colab-df-buttons div {\n",
       "      margin-bottom: 4px;\n",
       "    }\n",
       "\n",
       "    [theme=dark] .colab-df-convert {\n",
       "      background-color: #3B4455;\n",
       "      fill: #D2E3FC;\n",
       "    }\n",
       "\n",
       "    [theme=dark] .colab-df-convert:hover {\n",
       "      background-color: #434B5C;\n",
       "      box-shadow: 0px 1px 3px 1px rgba(0, 0, 0, 0.15);\n",
       "      filter: drop-shadow(0px 1px 2px rgba(0, 0, 0, 0.3));\n",
       "      fill: #FFFFFF;\n",
       "    }\n",
       "  </style>\n",
       "\n",
       "    <script>\n",
       "      const buttonEl =\n",
       "        document.querySelector('#df-8e6f86a7-f9db-4c3a-83fc-b5250c5166c2 button.colab-df-convert');\n",
       "      buttonEl.style.display =\n",
       "        google.colab.kernel.accessAllowed ? 'block' : 'none';\n",
       "\n",
       "      async function convertToInteractive(key) {\n",
       "        const element = document.querySelector('#df-8e6f86a7-f9db-4c3a-83fc-b5250c5166c2');\n",
       "        const dataTable =\n",
       "          await google.colab.kernel.invokeFunction('convertToInteractive',\n",
       "                                                    [key], {});\n",
       "        if (!dataTable) return;\n",
       "\n",
       "        const docLinkHtml = 'Like what you see? Visit the ' +\n",
       "          '<a target=\"_blank\" href=https://colab.research.google.com/notebooks/data_table.ipynb>data table notebook</a>'\n",
       "          + ' to learn more about interactive tables.';\n",
       "        element.innerHTML = '';\n",
       "        dataTable['output_type'] = 'display_data';\n",
       "        await google.colab.output.renderOutput(dataTable, element);\n",
       "        const docLink = document.createElement('div');\n",
       "        docLink.innerHTML = docLinkHtml;\n",
       "        element.appendChild(docLink);\n",
       "      }\n",
       "    </script>\n",
       "  </div>\n",
       "\n",
       "\n",
       "<div id=\"df-ef8d7205-090a-4c28-a406-43d3b07741db\">\n",
       "  <button class=\"colab-df-quickchart\" onclick=\"quickchart('df-ef8d7205-090a-4c28-a406-43d3b07741db')\"\n",
       "            title=\"Suggest charts\"\n",
       "            style=\"display:none;\">\n",
       "\n",
       "<svg xmlns=\"http://www.w3.org/2000/svg\" height=\"24px\"viewBox=\"0 0 24 24\"\n",
       "     width=\"24px\">\n",
       "    <g>\n",
       "        <path d=\"M19 3H5c-1.1 0-2 .9-2 2v14c0 1.1.9 2 2 2h14c1.1 0 2-.9 2-2V5c0-1.1-.9-2-2-2zM9 17H7v-7h2v7zm4 0h-2V7h2v10zm4 0h-2v-4h2v4z\"/>\n",
       "    </g>\n",
       "</svg>\n",
       "  </button>\n",
       "\n",
       "<style>\n",
       "  .colab-df-quickchart {\n",
       "      --bg-color: #E8F0FE;\n",
       "      --fill-color: #1967D2;\n",
       "      --hover-bg-color: #E2EBFA;\n",
       "      --hover-fill-color: #174EA6;\n",
       "      --disabled-fill-color: #AAA;\n",
       "      --disabled-bg-color: #DDD;\n",
       "  }\n",
       "\n",
       "  [theme=dark] .colab-df-quickchart {\n",
       "      --bg-color: #3B4455;\n",
       "      --fill-color: #D2E3FC;\n",
       "      --hover-bg-color: #434B5C;\n",
       "      --hover-fill-color: #FFFFFF;\n",
       "      --disabled-bg-color: #3B4455;\n",
       "      --disabled-fill-color: #666;\n",
       "  }\n",
       "\n",
       "  .colab-df-quickchart {\n",
       "    background-color: var(--bg-color);\n",
       "    border: none;\n",
       "    border-radius: 50%;\n",
       "    cursor: pointer;\n",
       "    display: none;\n",
       "    fill: var(--fill-color);\n",
       "    height: 32px;\n",
       "    padding: 0;\n",
       "    width: 32px;\n",
       "  }\n",
       "\n",
       "  .colab-df-quickchart:hover {\n",
       "    background-color: var(--hover-bg-color);\n",
       "    box-shadow: 0 1px 2px rgba(60, 64, 67, 0.3), 0 1px 3px 1px rgba(60, 64, 67, 0.15);\n",
       "    fill: var(--button-hover-fill-color);\n",
       "  }\n",
       "\n",
       "  .colab-df-quickchart-complete:disabled,\n",
       "  .colab-df-quickchart-complete:disabled:hover {\n",
       "    background-color: var(--disabled-bg-color);\n",
       "    fill: var(--disabled-fill-color);\n",
       "    box-shadow: none;\n",
       "  }\n",
       "\n",
       "  .colab-df-spinner {\n",
       "    border: 2px solid var(--fill-color);\n",
       "    border-color: transparent;\n",
       "    border-bottom-color: var(--fill-color);\n",
       "    animation:\n",
       "      spin 1s steps(1) infinite;\n",
       "  }\n",
       "\n",
       "  @keyframes spin {\n",
       "    0% {\n",
       "      border-color: transparent;\n",
       "      border-bottom-color: var(--fill-color);\n",
       "      border-left-color: var(--fill-color);\n",
       "    }\n",
       "    20% {\n",
       "      border-color: transparent;\n",
       "      border-left-color: var(--fill-color);\n",
       "      border-top-color: var(--fill-color);\n",
       "    }\n",
       "    30% {\n",
       "      border-color: transparent;\n",
       "      border-left-color: var(--fill-color);\n",
       "      border-top-color: var(--fill-color);\n",
       "      border-right-color: var(--fill-color);\n",
       "    }\n",
       "    40% {\n",
       "      border-color: transparent;\n",
       "      border-right-color: var(--fill-color);\n",
       "      border-top-color: var(--fill-color);\n",
       "    }\n",
       "    60% {\n",
       "      border-color: transparent;\n",
       "      border-right-color: var(--fill-color);\n",
       "    }\n",
       "    80% {\n",
       "      border-color: transparent;\n",
       "      border-right-color: var(--fill-color);\n",
       "      border-bottom-color: var(--fill-color);\n",
       "    }\n",
       "    90% {\n",
       "      border-color: transparent;\n",
       "      border-bottom-color: var(--fill-color);\n",
       "    }\n",
       "  }\n",
       "</style>\n",
       "\n",
       "  <script>\n",
       "    async function quickchart(key) {\n",
       "      const quickchartButtonEl =\n",
       "        document.querySelector('#' + key + ' button');\n",
       "      quickchartButtonEl.disabled = true;  // To prevent multiple clicks.\n",
       "      quickchartButtonEl.classList.add('colab-df-spinner');\n",
       "      try {\n",
       "        const charts = await google.colab.kernel.invokeFunction(\n",
       "            'suggestCharts', [key], {});\n",
       "      } catch (error) {\n",
       "        console.error('Error during call to suggestCharts:', error);\n",
       "      }\n",
       "      quickchartButtonEl.classList.remove('colab-df-spinner');\n",
       "      quickchartButtonEl.classList.add('colab-df-quickchart-complete');\n",
       "    }\n",
       "    (() => {\n",
       "      let quickchartButtonEl =\n",
       "        document.querySelector('#df-ef8d7205-090a-4c28-a406-43d3b07741db button');\n",
       "      quickchartButtonEl.style.display =\n",
       "        google.colab.kernel.accessAllowed ? 'block' : 'none';\n",
       "    })();\n",
       "  </script>\n",
       "</div>\n",
       "    </div>\n",
       "  </div>\n"
      ]
     },
     "metadata": {},
     "execution_count": 13
    }
   ]
  },
  {
   "metadata": {
    "id": "vTztSuM93QOk"
   },
   "cell_type": "markdown",
   "source": [
    "# Tokenizing and Padding"
   ]
  },
  {
   "metadata": {
    "trusted": true,
    "id": "bJYvFHRu3QOk"
   },
   "cell_type": "code",
   "source": [
    "#X,Y = df['title'],df['label']\n",
    "\n",
    "#80% to train , 10% for validation , 10% for testing\n",
    "#X_train, X_val, y_train, y_val = train_test_split(X,Y, test_size=0.2, random_state=42, stratify=Y)\n",
    "#X_val, X_test , y_val, y_test= train_test_split(X_val,y_val, test_size=0.5, random_state=42, stratify = y_val)"
   ],
   "execution_count": null,
   "outputs": []
  },
  {
   "cell_type": "code",
   "source": [
    "from collections import Counter\n",
    "# code adapted from #https://www.kaggle.com/code/mehmetlaudatekman/tutorial-word-embeddings-with-svm\n",
    "# optimized (resources and time) using chat gpt\n",
    "\n",
    "class Sequencer():\n",
    "    def __init__(self, all_words, max_vocab_words, embedding_matrix):\n",
    "        self.embed_matrix = embedding_matrix\n",
    "\n",
    "        # Count word occurrences efficiently\n",
    "        word_counts = Counter(all_words)\n",
    "\n",
    "        # Get the top 'max_vocab_words' most common words\n",
    "        self.vocab = [word for word, _ in word_counts.most_common(max_vocab_words)]\n",
    "\n",
    "    def textToVector(self,tokens):\n",
    "        # First we need to split the text into its tokens and learn the length\n",
    "        # For any amount of words inputted, we get the sentence vector for a particular input\n",
    "\n",
    "        vec = [np.zeros(300, )] # initialise with zeros\n",
    "        for tok in tokens:\n",
    "            #for tok in tokens[:len_v+1]:\n",
    "            try:\n",
    "                #for each matching token, append it\n",
    "                vec.append(self.embed_matrix.get_vector(tok, norm=True))\n",
    "            except Exception as E:\n",
    "                #vec.append(np.random.normal(0,np.sqrt(0.25),300))\n",
    "                pass\n",
    "\n",
    "        # extract vectors per token, and then sum them\n",
    "        return np.sum(vec, axis=0).flatten().tolist()"
   ],
   "metadata": {
    "id": "H9SNmc4Cie88",
    "executionInfo": {
     "status": "ok",
     "timestamp": 1705514239471,
     "user_tz": -60,
     "elapsed": 272,
     "user": {
      "displayName": "Isaac Borg",
      "userId": "02222030951437143669"
     }
    }
   },
   "execution_count": 14,
   "outputs": []
  },
  {
   "cell_type": "code",
   "source": [],
   "metadata": {
    "colab": {
     "base_uri": "https://localhost:8080/"
    },
    "id": "6ImpTfz3lFLb",
    "executionInfo": {
     "status": "ok",
     "timestamp": 1705514461604,
     "user_tz": -60,
     "elapsed": 65230,
     "user": {
      "displayName": "Isaac Borg",
      "userId": "02222030951437143669"
     }
    },
    "outputId": "07fe470b-09f1-49e0-e198-d3f4fc0f84e8"
   },
   "execution_count": 18,
   "outputs": [
    {
     "output_type": "stream",
     "name": "stdout",
     "text": [
      "This process took 64.93 seconds.\n"
     ]
    }
   ]
  },
  {
   "cell_type": "code",
   "source": [
    "#from sklearn.svm import SVC\n",
    "from gensim.models.keyedvectors import KeyedVectors\n",
    "import gensim\n",
    "import time\n",
    "start = time.time()\n",
    "pre_trained_model_wv = KeyedVectors.load_word2vec_format('drive/MyDrive/input/GoogleNews-vectors-negative300.bin.gz', binary=True)\n",
    "\n",
    "end = round(time.time()-start,2)\n",
    "print(\"This process took\",end,\"seconds.\")\n",
    "\n",
    "\n",
    "start = time.time()"
   ],
   "metadata": {
    "id": "BdWDlQPqi00j",
    "executionInfo": {
     "status": "ok",
     "timestamp": 1705514464788,
     "user_tz": -60,
     "elapsed": 294,
     "user": {
      "displayName": "Isaac Borg",
      "userId": "02222030951437143669"
     }
    }
   },
   "execution_count": 19,
   "outputs": []
  },
  {
   "cell_type": "code",
   "source": [
    "X,Y = df['title'],df['label']\n",
    "#80% to train , 20% for testing\n",
    "X_train, X_test, y_train, y_test = train_test_split(X,Y, test_size=0.2, random_state=42, stratify=Y)"
   ],
   "metadata": {
    "id": "_k7GFjNmiuA_",
    "executionInfo": {
     "status": "ok",
     "timestamp": 1705514465980,
     "user_tz": -60,
     "elapsed": 3,
     "user": {
      "displayName": "Isaac Borg",
      "userId": "02222030951437143669"
     }
    }
   },
   "execution_count": 20,
   "outputs": []
  },
  {
   "cell_type": "code",
   "source": [
    "y_train = np.asarray(y_train)\n",
    "y_test = np.asarray(y_test)"
   ],
   "metadata": {
    "colab": {
     "base_uri": "https://localhost:8080/"
    },
    "id": "5OJ3bg1ei__i",
    "executionInfo": {
     "status": "ok",
     "timestamp": 1705514476821,
     "user_tz": -60,
     "elapsed": 9700,
     "user": {
      "displayName": "Isaac Borg",
      "userId": "02222030951437143669"
     }
    },
    "outputId": "57e20057-0107-4023-a58b-9309a7d2afe3"
   },
   "execution_count": 21,
   "outputs": [
    {
     "output_type": "stream",
     "name": "stdout",
     "text": [
      "(49025, 300)\n",
      "(12257, 300)\n"
     ]
    }
   ]
  },
  {
   "cell_type": "code",
   "source": [
    "from sklearn.preprocessing import StandardScaler\n",
    "sequencer=Sequencer(all_words = [token for seq in X for token in seq], max_vocab_words = 20000, embedding_matrix = pre_trained_model_wv)\n",
    "x_train_vecs = np.asarray([sequencer.textToVector(tokens) for tokens in X_train])\n",
    "x_test_vecs = np.asarray([sequencer.textToVector(tokens) for tokens in X_test])\n",
    "\n",
    "scaler = StandardScaler().fit(x_train_vecs)\n",
    "x_train_vecs = scaler.transform(x_train_vecs)\n",
    "x_test_vecs = scaler.transform(x_test_vecs)\n",
    "print(x_train_vecs.shape)\n",
    "print(x_test_vecs.shape)"
   ],
   "metadata": {
    "colab": {
     "base_uri": "https://localhost:8080/",
     "height": 317
    },
    "id": "xdEpySYAjFr7",
    "executionInfo": {
     "status": "error",
     "timestamp": 1705514483788,
     "user_tz": -60,
     "elapsed": 285,
     "user": {
      "displayName": "Isaac Borg",
      "userId": "02222030951437143669"
     }
    },
    "outputId": "f5e4cefc-b016-43ea-dbaf-7fe3c4151664"
   },
   "execution_count": 22,
   "outputs": [
    {
     "output_type": "stream",
     "name": "stdout",
     "text": [
      "Original labels: {'PARENTING AND EDUCATION', 'GENERAL', 'SPORTS AND ENTERTAINMENT', 'ENVIRONMENT', 'EMPOWERED VOICES', 'WORLDNEWS', 'LIFESTYLE AND WELLNESS', 'MISC'}\n",
      "Y_train: Encoded labels (integer IDs): [7 2 3 ... 6 6 2]\n",
      "Y_test: Encoded labels (integer IDs): [3 4 2 ... 4 2 6]\n",
      "{'class_labels': ['EMPOWERED VOICES', 'ENVIRONMENT', 'GENERAL', 'LIFESTYLE AND WELLNESS', 'MISC', 'PARENTING AND EDUCATION', 'SPORTS AND ENTERTAINMENT', 'WORLDNEWS'], 'integer_to_label': {0: 'EMPOWERED VOICES', 1: 'ENVIRONMENT', 2: 'GENERAL', 3: 'LIFESTYLE AND WELLNESS', 4: 'MISC', 5: 'PARENTING AND EDUCATION', 6: 'SPORTS AND ENTERTAINMENT', 7: 'WORLDNEWS'}, 'label_to_integer': {'EMPOWERED VOICES': 0, 'ENVIRONMENT': 1, 'GENERAL': 2, 'LIFESTYLE AND WELLNESS': 3, 'MISC': 4, 'PARENTING AND EDUCATION': 5, 'SPORTS AND ENTERTAINMENT': 6, 'WORLDNEWS': 7}}\n"
     ]
    },
    {
     "output_type": "error",
     "ename": "FileNotFoundError",
     "evalue": "[Errno 2] No such file or directory: 'drive/MyDrive/trials/label_encoder_mappings.pkl'",
     "traceback": [
      "\u001B[0;31m---------------------------------------------------------------------------\u001B[0m",
      "\u001B[0;31mFileNotFoundError\u001B[0m                         Traceback (most recent call last)",
      "\u001B[0;32m<ipython-input-22-1f923e3e996e>\u001B[0m in \u001B[0;36m<cell line: 27>\u001B[0;34m()\u001B[0m\n\u001B[1;32m     25\u001B[0m \u001B[0mprint\u001B[0m\u001B[0;34m(\u001B[0m\u001B[0mencoder_mappings\u001B[0m\u001B[0;34m)\u001B[0m\u001B[0;34m\u001B[0m\u001B[0;34m\u001B[0m\u001B[0m\n\u001B[1;32m     26\u001B[0m \u001B[0;34m\u001B[0m\u001B[0m\n\u001B[0;32m---> 27\u001B[0;31m \u001B[0;32mwith\u001B[0m \u001B[0mopen\u001B[0m\u001B[0;34m(\u001B[0m\u001B[0;34m'drive/MyDrive/trials/label_encoder_mappings.pkl'\u001B[0m\u001B[0;34m,\u001B[0m \u001B[0;34m'wb'\u001B[0m\u001B[0;34m)\u001B[0m \u001B[0;32mas\u001B[0m \u001B[0mfile\u001B[0m\u001B[0;34m:\u001B[0m\u001B[0;34m\u001B[0m\u001B[0;34m\u001B[0m\u001B[0m\n\u001B[0m\u001B[1;32m     28\u001B[0m     \u001B[0mpickle\u001B[0m\u001B[0;34m.\u001B[0m\u001B[0mdump\u001B[0m\u001B[0;34m(\u001B[0m\u001B[0mencoder_mappings\u001B[0m\u001B[0;34m,\u001B[0m \u001B[0mfile\u001B[0m\u001B[0;34m)\u001B[0m\u001B[0;34m\u001B[0m\u001B[0;34m\u001B[0m\u001B[0m\n",
      "\u001B[0;31mFileNotFoundError\u001B[0m: [Errno 2] No such file or directory: 'drive/MyDrive/trials/label_encoder_mappings.pkl'"
     ]
    }
   ]
  },
  {
   "cell_type": "code",
   "source": [
    "import numpy as np\n",
    "from sklearn.preprocessing import LabelEncoder\n",
    "import pickle\n",
    "#chat gpt\n",
    "\n",
    "# Assuming y is your 1D array of string category labels\n",
    "y_target = set(y_test)\n",
    "\n",
    "# Step 1: Use LabelEncoder to convert string labels to integer IDs\n",
    "label_encoder = LabelEncoder()\n",
    "y_train_simple = label_encoder.fit_transform(y_train)\n",
    "y_test_simple = label_encoder.fit_transform(y_test)\n",
    "\n",
    "# Print the results\n",
    "print(\"Original labels:\", y_target)\n",
    "print(\"Y_train: Encoded labels (integer IDs):\", y_train_simple)\n",
    "print(\"Y_test: Encoded labels (integer IDs):\", y_test_simple)\n",
    "\n",
    "#chat gpt\n",
    "encoder_mappings = {\n",
    "    'class_labels': label_encoder.classes_.tolist(),\n",
    "    'integer_to_label': dict(zip(range(len(label_encoder.classes_)), label_encoder.classes_)),\n",
    "    'label_to_integer': dict(zip(label_encoder.classes_, range(len(label_encoder.classes_))))\n",
    "}\n",
    "print(encoder_mappings)\n",
    "\n",
    "with open('drive/MyDrive/trials/label_encoder_mappings.pkl', 'wb') as file:\n",
    "    pickle.dump(encoder_mappings, file)"
   ],
   "metadata": {
    "colab": {
     "base_uri": "https://localhost:8080/",
     "height": 1000
    },
    "id": "pGQIu_-Dj3tf",
    "executionInfo": {
     "status": "ok",
     "timestamp": 1705514518895,
     "user_tz": -60,
     "elapsed": 17560,
     "user": {
      "displayName": "Isaac Borg",
      "userId": "02222030951437143669"
     }
    },
    "outputId": "96871565-87ae-49a9-f03a-34b2ae381193"
   },
   "execution_count": 23,
   "outputs": [
    {
     "output_type": "stream",
     "name": "stderr",
     "text": [
      "/usr/local/lib/python3.10/dist-packages/sklearn/linear_model/_logistic.py:458: ConvergenceWarning: lbfgs failed to converge (status=1):\n",
      "STOP: TOTAL NO. of ITERATIONS REACHED LIMIT.\n",
      "\n",
      "Increase the number of iterations (max_iter) or scale the data as shown in:\n",
      "    https://scikit-learn.org/stable/modules/preprocessing.html\n",
      "Please also refer to the documentation for alternative solver options:\n",
      "    https://scikit-learn.org/stable/modules/linear_model.html#logistic-regression\n",
      "  n_iter_i = _check_optimize_result(\n"
     ]
    },
    {
     "output_type": "stream",
     "name": "stdout",
     "text": [
      "              precision    recall  f1-score   support\n",
      "\n",
      "           0       0.62      0.55      0.59      1586\n",
      "           1       0.65      0.59      0.62       523\n",
      "           2       0.62      0.56      0.59      1372\n",
      "           3       0.76      0.79      0.77      1282\n",
      "           4       0.75      0.73      0.74      2487\n",
      "           5       0.68      0.63      0.66       779\n",
      "           6       0.66      0.78      0.71      2544\n",
      "           7       0.78      0.78      0.78      1684\n",
      "\n",
      "    accuracy                           0.70     12257\n",
      "   macro avg       0.69      0.68      0.68     12257\n",
      "weighted avg       0.70      0.70      0.70     12257\n",
      "\n"
     ]
    },
    {
     "output_type": "display_data",
     "data": {
      "text/plain": [
       "<Figure size 1000x1000 with 2 Axes>"
      ],
      "image/png": "[encoded data removed]"
     },
     "metadata": {}
    }
   ]
  },
  {
   "cell_type": "code",
   "source": [
    "from sklearn.linear_model import LogisticRegression\n",
    "\n",
    "# Assuming the Sequencer class is defined as provided in your previous code\n",
    "\n",
    "# Initialize Sequencer with the necessary parameters\n",
    "sequencer = Sequencer(all_words=[token for seq in X for token in seq], max_vocab_words=20000, embedding_matrix=pre_trained_model_wv)\n",
    "\n",
    "# Convert text data into vectors using Sequencer\n",
    "x_train_vecs = np.asarray([sequencer.textToVector(tokens) for tokens in X_train])\n",
    "x_test_vecs = np.asarray([sequencer.textToVector(tokens) for tokens in X_test])\n",
    "\n",
    "# Train Logistic Regression model\n",
    "logistic_regression_model = LogisticRegression(random_state=42)\n",
    "logistic_regression_model.fit(x_train_vecs, y_train_simple)\n",
    "\n",
    "# Evaluate Logistic Regression Model on Test Set\n",
    "test_pred = logistic_regression_model.predict(x_test_vecs)\n",
    "\n",
    "# Confusion Matrix and Classification Report for Logistic Regression Model on Test Set\n",
    "print(classification_report(y_test_simple, test_pred))\n",
    "cf_matrix_test = confusion_matrix(y_test_simple, test_pred)\n",
    "\n",
    "# Plot Confusion Matrix for Test Set\n",
    "plt.figure(figsize=(10,10))\n",
    "heatmap_test = sns.heatmap(cf_matrix_test, xticklabels=label_encoder.classes_,\n",
    "                           yticklabels=label_encoder.classes_,\n",
    "                           annot=True, fmt='d', color='blue')\n",
    "plt.xlabel('Predicted class')\n",
    "plt.ylabel('True class')\n",
    "plt.title('Confusion matrix of Logistic Regression model on Test Set')\n",
    "plt.show()\n"
   ],
   "metadata": {
    "colab": {
     "base_uri": "https://localhost:8080/"
    },
    "id": "JZpZ75B37Eap",
    "executionInfo": {
     "status": "ok",
     "timestamp": 1705515917819,
     "user_tz": -60,
     "elapsed": 287,
     "user": {
      "displayName": "Isaac Borg",
      "userId": "02222030951437143669"
     }
    },
    "outputId": "8349618e-6e3d-47b6-a75e-c6ac99dd974b"
   },
   "execution_count": 26,
   "outputs": [
    {
     "output_type": "stream",
     "name": "stdout",
     "text": [
      "Logistic Regression model saved at: drive/MyDrive/logistic_regression_model.pickle\n"
     ]
    }
   ]
  },
  {
   "cell_type": "code",
   "execution_count": null,
   "outputs": [],
   "source": [
    "import pickle\n",
    "model_save_path = 'drive/MyDrive/logistic_regression_model.pickle'\n",
    "\n",
    "with open(model_save_path, 'wb') as handle:\n",
    "    pickle.dump(logistic_regression_model, handle)\n",
    "\n",
    "print(f\"Logistic Regression model saved at: {model_save_path}\")"
   ],
   "metadata": {
    "collapsed": false
   }
  }
 ],
 "metadata": {
  "kernelspec": {
   "name": "python3",
   "display_name": "Python 3"
  },
  "language_info": {
   "name": "python",
   "version": "3.7.6",
   "mimetype": "text/x-python",
   "codemirror_mode": {
    "name": "ipython",
    "version": 3
   },
   "pygments_lexer": "ipython3",
   "nbconvert_exporter": "python",
   "file_extension": ".py"
  },
  "colab": {
   "provenance": [],
   "gpuType": "T4"
  },
  "accelerator": "GPU"
 },
 "nbformat": 4,
 "nbformat_minor": 0
}
